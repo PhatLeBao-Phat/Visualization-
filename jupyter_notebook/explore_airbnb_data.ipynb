{
 "cells": [
  {
   "cell_type": "code",
   "execution_count": 4,
   "id": "16db3608",
   "metadata": {},
   "outputs": [],
   "source": [
    "import pandas as pd\n",
    "import os"
   ]
  },
  {
   "cell_type": "code",
   "execution_count": 5,
   "id": "f5821348",
   "metadata": {},
   "outputs": [],
   "source": [
    "# Set the working directory\n",
    "directory = \"c:\\\\Users\\\\PC\\\\Documents\\\\Tue course\\\\Visualization\\\\Project\"\n",
    "os.chdir(directory)"
   ]
  },
  {
   "cell_type": "code",
   "execution_count": 6,
   "id": "720f7a3f",
   "metadata": {},
   "outputs": [
    {
     "name": "stderr",
     "output_type": "stream",
     "text": [
      "c:\\Users\\PC\\AppData\\Local\\Programs\\Python\\Python39\\lib\\site-packages\\IPython\\core\\interactiveshell.py:3397: DtypeWarning: Columns (25) have mixed types.Specify dtype option on import or set low_memory=False.\n",
      "  exec(code_obj, self.user_global_ns, self.user_ns)\n"
     ]
    }
   ],
   "source": [
    "# Read the data set \n",
    "df = pd.read_csv(\"data/airbnb_open_data.csv\")"
   ]
  },
  {
   "cell_type": "code",
   "execution_count": 8,
   "id": "f83b80b6",
   "metadata": {},
   "outputs": [
    {
     "data": {
      "text/plain": [
       "['id',\n",
       " 'NAME',\n",
       " 'host id',\n",
       " 'host_identity_verified',\n",
       " 'host name',\n",
       " 'neighbourhood group',\n",
       " 'neighbourhood',\n",
       " 'lat',\n",
       " 'long',\n",
       " 'country',\n",
       " 'country code',\n",
       " 'instant_bookable',\n",
       " 'cancellation_policy',\n",
       " 'room type',\n",
       " 'Construction year',\n",
       " 'price',\n",
       " 'service fee',\n",
       " 'minimum nights',\n",
       " 'number of reviews',\n",
       " 'last review',\n",
       " 'reviews per month',\n",
       " 'review rate number',\n",
       " 'calculated host listings count',\n",
       " 'availability 365',\n",
       " 'house_rules',\n",
       " 'license']"
      ]
     },
     "execution_count": 8,
     "metadata": {},
     "output_type": "execute_result"
    }
   ],
   "source": [
    "# List of attributes\n",
    "list(df.columns)"
   ]
  },
  {
   "cell_type": "markdown",
   "id": "cd4dfdf2",
   "metadata": {
    "scrolled": true
   },
   "source": [
    "## Investigate missing data values, and relations, or measurement errors"
   ]
  },
  {
   "cell_type": "markdown",
   "id": "91a799cf",
   "metadata": {},
   "source": [
    "- **id**: Airbnb's unique identifier for the listing\n",
    "- **NAME**: name of the host \n",
    "- **host id**: Airbnb's unique identifier for the host/user\n",
    "- **host_identity_verified**:\n",
    "- **host name**:\n",
    "- **neighbourhood group**: Group of neighbourhood - Kinda geo-system in America\n",
    "- **Neighbourhood**: exact neighboorhood\n",
    "- **lat**: katitude \n",
    "- **long**: longtitude \n",
    "- **country**:\n",
    "- **country code**:\n",
    "- **instant_bookable**: it is instant-bookable or not\n",
    "- **cancellation_policy**: strict/moderate/flexible/nan\n",
    "- **room type**: \n",
    "- **Construction year**:\n",
    "- **price**:\n",
    "- **service fee**:\n",
    "- **minimum nights**: \n",
    "- **numbe of reviews**:\n",
    "- **last review**: The date of the last/newest review\n",
    "- **review per month**: The number of reviews the listing has over the lifetime of the listing\n",
    "- **review rate number**:\n",
    "- **calculated host listings count**: The number of listings the host has in the current scrape, in the city/region geography.\n",
    "- **availability 365**: The availability of the listing x days in the future as determined by the calendar. Note a listing may not be available because it has been booked by a guest or blocked by the host.\n",
    "- **house_rules**: text \n",
    "- **license**: The licence/permit/registration number"
   ]
  },
  {
   "cell_type": "code",
   "execution_count": 9,
   "id": "6a2df731",
   "metadata": {},
   "outputs": [
    {
     "data": {
      "text/plain": [
       "id                                  int64\n",
       "NAME                               object\n",
       "host id                             int64\n",
       "host_identity_verified             object\n",
       "host name                          object\n",
       "neighbourhood group                object\n",
       "neighbourhood                      object\n",
       "lat                               float64\n",
       "long                              float64\n",
       "country                            object\n",
       "country code                       object\n",
       "instant_bookable                   object\n",
       "cancellation_policy                object\n",
       "room type                          object\n",
       "Construction year                 float64\n",
       "price                              object\n",
       "service fee                        object\n",
       "minimum nights                    float64\n",
       "number of reviews                 float64\n",
       "last review                        object\n",
       "reviews per month                 float64\n",
       "review rate number                float64\n",
       "calculated host listings count    float64\n",
       "availability 365                  float64\n",
       "house_rules                        object\n",
       "license                            object\n",
       "dtype: object"
      ]
     },
     "execution_count": 9,
     "metadata": {},
     "output_type": "execute_result"
    }
   ],
   "source": [
    "# Data type and Non-Null Count \n",
    "df.dtypes"
   ]
  },
  {
   "cell_type": "code",
   "execution_count": 16,
   "id": "f2bda194",
   "metadata": {},
   "outputs": [
    {
     "data": {
      "text/plain": [
       "id                                     0\n",
       "NAME                                 250\n",
       "host id                                0\n",
       "host_identity_verified               289\n",
       "host name                            406\n",
       "neighbourhood group                   29\n",
       "neighbourhood                         16\n",
       "lat                                    8\n",
       "long                                   8\n",
       "country                              532\n",
       "country code                         131\n",
       "instant_bookable                     105\n",
       "cancellation_policy                   76\n",
       "room type                              0\n",
       "Construction year                    214\n",
       "price                                247\n",
       "service fee                          273\n",
       "minimum nights                       409\n",
       "number of reviews                    183\n",
       "last review                        15893\n",
       "reviews per month                  15879\n",
       "review rate number                   326\n",
       "calculated host listings count       319\n",
       "availability 365                     448\n",
       "house_rules                        52131\n",
       "license                           102597\n",
       "dtype: int64"
      ]
     },
     "execution_count": 16,
     "metadata": {},
     "output_type": "execute_result"
    }
   ],
   "source": [
    "# Non-Null Count \n",
    "df.apply(lambda col: sum(col.isnull()), axis=0)"
   ]
  },
  {
   "cell_type": "code",
   "execution_count": 24,
   "id": "cb0fc62b",
   "metadata": {},
   "outputs": [
    {
     "data": {
      "text/html": [
       "<div>\n",
       "<style scoped>\n",
       "    .dataframe tbody tr th:only-of-type {\n",
       "        vertical-align: middle;\n",
       "    }\n",
       "\n",
       "    .dataframe tbody tr th {\n",
       "        vertical-align: top;\n",
       "    }\n",
       "\n",
       "    .dataframe thead th {\n",
       "        text-align: right;\n",
       "    }\n",
       "</style>\n",
       "<table border=\"1\" class=\"dataframe\">\n",
       "  <thead>\n",
       "    <tr style=\"text-align: right;\">\n",
       "      <th></th>\n",
       "      <th>last review</th>\n",
       "    </tr>\n",
       "  </thead>\n",
       "  <tbody>\n",
       "    <tr>\n",
       "      <th>0</th>\n",
       "      <td>10/19/2021</td>\n",
       "    </tr>\n",
       "    <tr>\n",
       "      <th>1</th>\n",
       "      <td>5/21/2022</td>\n",
       "    </tr>\n",
       "    <tr>\n",
       "      <th>2</th>\n",
       "      <td>NaN</td>\n",
       "    </tr>\n",
       "    <tr>\n",
       "      <th>3</th>\n",
       "      <td>7/5/2019</td>\n",
       "    </tr>\n",
       "    <tr>\n",
       "      <th>4</th>\n",
       "      <td>11/19/2018</td>\n",
       "    </tr>\n",
       "    <tr>\n",
       "      <th>...</th>\n",
       "      <td>...</td>\n",
       "    </tr>\n",
       "    <tr>\n",
       "      <th>102594</th>\n",
       "      <td>NaN</td>\n",
       "    </tr>\n",
       "    <tr>\n",
       "      <th>102595</th>\n",
       "      <td>7/6/2015</td>\n",
       "    </tr>\n",
       "    <tr>\n",
       "      <th>102596</th>\n",
       "      <td>NaN</td>\n",
       "    </tr>\n",
       "    <tr>\n",
       "      <th>102597</th>\n",
       "      <td>10/11/2015</td>\n",
       "    </tr>\n",
       "    <tr>\n",
       "      <th>102598</th>\n",
       "      <td>NaN</td>\n",
       "    </tr>\n",
       "  </tbody>\n",
       "</table>\n",
       "<p>102599 rows × 1 columns</p>\n",
       "</div>"
      ],
      "text/plain": [
       "       last review\n",
       "0       10/19/2021\n",
       "1        5/21/2022\n",
       "2              NaN\n",
       "3         7/5/2019\n",
       "4       11/19/2018\n",
       "...            ...\n",
       "102594         NaN\n",
       "102595    7/6/2015\n",
       "102596         NaN\n",
       "102597  10/11/2015\n",
       "102598         NaN\n",
       "\n",
       "[102599 rows x 1 columns]"
      ]
     },
     "execution_count": 24,
     "metadata": {},
     "output_type": "execute_result"
    }
   ],
   "source": [
    "df[['last review']]"
   ]
  },
  {
   "cell_type": "markdown",
   "id": "2a49ecee",
   "metadata": {},
   "source": [
    "## Conclusion "
   ]
  },
  {
   "cell_type": "markdown",
   "id": "de080e7a",
   "metadata": {},
   "source": [
    "There are a hella lots of NaN values in *last review*, *reviews per month*, *review rate number*, *house_rules*, *licenses*. Basically, the optional information of the places are usually not included by the host. There are a couple ways to deal with this:\n",
    "- Deleting Rows with missing values\n",
    "- Impute missing values for continuous variable: using mean or median\n",
    "- Impute missing values for categorical variable: using the highest frequency label\n",
    "- Other Imputation Methods: Last observation carried forward (LOCF), \n",
    "- Prediction of missing values: Using model to predict the missing values -> we probably not gonna do this but I can do it if we have time\n",
    "\n",
    "**Still we need to envision what the general tools and the goals/tasks-action look like first. Then choosing the attributes.**"
   ]
  },
  {
   "cell_type": "markdown",
   "id": "7fa6cca0",
   "metadata": {},
   "source": [
    "Here is the source: https://towardsdatascience.com/7-ways-to-handle-missing-values-in-machine-learning-1a6326adf79e"
   ]
  }
 ],
 "metadata": {
  "kernelspec": {
   "display_name": "Python 3.9.7 64-bit",
   "language": "python",
   "name": "python3"
  },
  "language_info": {
   "codemirror_mode": {
    "name": "ipython",
    "version": 3
   },
   "file_extension": ".py",
   "mimetype": "text/x-python",
   "name": "python",
   "nbconvert_exporter": "python",
   "pygments_lexer": "ipython3",
   "version": "3.9.7"
  },
  "vscode": {
   "interpreter": {
    "hash": "f6c8f846148a3e4d140e6ddf63c190cff559dcf260a4a21539f0978f2b58638c"
   }
  }
 },
 "nbformat": 4,
 "nbformat_minor": 5
}
