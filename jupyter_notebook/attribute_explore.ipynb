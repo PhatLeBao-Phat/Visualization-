{
 "cells": [
  {
   "cell_type": "code",
   "execution_count": 2,
   "metadata": {},
   "outputs": [],
   "source": [
    "import pandas as pd \n",
    "import os"
   ]
  },
  {
   "cell_type": "code",
   "execution_count": 5,
   "metadata": {},
   "outputs": [],
   "source": [
    "# Set the working directory\n",
    "directory = \"c:\\\\Users\\\\PC\\\\Documents\\\\Tue course\\\\Visualization\\\\Project\"\n",
    "os.chdir(directory)"
   ]
  },
  {
   "cell_type": "code",
   "execution_count": 6,
   "metadata": {},
   "outputs": [
    {
     "name": "stderr",
     "output_type": "stream",
     "text": [
      "c:\\Users\\PC\\AppData\\Local\\Programs\\Python\\Python39\\lib\\site-packages\\IPython\\core\\interactiveshell.py:3397: DtypeWarning: Columns (25) have mixed types.Specify dtype option on import or set low_memory=False.\n",
      "  exec(code_obj, self.user_global_ns, self.user_ns)\n"
     ]
    }
   ],
   "source": [
    "# Read the data set \n",
    "df = pd.read_csv(\"data/airbnb_open_data.csv\")"
   ]
  },
  {
   "cell_type": "code",
   "execution_count": 13,
   "metadata": {},
   "outputs": [
    {
     "data": {
      "text/plain": [
       "['id',\n",
       " 'NAME',\n",
       " 'host id',\n",
       " 'host_identity_verified',\n",
       " 'host name',\n",
       " 'neighbourhood group',\n",
       " 'neighbourhood',\n",
       " 'lat',\n",
       " 'long',\n",
       " 'country',\n",
       " 'country code',\n",
       " 'instant_bookable',\n",
       " 'cancellation_policy',\n",
       " 'room type',\n",
       " 'Construction year',\n",
       " 'price',\n",
       " 'service fee',\n",
       " 'minimum nights',\n",
       " 'number of reviews',\n",
       " 'last review',\n",
       " 'reviews per month',\n",
       " 'review rate number',\n",
       " 'calculated host listings count',\n",
       " 'availability 365',\n",
       " 'house_rules',\n",
       " 'license']"
      ]
     },
     "execution_count": 13,
     "metadata": {},
     "output_type": "execute_result"
    }
   ],
   "source": [
    "# Attributes \n",
    "list(df.columns)"
   ]
  },
  {
   "cell_type": "code",
   "execution_count": 15,
   "metadata": {},
   "outputs": [
    {
     "data": {
      "text/plain": [
       "id                                [1001254, 1002102, 1002403, 1002755, 1003689, ...\n",
       "NAME                              [Clean & quiet apt home by the park, Skylit Mi...\n",
       "host id                           [80014485718, 52335172823, 78829239556, 850983...\n",
       "host_identity_verified                                 [unconfirmed, verified, nan]\n",
       "host name                         [Madaline, Jenna, Elise, Garry, Lyndon, Michel...\n",
       "neighbourhood group               [Brooklyn, Manhattan, brookln, manhatan, Queen...\n",
       "neighbourhood                     [Kensington, Midtown, Harlem, Clinton Hill, Ea...\n",
       "lat                               [40.64749, 40.75362, 40.80902, 40.68514, 40.79...\n",
       "long                              [-73.97237, -73.98377, -73.9419, -73.95976, -7...\n",
       "country                                                        [United States, nan]\n",
       "country code                                                              [US, nan]\n",
       "instant_bookable                                                 [False, True, nan]\n",
       "cancellation_policy                               [strict, moderate, flexible, nan]\n",
       "room type                         [Private room, Entire home/apt, Shared room, H...\n",
       "Construction year                 [2020.0, 2007.0, 2005.0, 2009.0, 2013.0, 2015....\n",
       "price                             [$966 , $142 , $620 , $368 , $204 , $577 , $71...\n",
       "service fee                       [$193 , $28 , $124 , $74 , $41 , $115 , $14 , ...\n",
       "minimum nights                    [10.0, 30.0, 3.0, 45.0, 2.0, 1.0, 5.0, 4.0, 90...\n",
       "number of reviews                 [9.0, 45.0, 0.0, 270.0, 74.0, 49.0, 430.0, 118...\n",
       "last review                       [10/19/2021, 5/21/2022, nan, 7/5/2019, 11/19/2...\n",
       "reviews per month                 [0.21, 0.38, nan, 4.64, 0.1, 0.59, 0.4, 3.47, ...\n",
       "review rate number                                   [4.0, 5.0, 3.0, nan, 2.0, 1.0]\n",
       "calculated host listings count    [6.0, 2.0, 1.0, 4.0, 3.0, nan, 5.0, 7.0, 13.0,...\n",
       "availability 365                  [286.0, 228.0, 352.0, 322.0, 289.0, 374.0, 224...\n",
       "house_rules                       [Clean up and treat the home the way you'd lik...\n",
       "license                                                             [nan, 41662/AL]\n",
       "dtype: object"
      ]
     },
     "execution_count": 15,
     "metadata": {},
     "output_type": "execute_result"
    }
   ],
   "source": [
    "# Explore unique values \n",
    "df.apply(lambda col: col.unique())"
   ]
  }
 ],
 "metadata": {
  "kernelspec": {
   "display_name": "Python 3.9.7 64-bit",
   "language": "python",
   "name": "python3"
  },
  "language_info": {
   "codemirror_mode": {
    "name": "ipython",
    "version": 3
   },
   "file_extension": ".py",
   "mimetype": "text/x-python",
   "name": "python",
   "nbconvert_exporter": "python",
   "pygments_lexer": "ipython3",
   "version": "3.9.7"
  },
  "orig_nbformat": 4,
  "vscode": {
   "interpreter": {
    "hash": "f6c8f846148a3e4d140e6ddf63c190cff559dcf260a4a21539f0978f2b58638c"
   }
  }
 },
 "nbformat": 4,
 "nbformat_minor": 2
}
