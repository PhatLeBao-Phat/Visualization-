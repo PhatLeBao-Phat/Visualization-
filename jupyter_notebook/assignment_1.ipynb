{
 "cells": [
  {
   "cell_type": "markdown",
   "id": "d83beee4",
   "metadata": {},
   "source": [
    "# Assignment 1\n",
    "We choose the dataset [Aribnb Dataset](https://www.kaggle.com/datasets/arianazmoudeh/airbnbopendata) \n",
    "\n",
    "Information on all [attributes](https://docs.google.com/spreadsheets/d/1b_dvmyhb_kAJhUmv81rAxl4KcXn0Pymz/edit#gid=1967362979 ) in the dataset"
   ]
  },
  {
   "cell_type": "markdown",
   "id": "49232fff",
   "metadata": {},
   "source": [
    "## Exercise 0\n",
    "- (a)  What is the information you can obtain from the dataset / data sets? \n",
    "- (b)  What are the attributes in the data and what is their meaning? \n",
    "- (c)  Write a small parsing function that can read the data position (column, row)  from the file format you selected.  \n",
    "- (d)  Write another function that outputs the distribution of the attributes, and counts the frequencies of the different values.  \n",
    "- (e)  Try  to  describe  the  data  set  in  just  a  few  sentences.  How  is  the  data  provided?  Which  kind  of attributes are contained in the data set? How large is the data set in terms of the number of those elements (listings, reviews, vehicles, geographic regions and locations, extra records, and so on)?  \n",
    "- (f) Analyze  the  errors  and  missing  values.  Write  a  function  to  count  how  many  missing  values  per attribute  and  per  entry  you  have.  Analyze  what  are  the  most  relevant  missing  values  that  might hinder the analysis according to you. "
   ]
  },
  {
   "cell_type": "markdown",
   "id": "7b3db78a",
   "metadata": {},
   "source": [
    "(a) Airbnb is an American organization that offers renting and booking at inviduals, hotels and renters. \n",
    "\n",
    "The dataset contains in general:\n",
    "- Listings\n",
    "- Reviews\n",
    "- Calendar\n"
   ]
  },
  {
   "cell_type": "markdown",
   "id": "1ab3df28",
   "metadata": {},
   "source": [
    "(b) Check the link [attributes](https://docs.google.com/spreadsheets/d/1b_dvmyhb_kAJhUmv81rAxl4KcXn0Pymz/edit#gid=1967362979 )\n",
    "for an elaborate explanation for each attribute"
   ]
  },
  {
   "cell_type": "markdown",
   "id": "2bcdb5c9",
   "metadata": {},
   "source": [
    "(c) \n",
    "- Folder magic\n",
    "- Small parsing function\n",
    "- Test"
   ]
  },
  {
   "cell_type": "code",
   "execution_count": 101,
   "id": "17325b47",
   "metadata": {},
   "outputs": [
    {
     "name": "stdout",
     "output_type": "stream",
     "text": [
      "\u001b[32m Data folder exists\n",
      " \n",
      "\u001b[32m Dataset airbnb_open_data.csv is loaded in succesfully!\n"
     ]
    },
    {
     "name": "stderr",
     "output_type": "stream",
     "text": [
      "C:\\Users\\20213032\\Anaconda3\\lib\\site-packages\\IPython\\core\\interactiveshell.py:3165: DtypeWarning: Columns (25) have mixed types.Specify dtype option on import or set low_memory=False.\n",
      "  has_raised = await self.run_ast_nodes(code_ast.body, cell_name,\n"
     ]
    }
   ],
   "source": [
    "# I need to the os for folder magic\n",
    "import os\n",
    "import pandas as pd\n",
    "\n",
    "# Creates the data folder\n",
    "path_to_folder = os.getcwd()\n",
    "folder_name = \"Data\"\n",
    "path_to_new_folder = os.path.join(path_to_folder, folder_name)\n",
    "if not os.path.exists (path_to_new_folder):\n",
    "    os.mkdir(path_to_new_folder)\n",
    "    print(\"\\x1b[36m Created data folder \\n\")\n",
    "else:\n",
    "    print(\"\\x1b[32m Data folder exists\\n \")\n",
    "    \n",
    "# Checks whether file exists\n",
    "dataset_name = \"airbnb_open_data.csv\"\n",
    "path_to_dataset = os.path.join(path_to_new_folder, dataset_name)\n",
    "\n",
    "if os.path.exists (path_to_dataset):\n",
    "    print(\"\\x1b[32m Dataset {} is loaded in succesfully!\".format(dataset_name))\n",
    "    \n",
    "    # Load in dataset\n",
    "    data = pd.read_csv(path_to_dataset)\n",
    "else:\n",
    "    print(\"\\x1b[31m Dataset still needs to be put in the data folder!\\n \\n Go to canvas page of visualization and go to the datasets in files.\\n Download the airbnb_open_data.csv and put it in the data folder.\")"
   ]
  },
  {
   "cell_type": "code",
   "execution_count": 102,
   "id": "011e1f55",
   "metadata": {},
   "outputs": [],
   "source": [
    "# small parsing function\n",
    "\n",
    "from typing import Union\n",
    "\n",
    "column_names : dict = {}\n",
    "\n",
    "def add_to_dict (dictionary : dict, index : int, element : str) -> None:\n",
    "    dictionary[index] = element\n",
    "\n",
    "[add_to_dict(column_names, k, e) for k, e in enumerate(data.columns)]\n",
    "\n",
    "def return_column_name (dictionary : dict, index : int, show_name : bool = False) -> str:\n",
    "    def _print_(string):\n",
    "        print(\"\\n \\x1b[32m Used column '{}'\\x1b[39m\".format(string))\n",
    "        \n",
    "    def _exists_(string):\n",
    "        exists : bool = string in dictionary.values()\n",
    "        if (exists == False):\n",
    "            print(\"\\x1b[31m Column does not exist in this dataframe\\x1b[39m\")\n",
    "            return False\n",
    "    \n",
    "    if type(index) == int:\n",
    "        column : str = dictionary[index]\n",
    "        if (show_name): \n",
    "            _print_(column)\n",
    "        _exists_(column)\n",
    "        return column\n",
    "    \n",
    "    if (show_name): \n",
    "        _print_(index)\n",
    "    _exists_(index)\n",
    "    return index\n",
    "\n",
    "def parsing (data : dict, row : int, column : Union[int, str]):\n",
    "    \"\"\"\n",
    "    data: containing the dataframe\n",
    "    row: row position\n",
    "    column: column position\n",
    "    \"\"\"\n",
    "    \n",
    "    column = return_column_name(column_names, column, True)\n",
    "        \n",
    "    \n",
    "    return data[column][row]"
   ]
  },
  {
   "cell_type": "code",
   "execution_count": 103,
   "id": "7731b2b2",
   "metadata": {},
   "outputs": [
    {
     "name": "stdout",
     "output_type": "stream",
     "text": [
      "\n",
      " \u001b[32m Used column 'NAME'\u001b[39m\n"
     ]
    },
    {
     "data": {
      "text/plain": [
       "'Skylit Midtown Castle'"
      ]
     },
     "execution_count": 103,
     "metadata": {},
     "output_type": "execute_result"
    }
   ],
   "source": [
    "# It works!\n",
    "parsing(data, 1, 1)"
   ]
  },
  {
   "cell_type": "markdown",
   "id": "cf321ef3",
   "metadata": {},
   "source": [
    "(d)\n",
    "- Distribution function\n",
    "- Distribution function test\n",
    "- Frequency function\n",
    "- Frequency function test"
   ]
  },
  {
   "cell_type": "code",
   "execution_count": 104,
   "id": "f5b6ac93",
   "metadata": {},
   "outputs": [],
   "source": [
    "# Distribution function\n",
    "\n",
    "def show_distribution (data : dict, column : Union[int, str]):\n",
    "    column = return_column_name(column_names, column, True)\n",
    "    \n",
    "    series = data[column]\n",
    "    print(series.dtype)\n",
    "    \n",
    "    data[column].hist()"
   ]
  },
  {
   "cell_type": "code",
   "execution_count": 105,
   "id": "d593b23e",
   "metadata": {},
   "outputs": [
    {
     "name": "stdout",
     "output_type": "stream",
     "text": [
      "\n",
      " \u001b[32m Used column 'room type'\u001b[39m\n",
      "object\n"
     ]
    },
    {
     "data": {
      "image/png": "[encoded data removed]",
      "text/plain": [
       "<Figure size 432x288 with 1 Axes>"
      ]
     },
     "metadata": {
      "needs_background": "light"
     },
     "output_type": "display_data"
    }
   ],
   "source": [
    "# Example: distribution of room_type\n",
    "\n",
    "show_distribution(data, \"room type\")"
   ]
  },
  {
   "cell_type": "code",
   "execution_count": 106,
   "id": "5d270188",
   "metadata": {},
   "outputs": [],
   "source": [
    "# Write another function that outputs the distribution of the attributes, and counts the frequencies of the different values. \n",
    "\n",
    "def show_frequencies (data : dict, column : Union[int, str]):\n",
    "    column = return_column_name(column_names, column, True)\n",
    "    \n",
    "    print(data[column].value_counts())"
   ]
  },
  {
   "cell_type": "code",
   "execution_count": 107,
   "id": "cff19ea7",
   "metadata": {},
   "outputs": [
    {
     "name": "stdout",
     "output_type": "stream",
     "text": [
      "\n",
      " \u001b[32m Used column 'id'\u001b[39m\n",
      "35562613    2\n",
      "20340121    2\n",
      "35580839    2\n",
      "20408053    2\n",
      "20387066    2\n",
      "           ..\n",
      "7015883     1\n",
      "54730185    1\n",
      "55537095    1\n",
      "45839812    1\n",
      "36964351    1\n",
      "Name: id, Length: 102058, dtype: int64\n",
      "\n",
      " \u001b[32m Used column 'NAME'\u001b[39m\n",
      "Home away from home                               33\n",
      "Water View King Bed Hotel Room                    30\n",
      "Hillside Hotel                                    30\n",
      "New york Multi-unit building                      27\n",
      "Brooklyn Apartment                                27\n",
      "                                                  ..\n",
      "Sun Soaked 1 Bedroom in Two Bridges                1\n",
      "Modern west village one bedroom                    1\n",
      "Junior 1-BR in West Village                        1\n",
      "Beautiful Living! Deck& Outdoor Kitchen!           1\n",
      "Quiet Comfortable private room by Times Square     1\n",
      "Name: NAME, Length: 61281, dtype: int64\n",
      "\n",
      " \u001b[32m Used column 'host id'\u001b[39m\n",
      "41672437747    2\n",
      "95854111798    2\n",
      "33358017067    2\n",
      "34842022669    2\n",
      "23923689443    2\n",
      "              ..\n",
      "4126486158     1\n",
      "14946100493    1\n",
      "832898699      1\n",
      "44450368038    1\n",
      "6273863194     1\n",
      "Name: host id, Length: 102057, dtype: int64\n",
      "\n",
      " \u001b[32m Used column 'host_identity_verified'\u001b[39m\n",
      "unconfirmed    51200\n",
      "verified       51110\n",
      "Name: host_identity_verified, dtype: int64\n",
      "\n",
      " \u001b[32m Used column 'host name'\u001b[39m\n",
      "Michael           881\n",
      "David             764\n",
      "John              581\n",
      "Alex              546\n",
      "Sonder (NYC)      516\n",
      "                 ... \n",
      "Evgen               1\n",
      "Sanchit             1\n",
      "Anna + Michael      1\n",
      "Morrece             1\n",
      "Riya                1\n",
      "Name: host name, Length: 13190, dtype: int64\n",
      "\n",
      " \u001b[32m Used column 'neighbourhood group'\u001b[39m\n",
      "Manhattan        43792\n",
      "Brooklyn         41842\n",
      "Queens           13267\n",
      "Bronx             2712\n",
      "Staten Island      955\n",
      "manhatan             1\n",
      "brookln              1\n",
      "Name: neighbourhood group, dtype: int64\n",
      "\n",
      " \u001b[32m Used column 'neighbourhood'\u001b[39m\n",
      "Bedford-Stuyvesant        7937\n",
      "Williamsburg              7775\n",
      "Harlem                    5466\n",
      "Bushwick                  4982\n",
      "Hell's Kitchen            3965\n",
      "                          ... \n",
      "Lighthouse Hill              3\n",
      "Willowbrook                  3\n",
      "Glen Oaks                    2\n",
      "Fort Wadsworth               2\n",
      "Chelsea, Staten Island       1\n",
      "Name: neighbourhood, Length: 224, dtype: int64\n",
      "\n",
      " \u001b[32m Used column 'lat'\u001b[39m\n",
      "40.76411    36\n",
      "40.71813    32\n",
      "40.76125    28\n",
      "40.73756    27\n",
      "40.76106    25\n",
      "            ..\n",
      "40.67636     1\n",
      "40.60801     1\n",
      "40.58618     1\n",
      "40.64652     1\n",
      "40.87223     1\n",
      "Name: lat, Length: 21991, dtype: int64\n",
      "\n",
      " \u001b[32m Used column 'long'\u001b[39m\n",
      "-73.99371    44\n",
      "-73.95350    40\n",
      "-73.94791    37\n",
      "-73.95427    37\n",
      "-73.95677    34\n",
      "             ..\n",
      "-73.89211     1\n",
      "-73.86887     1\n",
      "-73.88550     1\n",
      "-73.87245     1\n",
      "-74.02066     1\n",
      "Name: long, Length: 17774, dtype: int64\n",
      "\n",
      " \u001b[32m Used column 'country'\u001b[39m\n",
      "United States    102067\n",
      "Name: country, dtype: int64\n",
      "\n",
      " \u001b[32m Used column 'country code'\u001b[39m\n",
      "US    102468\n",
      "Name: country code, dtype: int64\n",
      "\n",
      " \u001b[32m Used column 'instant_bookable'\u001b[39m\n",
      "False    51474\n",
      "True     51020\n",
      "Name: instant_bookable, dtype: int64\n",
      "\n",
      " \u001b[32m Used column 'cancellation_policy'\u001b[39m\n",
      "moderate    34343\n",
      "strict      34106\n",
      "flexible    34074\n",
      "Name: cancellation_policy, dtype: int64\n",
      "\n",
      " \u001b[32m Used column 'room type'\u001b[39m\n",
      "Entire home/apt    53701\n",
      "Private room       46556\n",
      "Shared room         2226\n",
      "Hotel room           116\n",
      "Name: room type, dtype: int64\n",
      "\n",
      " \u001b[32m Used column 'Construction year'\u001b[39m\n",
      "2014.0    5243\n",
      "2008.0    5225\n",
      "2006.0    5223\n",
      "2019.0    5201\n",
      "2009.0    5166\n",
      "2020.0    5158\n",
      "2010.0    5155\n",
      "2022.0    5134\n",
      "2005.0    5132\n",
      "2012.0    5131\n",
      "2003.0    5125\n",
      "2007.0    5106\n",
      "2015.0    5094\n",
      "2017.0    5066\n",
      "2011.0    5058\n",
      "2018.0    5057\n",
      "2021.0    5039\n",
      "2004.0    5037\n",
      "2013.0    5018\n",
      "2016.0    5017\n",
      "Name: Construction year, dtype: int64\n",
      "\n",
      " \u001b[32m Used column 'price'\u001b[39m\n",
      "$206       137\n",
      "$1,056     132\n",
      "$481       129\n",
      "$833       128\n",
      "$573       127\n",
      "          ... \n",
      "$369        58\n",
      "$923        57\n",
      "$786        54\n",
      "$89         53\n",
      "$187        52\n",
      "Name: price, Length: 1151, dtype: int64\n",
      "\n",
      " \u001b[32m Used column 'service fee'\u001b[39m\n",
      "$41      526\n",
      "$216     524\n",
      "$81      519\n",
      "$177     518\n",
      "$57      513\n",
      "        ... \n",
      "$73      386\n",
      "$58      384\n",
      "$67      381\n",
      "$10      267\n",
      "$240     248\n",
      "Name: service fee, Length: 231, dtype: int64\n",
      "\n",
      " \u001b[32m Used column 'minimum nights'\u001b[39m\n",
      " 1.0       25421\n",
      " 2.0       23604\n",
      " 3.0       16113\n",
      " 30.0      11653\n",
      " 4.0        6625\n",
      "           ...  \n",
      " 81.0          1\n",
      "-125.0         1\n",
      "-1.0           1\n",
      " 250.0         1\n",
      " 3455.0        1\n",
      "Name: minimum nights, Length: 153, dtype: int64\n",
      "\n",
      " \u001b[32m Used column 'number of reviews'\u001b[39m\n",
      "0.0      15734\n",
      "1.0      10408\n",
      "2.0       7175\n",
      "3.0       5375\n",
      "4.0       4151\n",
      "         ...  \n",
      "566.0        1\n",
      "421.0        1\n",
      "459.0        1\n",
      "432.0        1\n",
      "484.0        1\n",
      "Name: number of reviews, Length: 476, dtype: int64\n",
      "\n",
      " \u001b[32m Used column 'last review'\u001b[39m\n",
      "6/23/2019     2443\n",
      "6/30/2019     2232\n",
      "7/1/2019      2218\n",
      "6/24/2019     1510\n",
      "7/7/2019      1151\n",
      "              ... \n",
      "9/23/2014        1\n",
      "10/17/2014       1\n",
      "9/20/2014        1\n",
      "11/1/2014        1\n",
      "11/4/2014        1\n",
      "Name: last review, Length: 2477, dtype: int64\n",
      "\n",
      " \u001b[32m Used column 'reviews per month'\u001b[39m\n",
      "0.03     1666\n",
      "0.05     1490\n",
      "1.00     1455\n",
      "0.04     1270\n",
      "0.09     1269\n",
      "         ... \n",
      "15.23       1\n",
      "9.12        1\n",
      "12.56       1\n",
      "18.06       1\n",
      "9.16        1\n",
      "Name: reviews per month, Length: 1016, dtype: int64\n",
      "\n",
      " \u001b[32m Used column 'review rate number'\u001b[39m\n",
      "5.0    23369\n",
      "4.0    23329\n",
      "3.0    23265\n",
      "2.0    23098\n",
      "1.0     9212\n",
      "Name: review rate number, dtype: int64\n",
      "\n",
      " \u001b[32m Used column 'calculated host listings count'\u001b[39m\n",
      "1.0     63429\n",
      "2.0     14445\n",
      "3.0      6577\n",
      "4.0      3552\n",
      "5.0      1995\n",
      "        ...  \n",
      "86.0       21\n",
      "22.0       20\n",
      "55.0       15\n",
      "46.0        9\n",
      "80.0        7\n",
      "Name: calculated host listings count, Length: 78, dtype: int64\n",
      "\n",
      " \u001b[32m Used column 'availability 365'\u001b[39m\n",
      " 0.0       23544\n",
      " 365.0      2500\n",
      " 364.0      1168\n",
      " 89.0        751\n",
      " 1.0         734\n",
      "           ...  \n",
      " 412.0        33\n",
      "-6.0          32\n",
      " 401.0        30\n",
      " 391.0        30\n",
      " 3677.0        1\n",
      "Name: availability 365, Length: 438, dtype: int64\n",
      "\n",
      " \u001b[32m Used column 'house_rules'\u001b[39m\n",
      "#NAME?                                                                                                                                                                                                                                                                                                                                                                                                                                                                                                                                                                                                                                                                                                                                                                                                                                                                                                                                                                                                                                      2712\n",
      "House Rules 1. Check-in is 4 pm local time. If the unit is ready earlier, we’ll let you know. Check-out is normally 11 am local time, but we’d be happy to extend it as long as we don’t have a cleaning scheduled. Just let us know.  2. All bookings require a security deposit of at least $300, which will be refunded within 7 days of your check-out. 3. For security measures we require all guests to provide proof of identification through ID verification on our own website. In order to check in we'll need a photo of your ID.  4. Our cancellation policy is as shown on our ad and defined by the site you are booking through.  5. Don’t let $300 go up in smoke. There's no smoking allowed in any Flatbook and a $300 fine for breaking this rule.  6. Unfortunately we don’t allow pets in any of our apartments. 7. Unless you’re staying in one of our specialty apartments, we don’t allow parties or excessive noise. 8. If we find the place very messy, we have to charge an extra $40 for every extra hour o     904\n",
      "Please remember that this is a residential building. The building rules, apartment occupancy restrictions and the year-round tenants must be respected.                                                                                                                                                                                                                                                                                                                                                                                                                                                                                                                                                                                                                                                                                                                                                                                                                                                                                      881\n",
      "No Smoking No Pets                                                                                                                                                                                                                                                                                                                                                                                                                                                                                                                                                                                                                                                                                                                                                                                                                                                                                                                                                                                                                           814\n",
      "Please remember that this is a residential building. The building rules, apartment occupancy restrictions and the year-round tenants must be respected.  Parties, pets and smoking are not allowed under any circumstances and incur significant fees.                                                                                                                                                                                                                                                                                                                                                                                                                                                                                                                                                                                                                                                                                                                                                                                       552\n",
      "                                                                                                                                                                                                                                                                                                                                                                                                                                                                                                                                                                                                                                                                                                                                                                                                                                                                                                                                                                                                                                            ... \n",
      "No drugs/ No loud sex ( sound easily go through to my roomie's room next door ) / ID copy required for check in, and it need to match your credit card information/ Please try to be nice to my fellow roomies, they are all both from China, really organized and nice guys, we are all go to Boston University, we tried really hard to keep this house clean and in the order./ Lost keys charge: $10.00                                                                                                                                                                                                                                                                                                                                                                                                                                                                                                                                                                                                                                    1\n",
      "5 star treatment is given and expected.                                                                                                                                                                                                                                                                                                                                                                                                                                                                                                                                                                                                                                                                                                                                                                                                                                                                                                                                                                                                        1\n",
      "- Quiet time after 13                                                                                                                                                                                                                                                                                                                                                                                                                                                                                                                                                                                                                                                                                                                                                                                                                                                                                                                                                                                                                          1\n",
      "No smoking anywhere in or out of home (guest must be non-smoker) Cologne/perfume/spray use are not allowed any time anywhere (allergy prevent) Please be aware of your actions and always look back before leaving bathroom to make sure everything is left clean Please cause no disturbance and walk the stairs slower to prevent much noise OK to eat in your room but not in bed, always clean/cover food Keep your room clean during your stay Recycle and use reusable shopping bag (provided, please carry with you) Please do not bring plastic bags from stores Ask for help/assistance/information at any time, we want you to feel comfortable Night time help please call from the same phone number twice or more if the call is not answered Do not give mailing address to anyone (ask me why) If guest breaks rule about mailing address, the charge is $202                                                                                                                                                                   1\n",
      "14 nights minimum stay, no smoking or pets.                                                                                                                                                                                                                                                                                                                                                                                                                                                                                                                                                                                                                                                                                                                                                                                                                                                                                                                                                                                                    1\n",
      "Name: house_rules, Length: 1976, dtype: int64\n",
      "\n",
      " \u001b[32m Used column 'license'\u001b[39m\n",
      "41662/AL    2\n",
      "Name: license, dtype: int64\n"
     ]
    },
    {
     "data": {
      "text/plain": [
       "[None,\n",
       " None,\n",
       " None,\n",
       " None,\n",
       " None,\n",
       " None,\n",
       " None,\n",
       " None,\n",
       " None,\n",
       " None,\n",
       " None,\n",
       " None,\n",
       " None,\n",
       " None,\n",
       " None,\n",
       " None,\n",
       " None,\n",
       " None,\n",
       " None,\n",
       " None,\n",
       " None,\n",
       " None,\n",
       " None,\n",
       " None,\n",
       " None,\n",
       " None]"
      ]
     },
     "execution_count": 107,
     "metadata": {},
     "output_type": "execute_result"
    }
   ],
   "source": [
    "# This will show all the frequencies of all attributes\n",
    "[show_frequencies(data, column_name) for column_name in column_names.values()]"
   ]
  },
  {
   "cell_type": "markdown",
   "id": "b12cd618",
   "metadata": {},
   "source": [
    "(e) Description dataset\n",
    "\n",
    "- Data is provided in a csv format\n",
    "- Dataset contians: id, Name, host id, host_identity_verified, host name, neighbourhood group, neighbourhood, lat, long, \n",
    "country, country code, instant_bookable, cancellation_policy, room type, Construction year, price, service fee, \n",
    "minimum nights, number of reviews, last review, reviews per month, review rate number, calculated host listings count, \n",
    "availability 365, house_rules and license\n",
    "- Thus, there are **26** attributes and each column contains **102599** rows. In total **2667574** rows."
   ]
  },
  {
   "cell_type": "markdown",
   "id": "15fa7958",
   "metadata": {},
   "source": [
    "(f)\n",
    "- Function on the missing values of the selected attribute\n",
    "- Test on the attribute 'id'\n",
    "- Function finds missing values per entry\n",
    "- Test on entry 0\n",
    "- Dataframe on attribute and missing values\n",
    "- Analyzation on the missing values at attributes"
   ]
  },
  {
   "cell_type": "code",
   "execution_count": 108,
   "id": "58cb8e75",
   "metadata": {},
   "outputs": [],
   "source": [
    "# Finds missing values in attribute\n",
    "from typing import TypeVar\n",
    "PandasDataFrame = TypeVar('pandas.core.frame.DataFrame')\n",
    "\n",
    "def count_missing_values (data : dict, attribute : Union[int, str], show : bool = True) -> int:\n",
    "    column = return_column_name(column_names, attribute, show)\n",
    "    \n",
    "    missing : int = data[column].size - data[column].dropna().size\n",
    "    \n",
    "    if (show):\n",
    "        print(\"{} missing values\".format(missing))\n",
    "    return missing"
   ]
  },
  {
   "cell_type": "code",
   "execution_count": 109,
   "id": "516eaec5",
   "metadata": {},
   "outputs": [
    {
     "name": "stdout",
     "output_type": "stream",
     "text": [
      "\n",
      " \u001b[32m Used column 'id'\u001b[39m\n",
      "0 missing values\n"
     ]
    },
    {
     "data": {
      "text/plain": [
       "0"
      ]
     },
     "execution_count": 109,
     "metadata": {},
     "output_type": "execute_result"
    }
   ],
   "source": [
    "count_missing_values(data, \"id\")"
   ]
  },
  {
   "cell_type": "code",
   "execution_count": 117,
   "id": "a0c49260",
   "metadata": {},
   "outputs": [],
   "source": [
    "# Finds missing values in row\n",
    "\n",
    "def count_missing_values_entry (data : int, entry : int, show : bool = True) -> int:\n",
    "    missing : int = data.iloc[entry].size - data.iloc[entry].dropna().size\n",
    "    \n",
    "    if (show):\n",
    "        print(\"{} missing values\".format(missing))\n",
    "    return missing"
   ]
  },
  {
   "cell_type": "code",
   "execution_count": 118,
   "id": "ab32d9cc",
   "metadata": {},
   "outputs": [
    {
     "name": "stdout",
     "output_type": "stream",
     "text": [
      "1 missing values\n"
     ]
    },
    {
     "data": {
      "text/plain": [
       "1"
      ]
     },
     "execution_count": 118,
     "metadata": {},
     "output_type": "execute_result"
    }
   ],
   "source": [
    "count_missing_values_entry(data, 0)"
   ]
  },
  {
   "cell_type": "code",
   "execution_count": 114,
   "id": "5d5cdb4d",
   "metadata": {},
   "outputs": [
    {
     "data": {
      "text/plain": [
       "{'id': 0,\n",
       " 'NAME': 250,\n",
       " 'host id': 0,\n",
       " 'host_identity_verified': 289,\n",
       " 'host name': 406,\n",
       " 'neighbourhood group': 29,\n",
       " 'neighbourhood': 16,\n",
       " 'lat': 8,\n",
       " 'long': 8,\n",
       " 'country': 532,\n",
       " 'country code': 131,\n",
       " 'instant_bookable': 105,\n",
       " 'cancellation_policy': 76,\n",
       " 'room type': 0,\n",
       " 'Construction year': 214,\n",
       " 'price': 247,\n",
       " 'service fee': 273,\n",
       " 'minimum nights': 409,\n",
       " 'number of reviews': 183,\n",
       " 'last review': 15893,\n",
       " 'reviews per month': 15879,\n",
       " 'review rate number': 326,\n",
       " 'calculated host listings count': 319,\n",
       " 'availability 365': 448,\n",
       " 'house_rules': 52131,\n",
       " 'license': 102597}"
      ]
     },
     "execution_count": 114,
     "metadata": {},
     "output_type": "execute_result"
    }
   ],
   "source": [
    "missing_values : dict = {}\n",
    "\n",
    "[add_to_dict(missing_values, column_name, count_missing_values(data, column_name, False))for column_name in column_names.values()]\n",
    "\n",
    "missing_values"
   ]
  },
  {
   "cell_type": "markdown",
   "id": "76ea3c5c",
   "metadata": {},
   "source": [
    "Analyzation on attributes. The following mentioned attributes have values missing and are according to me important\n",
    "\n",
    "- **host_identity_verified** is crucial to quarantee the quality and safety of the customer\n",
    "- **country** is crucial to know where the accomodation is. After all, airbnb is a organization that offers renting and booking at inviduals, hotels and renters. \n",
    "- **price** and **service fee** are crucial to precisely know what the costumer would be spending by staying there\n",
    "- **review rate number** is crucial to know which accomodation is worth the customer's money\n",
    "- **availability** is crucial for airbnb and customer to be able to plan in the various dates the customer might want to book or rent the place\n",
    "- **house rules** is crucial to know what and what not to do in house. Maybe there are no house rules, but it might have been accidentally ommitted by the individual, hotel or renters."
   ]
  }
 ],
 "metadata": {
  "kernelspec": {
   "display_name": "Python 3",
   "language": "python",
   "name": "python3"
  },
  "language_info": {
   "codemirror_mode": {
    "name": "ipython",
    "version": 3
   },
   "file_extension": ".py",
   "mimetype": "text/x-python",
   "name": "python",
   "nbconvert_exporter": "python",
   "pygments_lexer": "ipython3",
   "version": "3.8.8"
  }
 },
 "nbformat": 4,
 "nbformat_minor": 5
}
