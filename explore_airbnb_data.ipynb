{
 "cells": [
  {
   "cell_type": "code",
   "execution_count": 1,
   "id": "16db3608",
   "metadata": {},
   "outputs": [],
   "source": [
    "import pandas as pd"
   ]
  },
  {
   "cell_type": "code",
   "execution_count": 2,
   "id": "720f7a3f",
   "metadata": {},
   "outputs": [
    {
     "name": "stderr",
     "output_type": "stream",
     "text": [
      "C:\\Users\\PC\\anaconda3\\lib\\site-packages\\IPython\\core\\interactiveshell.py:3165: DtypeWarning: Columns (25) have mixed types.Specify dtype option on import or set low_memory=False.\n",
      "  has_raised = await self.run_ast_nodes(code_ast.body, cell_name,\n"
     ]
    }
   ],
   "source": [
    "df = pd.read_csv(\"airbnb_open_data.csv\")"
   ]
  },
  {
   "cell_type": "code",
   "execution_count": 31,
   "id": "f83b80b6",
   "metadata": {},
   "outputs": [
    {
     "data": {
      "text/plain": [
       "['id',\n",
       " 'NAME',\n",
       " 'host id',\n",
       " 'host_identity_verified',\n",
       " 'host name',\n",
       " 'neighbourhood group',\n",
       " 'neighbourhood',\n",
       " 'lat',\n",
       " 'long',\n",
       " 'country',\n",
       " 'country code',\n",
       " 'instant_bookable',\n",
       " 'cancellation_policy',\n",
       " 'room type',\n",
       " 'Construction year',\n",
       " 'price',\n",
       " 'service fee',\n",
       " 'minimum nights',\n",
       " 'number of reviews',\n",
       " 'last review',\n",
       " 'reviews per month',\n",
       " 'review rate number',\n",
       " 'calculated host listings count',\n",
       " 'availability 365',\n",
       " 'house_rules',\n",
       " 'license']"
      ]
     },
     "execution_count": 31,
     "metadata": {},
     "output_type": "execute_result"
    }
   ],
   "source": [
    "list(df.columns)"
   ]
  },
  {
   "cell_type": "markdown",
   "id": "cd4dfdf2",
   "metadata": {
    "scrolled": true
   },
   "source": [
    "## Investigate missing data values, and relations, or measurement errors"
   ]
  },
  {
   "cell_type": "markdown",
   "id": "91a799cf",
   "metadata": {},
   "source": [
    "- **id**: Airbnb's unique identifier for the listing\n",
    "- **NAME**: name of the host \n",
    "- **host id**: Airbnb's unique identifier for the host/user\n",
    "- **host_identity_verified**:\n",
    "- **host name**:\n",
    "- **neighbourhood group**: Group of neighbourhood - Kinda geo-system in America\n",
    "- **Neighbourhood**: exact neighboorhood\n",
    "- **lat**: katitude \n",
    "- **long**: longtitude \n",
    "- **country**:\n",
    "- **country code**:\n",
    "- **instant_bookable**: it is instant-bookable or not\n",
    "- **cancellation_policy**: strict/moderate/flexible/nan\n",
    "- **room type**: \n",
    "- **Construction year**:\n",
    "- **price**:\n",
    "- **service fee**:\n",
    "- **minimum nights**: \n",
    "- **numbe of reviews**:\n",
    "- **last review**:\n",
    "- **review per month**:\n",
    "- **review rate number**:\n",
    "- **calculated host listings count**: The number of listings the host has in the current scrape, in the city/region geography.\n",
    "- **availability 365**: The availability of the listing x days in the future as determined by the calendar. Note a listing may not be available because it has been booked by a guest or blocked by the host.\n",
    "- **house_rules**: text \n",
    "- **license**: The licence/permit/registration number"
   ]
  },
  {
   "cell_type": "code",
   "execution_count": 29,
   "id": "6a2df731",
   "metadata": {},
   "outputs": [
    {
     "name": "stdout",
     "output_type": "stream",
     "text": [
      "<class 'pandas.core.frame.DataFrame'>\n",
      "RangeIndex: 102599 entries, 0 to 102598\n",
      "Data columns (total 26 columns):\n",
      " #   Column                          Non-Null Count   Dtype  \n",
      "---  ------                          --------------   -----  \n",
      " 0   id                              102599 non-null  int64  \n",
      " 1   NAME                            102349 non-null  object \n",
      " 2   host id                         102599 non-null  int64  \n",
      " 3   host_identity_verified          102310 non-null  object \n",
      " 4   host name                       102193 non-null  object \n",
      " 5   neighbourhood group             102570 non-null  object \n",
      " 6   neighbourhood                   102583 non-null  object \n",
      " 7   lat                             102591 non-null  float64\n",
      " 8   long                            102591 non-null  float64\n",
      " 9   country                         102067 non-null  object \n",
      " 10  country code                    102468 non-null  object \n",
      " 11  instant_bookable                102494 non-null  object \n",
      " 12  cancellation_policy             102523 non-null  object \n",
      " 13  room type                       102599 non-null  object \n",
      " 14  Construction year               102385 non-null  float64\n",
      " 15  price                           102352 non-null  object \n",
      " 16  service fee                     102326 non-null  object \n",
      " 17  minimum nights                  102190 non-null  float64\n",
      " 18  number of reviews               102416 non-null  float64\n",
      " 19  last review                     86706 non-null   object \n",
      " 20  reviews per month               86720 non-null   float64\n",
      " 21  review rate number              102273 non-null  float64\n",
      " 22  calculated host listings count  102280 non-null  float64\n",
      " 23  availability 365                102151 non-null  float64\n",
      " 24  house_rules                     50468 non-null   object \n",
      " 25  license                         2 non-null       object \n",
      "dtypes: float64(9), int64(2), object(15)\n",
      "memory usage: 20.4+ MB\n"
     ]
    }
   ],
   "source": [
    "# Data type and Non-Null Count \n",
    "df.info()"
   ]
  },
  {
   "cell_type": "markdown",
   "id": "2a49ecee",
   "metadata": {},
   "source": [
    "## Conclusion "
   ]
  },
  {
   "cell_type": "markdown",
   "id": "de080e7a",
   "metadata": {},
   "source": [
    "There are a hella lots of NaN values in *last review*, *reviews per month*, *review rate number*, *house_rules*, *licenses*. Basically, the optional information of the places are usually not included by the host. There are a couple ways to deal with this:\n",
    "- Deleting Rows with missing values\n",
    "- Impute missing values for continuous variable: using mean or median\n",
    "- Impute missing values for categorical variable: using the highest frequency label\n",
    "- Other Imputation Methods: Last observation carried forward (LOCF), \n",
    "- Prediction of missing values: Using model to predict the missing values -> we probably not gonna do this but I can do it if we have time\n",
    "\n",
    "**Still we need to envision what the general tools and the goals/tasks-action look like first. Then choosing the attributes.**"
   ]
  },
  {
   "cell_type": "markdown",
   "id": "7fa6cca0",
   "metadata": {},
   "source": [
    "Here is the source: https://towardsdatascience.com/7-ways-to-handle-missing-values-in-machine-learning-1a6326adf79e"
   ]
  }
 ],
 "metadata": {
  "kernelspec": {
   "display_name": "Python 3",
   "language": "python",
   "name": "python3"
  },
  "language_info": {
   "codemirror_mode": {
    "name": "ipython",
    "version": 3
   },
   "file_extension": ".py",
   "mimetype": "text/x-python",
   "name": "python",
   "nbconvert_exporter": "python",
   "pygments_lexer": "ipython3",
   "version": "3.8.8"
  }
 },
 "nbformat": 4,
 "nbformat_minor": 5
}
