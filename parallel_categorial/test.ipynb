{
 "cells": [
  {
   "cell_type": "code",
   "execution_count": 29,
   "metadata": {},
   "outputs": [],
   "source": [
    "import pandas as pd \n",
    "import numpy as np \n",
    "import plotly.graph_objects as go "
   ]
  },
  {
   "cell_type": "code",
   "execution_count": 14,
   "metadata": {},
   "outputs": [],
   "source": [
    "df = pd.read_pickle('data/listings.pkl')"
   ]
  },
  {
   "cell_type": "code",
   "execution_count": 26,
   "metadata": {},
   "outputs": [],
   "source": [
    "df.price_cleansed.describe()\n",
    "def price_tag(row):\n",
    "    if row <= 100:\n",
    "        return \"< 100$\"\n",
    "    if row > 100 and row <= 200:\n",
    "        return \"100$-200$\"\n",
    "    else:\n",
    "        return \"> 200$\"\n",
    "\n",
    "df['price_tag'] = df.price_cleansed.apply(lambda row: price_tag(row))"
   ]
  },
  {
   "cell_type": "code",
   "execution_count": 30,
   "metadata": {},
   "outputs": [
    {
     "data": {
      "text/plain": [
       "0        f\n",
       "1        f\n",
       "2        t\n",
       "3        f\n",
       "4        f\n",
       "        ..\n",
       "39876    f\n",
       "39877    t\n",
       "39878    f\n",
       "39879    f\n",
       "39880    f\n",
       "Name: host_is_superhost, Length: 39881, dtype: object"
      ]
     },
     "execution_count": 30,
     "metadata": {},
     "output_type": "execute_result"
    }
   ],
   "source": [
    "df.host_is_superhost"
   ]
  },
  {
   "cell_type": "code",
   "execution_count": 32,
   "metadata": {},
   "outputs": [
    {
     "ename": "ValueError",
     "evalue": "\n    Invalid element(s) received for the 'color' property of parcats.line\n        Invalid elements include: ['f', 'f', 't', 'f', 'f', 'f', 't', 'f', 'f', 't']\n\n    The 'color' property is a color and may be specified as:\n      - A hex string (e.g. '#ff0000')\n      - An rgb/rgba string (e.g. 'rgb(255,0,0)')\n      - An hsl/hsla string (e.g. 'hsl(0,100%,50%)')\n      - An hsv/hsva string (e.g. 'hsv(0,100%,100%)')\n      - A named CSS color:\n            aliceblue, antiquewhite, aqua, aquamarine, azure,\n            beige, bisque, black, blanchedalmond, blue,\n            blueviolet, brown, burlywood, cadetblue,\n            chartreuse, chocolate, coral, cornflowerblue,\n            cornsilk, crimson, cyan, darkblue, darkcyan,\n            darkgoldenrod, darkgray, darkgrey, darkgreen,\n            darkkhaki, darkmagenta, darkolivegreen, darkorange,\n            darkorchid, darkred, darksalmon, darkseagreen,\n            darkslateblue, darkslategray, darkslategrey,\n            darkturquoise, darkviolet, deeppink, deepskyblue,\n            dimgray, dimgrey, dodgerblue, firebrick,\n            floralwhite, forestgreen, fuchsia, gainsboro,\n            ghostwhite, gold, goldenrod, gray, grey, green,\n            greenyellow, honeydew, hotpink, indianred, indigo,\n            ivory, khaki, lavender, lavenderblush, lawngreen,\n            lemonchiffon, lightblue, lightcoral, lightcyan,\n            lightgoldenrodyellow, lightgray, lightgrey,\n            lightgreen, lightpink, lightsalmon, lightseagreen,\n            lightskyblue, lightslategray, lightslategrey,\n            lightsteelblue, lightyellow, lime, limegreen,\n            linen, magenta, maroon, mediumaquamarine,\n            mediumblue, mediumorchid, mediumpurple,\n            mediumseagreen, mediumslateblue, mediumspringgreen,\n            mediumturquoise, mediumvioletred, midnightblue,\n            mintcream, mistyrose, moccasin, navajowhite, navy,\n            oldlace, olive, olivedrab, orange, orangered,\n            orchid, palegoldenrod, palegreen, paleturquoise,\n            palevioletred, papayawhip, peachpuff, peru, pink,\n            plum, powderblue, purple, red, rosybrown,\n            royalblue, rebeccapurple, saddlebrown, salmon,\n            sandybrown, seagreen, seashell, sienna, silver,\n            skyblue, slateblue, slategray, slategrey, snow,\n            springgreen, steelblue, tan, teal, thistle, tomato,\n            turquoise, violet, wheat, white, whitesmoke,\n            yellow, yellowgreen\n      - A number that will be interpreted as a color\n        according to parcats.line.colorscale\n      - A list or array of any of the above",
     "output_type": "error",
     "traceback": [
      "\u001b[1;31m---------------------------------------------------------------------------\u001b[0m",
      "\u001b[1;31mValueError\u001b[0m                                Traceback (most recent call last)",
      "\u001b[1;32mc:\\Users\\PC\\Documents\\Tue course\\Visualization\\Project\\Visualization-\\parallel_categorial\\test.ipynb Cell 5\u001b[0m in \u001b[0;36m<cell line: 17>\u001b[1;34m()\u001b[0m\n\u001b[0;32m      <a href='vscode-notebook-cell:/c%3A/Users/PC/Documents/Tue%20course/Visualization/Project/Visualization-/parallel_categorial/test.ipynb#W4sZmlsZQ%3D%3D?line=1'>2</a>\u001b[0m DIMS \u001b[39m=\u001b[39m [\n\u001b[0;32m      <a href='vscode-notebook-cell:/c%3A/Users/PC/Documents/Tue%20course/Visualization/Project/Visualization-/parallel_categorial/test.ipynb#W4sZmlsZQ%3D%3D?line=2'>3</a>\u001b[0m     go\u001b[39m.\u001b[39mparcats\u001b[39m.\u001b[39mDimension(\n\u001b[0;32m      <a href='vscode-notebook-cell:/c%3A/Users/PC/Documents/Tue%20course/Visualization/Project/Visualization-/parallel_categorial/test.ipynb#W4sZmlsZQ%3D%3D?line=3'>4</a>\u001b[0m         values\u001b[39m=\u001b[39mdf\u001b[39m.\u001b[39minstant_bookable,\n\u001b[1;32m   (...)\u001b[0m\n\u001b[0;32m     <a href='vscode-notebook-cell:/c%3A/Users/PC/Documents/Tue%20course/Visualization/Project/Visualization-/parallel_categorial/test.ipynb#W4sZmlsZQ%3D%3D?line=13'>14</a>\u001b[0m     )   \n\u001b[0;32m     <a href='vscode-notebook-cell:/c%3A/Users/PC/Documents/Tue%20course/Visualization/Project/Visualization-/parallel_categorial/test.ipynb#W4sZmlsZQ%3D%3D?line=14'>15</a>\u001b[0m ]\n\u001b[0;32m     <a href='vscode-notebook-cell:/c%3A/Users/PC/Documents/Tue%20course/Visualization/Project/Visualization-/parallel_categorial/test.ipynb#W4sZmlsZQ%3D%3D?line=15'>16</a>\u001b[0m colorscale \u001b[39m=\u001b[39m [[\u001b[39m'\u001b[39m\u001b[39mt\u001b[39m\u001b[39m'\u001b[39m, \u001b[39m'\u001b[39m\u001b[39mlightsteelblue\u001b[39m\u001b[39m'\u001b[39m], [\u001b[39m'\u001b[39m\u001b[39mf\u001b[39m\u001b[39m'\u001b[39m, \u001b[39m'\u001b[39m\u001b[39mmediumseagreen\u001b[39m\u001b[39m'\u001b[39m]]\n\u001b[0;32m     <a href='vscode-notebook-cell:/c%3A/Users/PC/Documents/Tue%20course/Visualization/Project/Visualization-/parallel_categorial/test.ipynb#W4sZmlsZQ%3D%3D?line=16'>17</a>\u001b[0m fig\u001b[39m.\u001b[39madd_traces(\n\u001b[1;32m---> <a href='vscode-notebook-cell:/c%3A/Users/PC/Documents/Tue%20course/Visualization/Project/Visualization-/parallel_categorial/test.ipynb#W4sZmlsZQ%3D%3D?line=17'>18</a>\u001b[0m     go\u001b[39m.\u001b[39;49mParcats(\n\u001b[0;32m     <a href='vscode-notebook-cell:/c%3A/Users/PC/Documents/Tue%20course/Visualization/Project/Visualization-/parallel_categorial/test.ipynb#W4sZmlsZQ%3D%3D?line=18'>19</a>\u001b[0m         dimensions\u001b[39m=\u001b[39;49mDIMS,\n\u001b[0;32m     <a href='vscode-notebook-cell:/c%3A/Users/PC/Documents/Tue%20course/Visualization/Project/Visualization-/parallel_categorial/test.ipynb#W4sZmlsZQ%3D%3D?line=19'>20</a>\u001b[0m         line\u001b[39m=\u001b[39;49m{\u001b[39m'\u001b[39;49m\u001b[39mcolor\u001b[39;49m\u001b[39m'\u001b[39;49m: df\u001b[39m.\u001b[39;49mhost_is_superhost, \u001b[39m'\u001b[39;49m\u001b[39mcolorscale\u001b[39;49m\u001b[39m'\u001b[39;49m: colorscale},\n\u001b[0;32m     <a href='vscode-notebook-cell:/c%3A/Users/PC/Documents/Tue%20course/Visualization/Project/Visualization-/parallel_categorial/test.ipynb#W4sZmlsZQ%3D%3D?line=20'>21</a>\u001b[0m         hoveron\u001b[39m=\u001b[39;49m\u001b[39m'\u001b[39;49m\u001b[39mcolor\u001b[39;49m\u001b[39m'\u001b[39;49m, hoverinfo\u001b[39m=\u001b[39;49m\u001b[39m'\u001b[39;49m\u001b[39mcount+probability\u001b[39;49m\u001b[39m'\u001b[39;49m,\n\u001b[0;32m     <a href='vscode-notebook-cell:/c%3A/Users/PC/Documents/Tue%20course/Visualization/Project/Visualization-/parallel_categorial/test.ipynb#W4sZmlsZQ%3D%3D?line=21'>22</a>\u001b[0m         labelfont\u001b[39m=\u001b[39;49m{\u001b[39m'\u001b[39;49m\u001b[39msize\u001b[39;49m\u001b[39m'\u001b[39;49m: \u001b[39m18\u001b[39;49m, \u001b[39m'\u001b[39;49m\u001b[39mfamily\u001b[39;49m\u001b[39m'\u001b[39;49m: \u001b[39m'\u001b[39;49m\u001b[39mTimes\u001b[39;49m\u001b[39m'\u001b[39;49m},\n\u001b[0;32m     <a href='vscode-notebook-cell:/c%3A/Users/PC/Documents/Tue%20course/Visualization/Project/Visualization-/parallel_categorial/test.ipynb#W4sZmlsZQ%3D%3D?line=22'>23</a>\u001b[0m         tickfont\u001b[39m=\u001b[39;49m{\u001b[39m'\u001b[39;49m\u001b[39msize\u001b[39;49m\u001b[39m'\u001b[39;49m: \u001b[39m16\u001b[39;49m, \u001b[39m'\u001b[39;49m\u001b[39mfamily\u001b[39;49m\u001b[39m'\u001b[39;49m: \u001b[39m'\u001b[39;49m\u001b[39mTimes\u001b[39;49m\u001b[39m'\u001b[39;49m},\n\u001b[0;32m     <a href='vscode-notebook-cell:/c%3A/Users/PC/Documents/Tue%20course/Visualization/Project/Visualization-/parallel_categorial/test.ipynb#W4sZmlsZQ%3D%3D?line=23'>24</a>\u001b[0m         arrangement\u001b[39m=\u001b[39;49m\u001b[39m'\u001b[39;49m\u001b[39mfreeform\u001b[39;49m\u001b[39m'\u001b[39;49m\n\u001b[0;32m     <a href='vscode-notebook-cell:/c%3A/Users/PC/Documents/Tue%20course/Visualization/Project/Visualization-/parallel_categorial/test.ipynb#W4sZmlsZQ%3D%3D?line=24'>25</a>\u001b[0m     )\n\u001b[0;32m     <a href='vscode-notebook-cell:/c%3A/Users/PC/Documents/Tue%20course/Visualization/Project/Visualization-/parallel_categorial/test.ipynb#W4sZmlsZQ%3D%3D?line=25'>26</a>\u001b[0m )\n\u001b[0;32m     <a href='vscode-notebook-cell:/c%3A/Users/PC/Documents/Tue%20course/Visualization/Project/Visualization-/parallel_categorial/test.ipynb#W4sZmlsZQ%3D%3D?line=26'>27</a>\u001b[0m fig\u001b[39m.\u001b[39mshow()\n",
      "File \u001b[1;32mc:\\Users\\PC\\AppData\\Local\\Programs\\Python\\Python39\\lib\\site-packages\\plotly\\graph_objs\\_parcats.py:1237\u001b[0m, in \u001b[0;36mParcats.__init__\u001b[1;34m(self, arg, arrangement, bundlecolors, counts, countssrc, dimensions, dimensiondefaults, domain, hoverinfo, hoveron, hovertemplate, labelfont, legendgrouptitle, line, meta, metasrc, name, sortpaths, stream, tickfont, uid, uirevision, visible, **kwargs)\u001b[0m\n\u001b[0;32m   1235\u001b[0m _v \u001b[39m=\u001b[39m line \u001b[39mif\u001b[39;00m line \u001b[39mis\u001b[39;00m \u001b[39mnot\u001b[39;00m \u001b[39mNone\u001b[39;00m \u001b[39melse\u001b[39;00m _v\n\u001b[0;32m   1236\u001b[0m \u001b[39mif\u001b[39;00m _v \u001b[39mis\u001b[39;00m \u001b[39mnot\u001b[39;00m \u001b[39mNone\u001b[39;00m:\n\u001b[1;32m-> 1237\u001b[0m     \u001b[39mself\u001b[39m[\u001b[39m\"\u001b[39m\u001b[39mline\u001b[39m\u001b[39m\"\u001b[39m] \u001b[39m=\u001b[39m _v\n\u001b[0;32m   1238\u001b[0m _v \u001b[39m=\u001b[39m arg\u001b[39m.\u001b[39mpop(\u001b[39m\"\u001b[39m\u001b[39mmeta\u001b[39m\u001b[39m\"\u001b[39m, \u001b[39mNone\u001b[39;00m)\n\u001b[0;32m   1239\u001b[0m _v \u001b[39m=\u001b[39m meta \u001b[39mif\u001b[39;00m meta \u001b[39mis\u001b[39;00m \u001b[39mnot\u001b[39;00m \u001b[39mNone\u001b[39;00m \u001b[39melse\u001b[39;00m _v\n",
      "File \u001b[1;32mc:\\Users\\PC\\AppData\\Local\\Programs\\Python\\Python39\\lib\\site-packages\\plotly\\basedatatypes.py:4851\u001b[0m, in \u001b[0;36mBasePlotlyType.__setitem__\u001b[1;34m(self, prop, value)\u001b[0m\n\u001b[0;32m   4849\u001b[0m \u001b[39m# ### Handle compound property ###\u001b[39;00m\n\u001b[0;32m   4850\u001b[0m \u001b[39mif\u001b[39;00m \u001b[39misinstance\u001b[39m(validator, CompoundValidator):\n\u001b[1;32m-> 4851\u001b[0m     \u001b[39mself\u001b[39;49m\u001b[39m.\u001b[39;49m_set_compound_prop(prop, value)\n\u001b[0;32m   4853\u001b[0m \u001b[39m# ### Handle compound array property ###\u001b[39;00m\n\u001b[0;32m   4854\u001b[0m \u001b[39melif\u001b[39;00m \u001b[39misinstance\u001b[39m(validator, (CompoundArrayValidator, BaseDataValidator)):\n",
      "File \u001b[1;32mc:\\Users\\PC\\AppData\\Local\\Programs\\Python\\Python39\\lib\\site-packages\\plotly\\basedatatypes.py:5262\u001b[0m, in \u001b[0;36mBasePlotlyType._set_compound_prop\u001b[1;34m(self, prop, val)\u001b[0m\n\u001b[0;32m   5259\u001b[0m \u001b[39m# Import value\u001b[39;00m\n\u001b[0;32m   5260\u001b[0m \u001b[39m# ------------\u001b[39;00m\n\u001b[0;32m   5261\u001b[0m validator \u001b[39m=\u001b[39m \u001b[39mself\u001b[39m\u001b[39m.\u001b[39m_get_validator(prop)\n\u001b[1;32m-> 5262\u001b[0m val \u001b[39m=\u001b[39m validator\u001b[39m.\u001b[39;49mvalidate_coerce(val, skip_invalid\u001b[39m=\u001b[39;49m\u001b[39mself\u001b[39;49m\u001b[39m.\u001b[39;49m_skip_invalid)\n\u001b[0;32m   5264\u001b[0m \u001b[39m# Save deep copies of current and new states\u001b[39;00m\n\u001b[0;32m   5265\u001b[0m \u001b[39m# ------------------------------------------\u001b[39;00m\n\u001b[0;32m   5266\u001b[0m curr_val \u001b[39m=\u001b[39m \u001b[39mself\u001b[39m\u001b[39m.\u001b[39m_compound_props\u001b[39m.\u001b[39mget(prop, \u001b[39mNone\u001b[39;00m)\n",
      "File \u001b[1;32mc:\\Users\\PC\\AppData\\Local\\Programs\\Python\\Python39\\lib\\site-packages\\_plotly_utils\\basevalidators.py:2455\u001b[0m, in \u001b[0;36mCompoundValidator.validate_coerce\u001b[1;34m(self, v, skip_invalid, _validate)\u001b[0m\n\u001b[0;32m   2452\u001b[0m     v \u001b[39m=\u001b[39m \u001b[39mself\u001b[39m\u001b[39m.\u001b[39mdata_class()\n\u001b[0;32m   2454\u001b[0m \u001b[39melif\u001b[39;00m \u001b[39misinstance\u001b[39m(v, \u001b[39mdict\u001b[39m):\n\u001b[1;32m-> 2455\u001b[0m     v \u001b[39m=\u001b[39m \u001b[39mself\u001b[39;49m\u001b[39m.\u001b[39;49mdata_class(v, skip_invalid\u001b[39m=\u001b[39;49mskip_invalid, _validate\u001b[39m=\u001b[39;49m_validate)\n\u001b[0;32m   2457\u001b[0m \u001b[39melif\u001b[39;00m \u001b[39misinstance\u001b[39m(v, \u001b[39mself\u001b[39m\u001b[39m.\u001b[39mdata_class):\n\u001b[0;32m   2458\u001b[0m     \u001b[39m# Copy object\u001b[39;00m\n\u001b[0;32m   2459\u001b[0m     v \u001b[39m=\u001b[39m \u001b[39mself\u001b[39m\u001b[39m.\u001b[39mdata_class(v)\n",
      "File \u001b[1;32mc:\\Users\\PC\\AppData\\Local\\Programs\\Python\\Python39\\lib\\site-packages\\plotly\\graph_objs\\parcats\\_line.py:1005\u001b[0m, in \u001b[0;36mLine.__init__\u001b[1;34m(self, arg, autocolorscale, cauto, cmax, cmid, cmin, color, coloraxis, colorbar, colorscale, colorsrc, hovertemplate, reversescale, shape, showscale, **kwargs)\u001b[0m\n\u001b[0;32m   1003\u001b[0m _v \u001b[39m=\u001b[39m color \u001b[39mif\u001b[39;00m color \u001b[39mis\u001b[39;00m \u001b[39mnot\u001b[39;00m \u001b[39mNone\u001b[39;00m \u001b[39melse\u001b[39;00m _v\n\u001b[0;32m   1004\u001b[0m \u001b[39mif\u001b[39;00m _v \u001b[39mis\u001b[39;00m \u001b[39mnot\u001b[39;00m \u001b[39mNone\u001b[39;00m:\n\u001b[1;32m-> 1005\u001b[0m     \u001b[39mself\u001b[39m[\u001b[39m\"\u001b[39m\u001b[39mcolor\u001b[39m\u001b[39m\"\u001b[39m] \u001b[39m=\u001b[39m _v\n\u001b[0;32m   1006\u001b[0m _v \u001b[39m=\u001b[39m arg\u001b[39m.\u001b[39mpop(\u001b[39m\"\u001b[39m\u001b[39mcoloraxis\u001b[39m\u001b[39m\"\u001b[39m, \u001b[39mNone\u001b[39;00m)\n\u001b[0;32m   1007\u001b[0m _v \u001b[39m=\u001b[39m coloraxis \u001b[39mif\u001b[39;00m coloraxis \u001b[39mis\u001b[39;00m \u001b[39mnot\u001b[39;00m \u001b[39mNone\u001b[39;00m \u001b[39melse\u001b[39;00m _v\n",
      "File \u001b[1;32mc:\\Users\\PC\\AppData\\Local\\Programs\\Python\\Python39\\lib\\site-packages\\plotly\\basedatatypes.py:4859\u001b[0m, in \u001b[0;36mBasePlotlyType.__setitem__\u001b[1;34m(self, prop, value)\u001b[0m\n\u001b[0;32m   4855\u001b[0m         \u001b[39mself\u001b[39m\u001b[39m.\u001b[39m_set_array_prop(prop, value)\n\u001b[0;32m   4857\u001b[0m     \u001b[39m# ### Handle simple property ###\u001b[39;00m\n\u001b[0;32m   4858\u001b[0m     \u001b[39melse\u001b[39;00m:\n\u001b[1;32m-> 4859\u001b[0m         \u001b[39mself\u001b[39;49m\u001b[39m.\u001b[39;49m_set_prop(prop, value)\n\u001b[0;32m   4860\u001b[0m \u001b[39melse\u001b[39;00m:\n\u001b[0;32m   4861\u001b[0m     \u001b[39m# Make sure properties dict is initialized\u001b[39;00m\n\u001b[0;32m   4862\u001b[0m     \u001b[39mself\u001b[39m\u001b[39m.\u001b[39m_init_props()\n",
      "File \u001b[1;32mc:\\Users\\PC\\AppData\\Local\\Programs\\Python\\Python39\\lib\\site-packages\\plotly\\basedatatypes.py:5203\u001b[0m, in \u001b[0;36mBasePlotlyType._set_prop\u001b[1;34m(self, prop, val)\u001b[0m\n\u001b[0;32m   5201\u001b[0m         \u001b[39mreturn\u001b[39;00m\n\u001b[0;32m   5202\u001b[0m     \u001b[39melse\u001b[39;00m:\n\u001b[1;32m-> 5203\u001b[0m         \u001b[39mraise\u001b[39;00m err\n\u001b[0;32m   5205\u001b[0m \u001b[39m# val is None\u001b[39;00m\n\u001b[0;32m   5206\u001b[0m \u001b[39m# -----------\u001b[39;00m\n\u001b[0;32m   5207\u001b[0m \u001b[39mif\u001b[39;00m val \u001b[39mis\u001b[39;00m \u001b[39mNone\u001b[39;00m:\n\u001b[0;32m   5208\u001b[0m     \u001b[39m# Check if we should send null update\u001b[39;00m\n",
      "File \u001b[1;32mc:\\Users\\PC\\AppData\\Local\\Programs\\Python\\Python39\\lib\\site-packages\\plotly\\basedatatypes.py:5198\u001b[0m, in \u001b[0;36mBasePlotlyType._set_prop\u001b[1;34m(self, prop, val)\u001b[0m\n\u001b[0;32m   5195\u001b[0m validator \u001b[39m=\u001b[39m \u001b[39mself\u001b[39m\u001b[39m.\u001b[39m_get_validator(prop)\n\u001b[0;32m   5197\u001b[0m \u001b[39mtry\u001b[39;00m:\n\u001b[1;32m-> 5198\u001b[0m     val \u001b[39m=\u001b[39m validator\u001b[39m.\u001b[39;49mvalidate_coerce(val)\n\u001b[0;32m   5199\u001b[0m \u001b[39mexcept\u001b[39;00m \u001b[39mValueError\u001b[39;00m \u001b[39mas\u001b[39;00m err:\n\u001b[0;32m   5200\u001b[0m     \u001b[39mif\u001b[39;00m \u001b[39mself\u001b[39m\u001b[39m.\u001b[39m_skip_invalid:\n",
      "File \u001b[1;32mc:\\Users\\PC\\AppData\\Local\\Programs\\Python\\Python39\\lib\\site-packages\\_plotly_utils\\basevalidators.py:1355\u001b[0m, in \u001b[0;36mColorValidator.validate_coerce\u001b[1;34m(self, v, should_raise)\u001b[0m\n\u001b[0;32m   1352\u001b[0m invalid_els \u001b[39m=\u001b[39m \u001b[39mself\u001b[39m\u001b[39m.\u001b[39mfind_invalid_els(v, validated_v)\n\u001b[0;32m   1354\u001b[0m \u001b[39mif\u001b[39;00m invalid_els \u001b[39mand\u001b[39;00m should_raise:\n\u001b[1;32m-> 1355\u001b[0m     \u001b[39mself\u001b[39;49m\u001b[39m.\u001b[39;49mraise_invalid_elements(invalid_els)\n\u001b[0;32m   1357\u001b[0m \u001b[39m# ### Check that elements have valid colors types ###\u001b[39;00m\n\u001b[0;32m   1358\u001b[0m \u001b[39melif\u001b[39;00m \u001b[39mself\u001b[39m\u001b[39m.\u001b[39mnumbers_allowed() \u001b[39mor\u001b[39;00m invalid_els:\n",
      "File \u001b[1;32mc:\\Users\\PC\\AppData\\Local\\Programs\\Python\\Python39\\lib\\site-packages\\_plotly_utils\\basevalidators.py:304\u001b[0m, in \u001b[0;36mBaseValidator.raise_invalid_elements\u001b[1;34m(self, invalid_els)\u001b[0m\n\u001b[0;32m    302\u001b[0m     \u001b[39mdef\u001b[39;00m \u001b[39mraise_invalid_elements\u001b[39m(\u001b[39mself\u001b[39m, invalid_els):\n\u001b[0;32m    303\u001b[0m         \u001b[39mif\u001b[39;00m invalid_els:\n\u001b[1;32m--> 304\u001b[0m             \u001b[39mraise\u001b[39;00m \u001b[39mValueError\u001b[39;00m(\n\u001b[0;32m    305\u001b[0m                 \u001b[39m\"\"\"\u001b[39;00m\n\u001b[0;32m    306\u001b[0m \u001b[39m    Invalid element(s) received for the '{name}' property of {pname}\u001b[39;00m\n\u001b[0;32m    307\u001b[0m \u001b[39m        Invalid elements include: {invalid}\u001b[39;00m\n\u001b[0;32m    308\u001b[0m \n\u001b[0;32m    309\u001b[0m \u001b[39m{valid_clr_desc}\"\"\"\u001b[39;00m\u001b[39m.\u001b[39mformat(\n\u001b[0;32m    310\u001b[0m                     name\u001b[39m=\u001b[39m\u001b[39mself\u001b[39m\u001b[39m.\u001b[39mplotly_name,\n\u001b[0;32m    311\u001b[0m                     pname\u001b[39m=\u001b[39m\u001b[39mself\u001b[39m\u001b[39m.\u001b[39mparent_name,\n\u001b[0;32m    312\u001b[0m                     invalid\u001b[39m=\u001b[39minvalid_els[:\u001b[39m10\u001b[39m],\n\u001b[0;32m    313\u001b[0m                     valid_clr_desc\u001b[39m=\u001b[39m\u001b[39mself\u001b[39m\u001b[39m.\u001b[39mdescription(),\n\u001b[0;32m    314\u001b[0m                 )\n\u001b[0;32m    315\u001b[0m             )\n",
      "\u001b[1;31mValueError\u001b[0m: \n    Invalid element(s) received for the 'color' property of parcats.line\n        Invalid elements include: ['f', 'f', 't', 'f', 'f', 'f', 't', 'f', 'f', 't']\n\n    The 'color' property is a color and may be specified as:\n      - A hex string (e.g. '#ff0000')\n      - An rgb/rgba string (e.g. 'rgb(255,0,0)')\n      - An hsl/hsla string (e.g. 'hsl(0,100%,50%)')\n      - An hsv/hsva string (e.g. 'hsv(0,100%,100%)')\n      - A named CSS color:\n            aliceblue, antiquewhite, aqua, aquamarine, azure,\n            beige, bisque, black, blanchedalmond, blue,\n            blueviolet, brown, burlywood, cadetblue,\n            chartreuse, chocolate, coral, cornflowerblue,\n            cornsilk, crimson, cyan, darkblue, darkcyan,\n            darkgoldenrod, darkgray, darkgrey, darkgreen,\n            darkkhaki, darkmagenta, darkolivegreen, darkorange,\n            darkorchid, darkred, darksalmon, darkseagreen,\n            darkslateblue, darkslategray, darkslategrey,\n            darkturquoise, darkviolet, deeppink, deepskyblue,\n            dimgray, dimgrey, dodgerblue, firebrick,\n            floralwhite, forestgreen, fuchsia, gainsboro,\n            ghostwhite, gold, goldenrod, gray, grey, green,\n            greenyellow, honeydew, hotpink, indianred, indigo,\n            ivory, khaki, lavender, lavenderblush, lawngreen,\n            lemonchiffon, lightblue, lightcoral, lightcyan,\n            lightgoldenrodyellow, lightgray, lightgrey,\n            lightgreen, lightpink, lightsalmon, lightseagreen,\n            lightskyblue, lightslategray, lightslategrey,\n            lightsteelblue, lightyellow, lime, limegreen,\n            linen, magenta, maroon, mediumaquamarine,\n            mediumblue, mediumorchid, mediumpurple,\n            mediumseagreen, mediumslateblue, mediumspringgreen,\n            mediumturquoise, mediumvioletred, midnightblue,\n            mintcream, mistyrose, moccasin, navajowhite, navy,\n            oldlace, olive, olivedrab, orange, orangered,\n            orchid, palegoldenrod, palegreen, paleturquoise,\n            palevioletred, papayawhip, peachpuff, peru, pink,\n            plum, powderblue, purple, red, rosybrown,\n            royalblue, rebeccapurple, saddlebrown, salmon,\n            sandybrown, seagreen, seashell, sienna, silver,\n            skyblue, slateblue, slategray, slategrey, snow,\n            springgreen, steelblue, tan, teal, thistle, tomato,\n            turquoise, violet, wheat, white, whitesmoke,\n            yellow, yellowgreen\n      - A number that will be interpreted as a color\n        according to parcats.line.colorscale\n      - A list or array of any of the above"
     ]
    }
   ],
   "source": [
    "fig = go.Figure()\n",
    "DIMS = [\n",
    "    go.parcats.Dimension(\n",
    "        values=df.instant_bookable,\n",
    "        categoryorder='category ascending', label=\"Instant_bookable\"\n",
    "    ),\n",
    "    go.parcats.Dimension(\n",
    "        values=df.price_tag,\n",
    "        categoryorder='category ascending', label=\"price_tag\"\n",
    "    ),\n",
    "    go.parcats.Dimension(\n",
    "        values=df.host_verifications,\n",
    "        categoryorder='category ascending', label=\"verification\"\n",
    "    )   \n",
    "]\n",
    "colorscale = [['t', 'lightsteelblue'], ['f', 'mediumseagreen']]\n",
    "fig.add_trace(\n",
    "    go.Parcats(\n",
    "        dimensions=DIMS,\n",
    "        line={'color': df.host_is_superhost, 'colorscale': colorscale},\n",
    "        hoveron='color', hoverinfo='count+probability',\n",
    "        labelfont={'size': 18, 'family': 'Times'},\n",
    "        tickfont={'size': 16, 'family': 'Times'},\n",
    "        arrangement='freeform'\n",
    "    )\n",
    ")\n",
    "fig.show()\n"
   ]
  }
 ],
 "metadata": {
  "kernelspec": {
   "display_name": "Python 3",
   "language": "python",
   "name": "python3"
  },
  "language_info": {
   "codemirror_mode": {
    "name": "ipython",
    "version": 3
   },
   "file_extension": ".py",
   "mimetype": "text/x-python",
   "name": "python",
   "nbconvert_exporter": "python",
   "pygments_lexer": "ipython3",
   "version": "3.9.7"
  },
  "orig_nbformat": 4,
  "vscode": {
   "interpreter": {
    "hash": "f6c8f846148a3e4d140e6ddf63c190cff559dcf260a4a21539f0978f2b58638c"
   }
  }
 },
 "nbformat": 4,
 "nbformat_minor": 2
}
