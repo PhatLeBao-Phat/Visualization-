{
 "cells": [
  {
   "cell_type": "code",
   "execution_count": 1,
   "metadata": {},
   "outputs": [],
   "source": [
    "import pandas as pd \n",
    "import pickle\n",
    "import re"
   ]
  },
  {
   "cell_type": "code",
   "execution_count": 14,
   "metadata": {},
   "outputs": [],
   "source": [
    "df = pd.read_csv('listings.csv')\n",
    "df = pd.read_pickle('listings.pkl')"
   ]
  },
  {
   "cell_type": "code",
   "execution_count": 15,
   "metadata": {},
   "outputs": [
    {
     "name": "stdout",
     "output_type": "stream",
     "text": [
      "<class 'pandas.core.frame.DataFrame'>\n",
      "RangeIndex: 39881 entries, 0 to 39880\n",
      "Data columns (total 73 columns):\n",
      " #   Column                                        Non-Null Count  Dtype  \n",
      "---  ------                                        --------------  -----  \n",
      " 0   id                                            39881 non-null  int64  \n",
      " 1   listing_url                                   39881 non-null  object \n",
      " 2   scrape_id                                     39881 non-null  int64  \n",
      " 3   last_scraped                                  39881 non-null  object \n",
      " 4   source                                        39881 non-null  object \n",
      " 5   name                                          39868 non-null  object \n",
      " 6   description                                   39036 non-null  object \n",
      " 7   neighborhood_overview                         23466 non-null  object \n",
      " 8   picture_url                                   39881 non-null  object \n",
      " 9   host_id                                       39881 non-null  int64  \n",
      " 10  host_url                                      39881 non-null  object \n",
      " 11  host_name                                     39831 non-null  object \n",
      " 12  host_since                                    39831 non-null  object \n",
      " 13  host_location                                 32998 non-null  object \n",
      " 14  host_about                                    22509 non-null  object \n",
      " 15  host_response_time                            26333 non-null  object \n",
      " 16  host_response_rate                            26333 non-null  object \n",
      " 17  host_acceptance_rate                          28020 non-null  object \n",
      " 18  host_is_superhost                             39852 non-null  object \n",
      " 19  host_thumbnail_url                            39831 non-null  object \n",
      " 20  host_picture_url                              39831 non-null  object \n",
      " 21  host_neighbourhood                            31650 non-null  object \n",
      " 22  host_listings_count                           39831 non-null  float64\n",
      " 23  host_total_listings_count                     39831 non-null  float64\n",
      " 24  host_verifications                            39881 non-null  object \n",
      " 25  host_has_profile_pic                          39831 non-null  object \n",
      " 26  host_identity_verified                        39831 non-null  object \n",
      " 27  neighbourhood                                 23467 non-null  object \n",
      " 28  neighbourhood_cleansed                        39881 non-null  object \n",
      " 29  neighbourhood_group_cleansed                  39881 non-null  object \n",
      " 30  latitude                                      39881 non-null  float64\n",
      " 31  longitude                                     39881 non-null  float64\n",
      " 32  property_type                                 39881 non-null  object \n",
      " 33  room_type                                     39881 non-null  object \n",
      " 34  accommodates                                  39881 non-null  int64  \n",
      " 35  bathrooms_text                                39797 non-null  object \n",
      " 36  bedrooms                                      36098 non-null  float64\n",
      " 37  beds                                          38997 non-null  float64\n",
      " 38  amenities                                     39881 non-null  object \n",
      " 39  price                                         39881 non-null  object \n",
      " 40  minimum_nights                                39881 non-null  int64  \n",
      " 41  maximum_nights                                39881 non-null  int64  \n",
      " 42  minimum_minimum_nights                        39867 non-null  float64\n",
      " 43  maximum_minimum_nights                        39867 non-null  float64\n",
      " 44  minimum_maximum_nights                        39867 non-null  float64\n",
      " 45  maximum_maximum_nights                        39867 non-null  float64\n",
      " 46  minimum_nights_avg_ntm                        39867 non-null  float64\n",
      " 47  maximum_nights_avg_ntm                        39867 non-null  float64\n",
      " 48  has_availability                              39881 non-null  object \n",
      " 49  availability_30                               39881 non-null  int64  \n",
      " 50  availability_60                               39881 non-null  int64  \n",
      " 51  availability_90                               39881 non-null  int64  \n",
      " 52  availability_365                              39881 non-null  int64  \n",
      " 53  calendar_last_scraped                         39881 non-null  object \n",
      " 54  number_of_reviews                             39881 non-null  int64  \n",
      " 55  number_of_reviews_ltm                         39881 non-null  int64  \n",
      " 56  number_of_reviews_l30d                        39881 non-null  int64  \n",
      " 57  first_review                                  31519 non-null  object \n",
      " 58  last_review                                   31519 non-null  object \n",
      " 59  review_scores_rating                          31519 non-null  float64\n",
      " 60  review_scores_accuracy                        31056 non-null  float64\n",
      " 61  review_scores_cleanliness                     31066 non-null  float64\n",
      " 62  review_scores_checkin                         31052 non-null  float64\n",
      " 63  review_scores_communication                   31061 non-null  float64\n",
      " 64  review_scores_location                        31049 non-null  float64\n",
      " 65  review_scores_value                           31049 non-null  float64\n",
      " 66  instant_bookable                              39881 non-null  object \n",
      " 67  calculated_host_listings_count                39881 non-null  int64  \n",
      " 68  calculated_host_listings_count_entire_homes   39881 non-null  int64  \n",
      " 69  calculated_host_listings_count_private_rooms  39881 non-null  int64  \n",
      " 70  calculated_host_listings_count_shared_rooms   39881 non-null  int64  \n",
      " 71  reviews_per_month                             31519 non-null  float64\n",
      " 72  price_cleansed                                39881 non-null  float64\n",
      "dtypes: float64(21), int64(17), object(35)\n",
      "memory usage: 22.2+ MB\n"
     ]
    }
   ],
   "source": [
    "df.info()"
   ]
  },
  {
   "cell_type": "code",
   "execution_count": 4,
   "metadata": {},
   "outputs": [],
   "source": [
    "# Drop all null\n",
    "df.drop(columns=['bathrooms', 'calendar_updated', 'license'], inplace=True)"
   ]
  },
  {
   "cell_type": "code",
   "execution_count": 7,
   "metadata": {},
   "outputs": [],
   "source": [
    "# Clean attribute for Joey \n",
    "df['price_cleansed'] = df.price.apply(lambda row: float(row[1:].replace(',', '')))"
   ]
  },
  {
   "cell_type": "code",
   "execution_count": 12,
   "metadata": {},
   "outputs": [],
   "source": [
    "df.to_pickle('listings.pkl')"
   ]
  }
 ],
 "metadata": {
  "kernelspec": {
   "display_name": "Python 3",
   "language": "python",
   "name": "python3"
  },
  "language_info": {
   "codemirror_mode": {
    "name": "ipython",
    "version": 3
   },
   "file_extension": ".py",
   "mimetype": "text/x-python",
   "name": "python",
   "nbconvert_exporter": "python",
   "pygments_lexer": "ipython3",
   "version": "3.9.7 (tags/v3.9.7:1016ef3, Aug 30 2021, 20:19:38) [MSC v.1929 64 bit (AMD64)]"
  },
  "orig_nbformat": 4,
  "vscode": {
   "interpreter": {
    "hash": "f6c8f846148a3e4d140e6ddf63c190cff559dcf260a4a21539f0978f2b58638c"
   }
  }
 },
 "nbformat": 4,
 "nbformat_minor": 2
}
