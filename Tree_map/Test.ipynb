{
 "cells": [
  {
   "cell_type": "code",
   "execution_count": 139,
   "metadata": {},
   "outputs": [
    {
     "data": {
      "application/vnd.plotly.v1+json": {
       "config": {
        "plotlyServerURL": "https://plot.ly"
       },
       "data": [
        {
         "branchvalues": "total",
         "customdata": [
          [
           "AFG",
           43.828
          ],
          [
           "AGO",
           42.731
          ],
          [
           "ALB",
           76.423
          ],
          [
           "ARG",
           75.32
          ],
          [
           "AUS",
           81.235
          ],
          [
           "AUT",
           79.829
          ],
          [
           "BDI",
           49.58
          ],
          [
           "BEL",
           79.441
          ],
          [
           "BEN",
           56.728
          ],
          [
           "BFA",
           52.295
          ],
          [
           "BGD",
           64.062
          ],
          [
           "BGR",
           73.005
          ],
          [
           "BHR",
           75.635
          ],
          [
           "BIH",
           74.852
          ],
          [
           "BOL",
           65.554
          ],
          [
           "BRA",
           72.39
          ],
          [
           "BWA",
           50.728
          ],
          [
           "CAF",
           44.74100000000001
          ],
          [
           "CAN",
           80.65300000000002
          ],
          [
           "CHE",
           81.70100000000002
          ],
          [
           "CHL",
           78.553
          ],
          [
           "CHN",
           72.961
          ],
          [
           "CIV",
           48.328
          ],
          [
           "CMR",
           50.43
          ],
          [
           "COD",
           46.46199999999999
          ],
          [
           "COG",
           55.321999999999996
          ],
          [
           "COL",
           72.889
          ],
          [
           "COM",
           65.152
          ],
          [
           "CRI",
           78.782
          ],
          [
           "CUB",
           78.273
          ],
          [
           "CZE",
           76.486
          ],
          [
           "DEU",
           79.406
          ],
          [
           "DJI",
           54.791000000000004
          ],
          [
           "DNK",
           78.332
          ],
          [
           "DOM",
           72.235
          ],
          [
           "DZA",
           72.301
          ],
          [
           "ECU",
           74.994
          ],
          [
           "EGY",
           71.33800000000002
          ],
          [
           "ERI",
           58.03999999999999
          ],
          [
           "ESP",
           80.941
          ],
          [
           "ETH",
           52.946999999999996
          ],
          [
           "FIN",
           79.313
          ],
          [
           "FRA",
           80.65699999999998
          ],
          [
           "GAB",
           56.73500000000001
          ],
          [
           "GBR",
           79.425
          ],
          [
           "GHA",
           60.02199999999999
          ],
          [
           "GIN",
           56.007
          ],
          [
           "GMB",
           59.448
          ],
          [
           "GNB",
           46.38800000000001
          ],
          [
           "GNQ",
           51.57899999999999
          ],
          [
           "GRC",
           79.483
          ],
          [
           "GTM",
           70.259
          ],
          [
           "HKG",
           82.208
          ],
          [
           "HND",
           70.19800000000001
          ],
          [
           "HRV",
           75.748
          ],
          [
           "HTI",
           60.916000000000004
          ],
          [
           "HUN",
           73.33800000000002
          ],
          [
           "IDN",
           70.65
          ],
          [
           "IND",
           64.69800000000001
          ],
          [
           "IRL",
           78.885
          ],
          [
           "IRN",
           70.964
          ],
          [
           "IRQ",
           59.545
          ],
          [
           "ISL",
           81.757
          ],
          [
           "ISR",
           80.745
          ],
          [
           "ITA",
           80.546
          ],
          [
           "JAM",
           72.567
          ],
          [
           "JOR",
           72.535
          ],
          [
           "JPN",
           82.603
          ],
          [
           "KEN",
           54.11
          ],
          [
           "KHM",
           59.723
          ],
          [
           "KOR",
           74.9750656475298
          ],
          [
           "KWT",
           77.58800000000002
          ],
          [
           "LBN",
           71.993
          ],
          [
           "LBR",
           45.67800000000001
          ],
          [
           "LBY",
           73.952
          ],
          [
           "LKA",
           72.396
          ],
          [
           "LSO",
           42.592
          ],
          [
           "MAR",
           71.164
          ],
          [
           "MDG",
           59.443000000000005
          ],
          [
           "MEX",
           76.195
          ],
          [
           "MLI",
           54.467
          ],
          [
           "MMR",
           62.068999999999996
          ],
          [
           "MNE",
           74.543
          ],
          [
           "MNG",
           66.803
          ],
          [
           "MOZ",
           42.082
          ],
          [
           "MRT",
           64.164
          ],
          [
           "MUS",
           72.801
          ],
          [
           "MWI",
           48.303000000000004
          ],
          [
           "MYS",
           74.241
          ],
          [
           "NAM",
           52.90600000000001
          ],
          [
           "NER",
           56.867
          ],
          [
           "NGA",
           46.858999999999995
          ],
          [
           "NIC",
           72.899
          ],
          [
           "NLD",
           79.762
          ],
          [
           "NOR",
           80.196
          ],
          [
           "NPL",
           63.785
          ],
          [
           "NZL",
           80.204
          ],
          [
           "OMN",
           75.64
          ],
          [
           "PAK",
           65.483
          ],
          [
           "PAN",
           75.53699999999998
          ],
          [
           "PER",
           71.421
          ],
          [
           "PHL",
           71.688
          ],
          [
           "POL",
           75.563
          ],
          [
           "PRI",
           78.74600000000002
          ],
          [
           "PRT",
           78.098
          ],
          [
           "PRY",
           71.752
          ],
          [
           "PSE",
           73.422
          ],
          [
           "REU",
           76.442
          ],
          [
           "ROU",
           72.476
          ],
          [
           "RWA",
           46.242
          ],
          [
           "SAU",
           72.777
          ],
          [
           "SDN",
           58.556000000000004
          ],
          [
           "SEN",
           63.062
          ],
          [
           "SGP",
           79.972
          ],
          [
           "SLE",
           42.56800000000001
          ],
          [
           "SLV",
           71.878
          ],
          [
           "SOM",
           48.159
          ],
          [
           "SRB",
           74.002
          ],
          [
           "STP",
           65.528
          ],
          [
           "SVK",
           74.663
          ],
          [
           "SVN",
           77.926
          ],
          [
           "SWE",
           80.884
          ],
          [
           "SWZ",
           39.613
          ],
          [
           "SYR",
           74.143
          ],
          [
           "TCD",
           50.651
          ],
          [
           "TGO",
           58.42
          ],
          [
           "THA",
           70.616
          ],
          [
           "TTO",
           69.819
          ],
          [
           "TUN",
           73.923
          ],
          [
           "TUR",
           71.777
          ],
          [
           "TWN",
           78.4
          ],
          [
           "TZA",
           52.516999999999996
          ],
          [
           "UGA",
           51.542
          ],
          [
           "URY",
           76.384
          ],
          [
           "USA",
           78.242
          ],
          [
           "VEN",
           73.747
          ],
          [
           "VNM",
           74.249
          ],
          [
           "YEM",
           62.698
          ],
          [
           "ZAF",
           49.339
          ],
          [
           "ZMB",
           42.38399999999999
          ],
          [
           "ZWE",
           43.486999999999995
          ],
          [
           "(?)",
           54.56441057558197
          ],
          [
           "(?)",
           75.35668222743027
          ],
          [
           "(?)",
           69.44386304205017
          ],
          [
           "(?)",
           77.89057081069897
          ],
          [
           "(?)",
           81.06215400970112
          ],
          [
           "(?)",
           68.91909251904043
          ]
         ],
         "domain": {
          "x": [
           0,
           1
          ],
          "y": [
           0,
           1
          ]
         },
         "hovertemplate": "labels=%{label}<br>pop=%{value}<br>parent=%{parent}<br>id=%{id}<br>iso_alpha=%{customdata[0]}<br>lifeExp=%{color}<extra></extra>",
         "ids": [
          "world/Asia/AFG",
          "world/Africa/AGO",
          "world/Europe/ALB",
          "world/Americas/ARG",
          "world/Oceania/AUS",
          "world/Europe/AUT",
          "world/Africa/BDI",
          "world/Europe/BEL",
          "world/Africa/BEN",
          "world/Africa/BFA",
          "world/Asia/BGD",
          "world/Europe/BGR",
          "world/Asia/BHR",
          "world/Europe/BIH",
          "world/Americas/BOL",
          "world/Americas/BRA",
          "world/Africa/BWA",
          "world/Africa/CAF",
          "world/Americas/CAN",
          "world/Europe/CHE",
          "world/Americas/CHL",
          "world/Asia/CHN",
          "world/Africa/CIV",
          "world/Africa/CMR",
          "world/Africa/COD",
          "world/Africa/COG",
          "world/Americas/COL",
          "world/Africa/COM",
          "world/Americas/CRI",
          "world/Americas/CUB",
          "world/Europe/CZE",
          "world/Europe/DEU",
          "world/Africa/DJI",
          "world/Europe/DNK",
          "world/Americas/DOM",
          "world/Africa/DZA",
          "world/Americas/ECU",
          "world/Africa/EGY",
          "world/Africa/ERI",
          "world/Europe/ESP",
          "world/Africa/ETH",
          "world/Europe/FIN",
          "world/Europe/FRA",
          "world/Africa/GAB",
          "world/Europe/GBR",
          "world/Africa/GHA",
          "world/Africa/GIN",
          "world/Africa/GMB",
          "world/Africa/GNB",
          "world/Africa/GNQ",
          "world/Europe/GRC",
          "world/Americas/GTM",
          "world/Asia/HKG",
          "world/Americas/HND",
          "world/Europe/HRV",
          "world/Americas/HTI",
          "world/Europe/HUN",
          "world/Asia/IDN",
          "world/Asia/IND",
          "world/Europe/IRL",
          "world/Asia/IRN",
          "world/Asia/IRQ",
          "world/Europe/ISL",
          "world/Asia/ISR",
          "world/Europe/ITA",
          "world/Americas/JAM",
          "world/Asia/JOR",
          "world/Asia/JPN",
          "world/Africa/KEN",
          "world/Asia/KHM",
          "world/Asia/KOR",
          "world/Asia/KWT",
          "world/Asia/LBN",
          "world/Africa/LBR",
          "world/Africa/LBY",
          "world/Asia/LKA",
          "world/Africa/LSO",
          "world/Africa/MAR",
          "world/Africa/MDG",
          "world/Americas/MEX",
          "world/Africa/MLI",
          "world/Asia/MMR",
          "world/Europe/MNE",
          "world/Asia/MNG",
          "world/Africa/MOZ",
          "world/Africa/MRT",
          "world/Africa/MUS",
          "world/Africa/MWI",
          "world/Asia/MYS",
          "world/Africa/NAM",
          "world/Africa/NER",
          "world/Africa/NGA",
          "world/Americas/NIC",
          "world/Europe/NLD",
          "world/Europe/NOR",
          "world/Asia/NPL",
          "world/Oceania/NZL",
          "world/Asia/OMN",
          "world/Asia/PAK",
          "world/Americas/PAN",
          "world/Americas/PER",
          "world/Asia/PHL",
          "world/Europe/POL",
          "world/Americas/PRI",
          "world/Europe/PRT",
          "world/Americas/PRY",
          "world/Asia/PSE",
          "world/Africa/REU",
          "world/Europe/ROU",
          "world/Africa/RWA",
          "world/Asia/SAU",
          "world/Africa/SDN",
          "world/Africa/SEN",
          "world/Asia/SGP",
          "world/Africa/SLE",
          "world/Americas/SLV",
          "world/Africa/SOM",
          "world/Europe/SRB",
          "world/Africa/STP",
          "world/Europe/SVK",
          "world/Europe/SVN",
          "world/Europe/SWE",
          "world/Africa/SWZ",
          "world/Asia/SYR",
          "world/Africa/TCD",
          "world/Africa/TGO",
          "world/Asia/THA",
          "world/Americas/TTO",
          "world/Africa/TUN",
          "world/Europe/TUR",
          "world/Asia/TWN",
          "world/Africa/TZA",
          "world/Africa/UGA",
          "world/Americas/URY",
          "world/Americas/USA",
          "world/Americas/VEN",
          "world/Asia/VNM",
          "world/Asia/YEM",
          "world/Africa/ZAF",
          "world/Africa/ZMB",
          "world/Africa/ZWE",
          "world/Africa",
          "world/Americas",
          "world/Asia",
          "world/Europe",
          "world/Oceania",
          "world"
         ],
         "labels": [
          "AFG",
          "AGO",
          "ALB",
          "ARG",
          "AUS",
          "AUT",
          "BDI",
          "BEL",
          "BEN",
          "BFA",
          "BGD",
          "BGR",
          "BHR",
          "BIH",
          "BOL",
          "BRA",
          "BWA",
          "CAF",
          "CAN",
          "CHE",
          "CHL",
          "CHN",
          "CIV",
          "CMR",
          "COD",
          "COG",
          "COL",
          "COM",
          "CRI",
          "CUB",
          "CZE",
          "DEU",
          "DJI",
          "DNK",
          "DOM",
          "DZA",
          "ECU",
          "EGY",
          "ERI",
          "ESP",
          "ETH",
          "FIN",
          "FRA",
          "GAB",
          "GBR",
          "GHA",
          "GIN",
          "GMB",
          "GNB",
          "GNQ",
          "GRC",
          "GTM",
          "HKG",
          "HND",
          "HRV",
          "HTI",
          "HUN",
          "IDN",
          "IND",
          "IRL",
          "IRN",
          "IRQ",
          "ISL",
          "ISR",
          "ITA",
          "JAM",
          "JOR",
          "JPN",
          "KEN",
          "KHM",
          "KOR",
          "KWT",
          "LBN",
          "LBR",
          "LBY",
          "LKA",
          "LSO",
          "MAR",
          "MDG",
          "MEX",
          "MLI",
          "MMR",
          "MNE",
          "MNG",
          "MOZ",
          "MRT",
          "MUS",
          "MWI",
          "MYS",
          "NAM",
          "NER",
          "NGA",
          "NIC",
          "NLD",
          "NOR",
          "NPL",
          "NZL",
          "OMN",
          "PAK",
          "PAN",
          "PER",
          "PHL",
          "POL",
          "PRI",
          "PRT",
          "PRY",
          "PSE",
          "REU",
          "ROU",
          "RWA",
          "SAU",
          "SDN",
          "SEN",
          "SGP",
          "SLE",
          "SLV",
          "SOM",
          "SRB",
          "STP",
          "SVK",
          "SVN",
          "SWE",
          "SWZ",
          "SYR",
          "TCD",
          "TGO",
          "THA",
          "TTO",
          "TUN",
          "TUR",
          "TWN",
          "TZA",
          "UGA",
          "URY",
          "USA",
          "VEN",
          "VNM",
          "YEM",
          "ZAF",
          "ZMB",
          "ZWE",
          "Africa",
          "Americas",
          "Asia",
          "Europe",
          "Oceania",
          "world"
         ],
         "marker": {
          "coloraxis": "coloraxis",
          "colors": [
           43.828,
           42.731,
           76.423,
           75.32,
           81.235,
           79.829,
           49.58,
           79.441,
           56.728,
           52.295,
           64.062,
           73.005,
           75.635,
           74.852,
           65.554,
           72.39,
           50.728,
           44.74100000000001,
           80.65300000000002,
           81.70100000000002,
           78.553,
           72.961,
           48.328,
           50.43,
           46.46199999999999,
           55.321999999999996,
           72.889,
           65.152,
           78.782,
           78.273,
           76.486,
           79.406,
           54.791000000000004,
           78.332,
           72.235,
           72.301,
           74.994,
           71.33800000000002,
           58.03999999999999,
           80.941,
           52.946999999999996,
           79.313,
           80.65699999999998,
           56.73500000000001,
           79.425,
           60.02199999999999,
           56.007,
           59.448,
           46.38800000000001,
           51.57899999999999,
           79.483,
           70.259,
           82.208,
           70.19800000000001,
           75.748,
           60.916000000000004,
           73.33800000000002,
           70.65,
           64.69800000000001,
           78.885,
           70.964,
           59.545,
           81.757,
           80.745,
           80.546,
           72.567,
           72.535,
           82.603,
           54.11,
           59.723,
           74.9750656475298,
           77.58800000000002,
           71.993,
           45.67800000000001,
           73.952,
           72.396,
           42.592,
           71.164,
           59.443000000000005,
           76.195,
           54.467,
           62.068999999999996,
           74.543,
           66.803,
           42.082,
           64.164,
           72.801,
           48.303000000000004,
           74.241,
           52.90600000000001,
           56.867,
           46.858999999999995,
           72.899,
           79.762,
           80.196,
           63.785,
           80.204,
           75.64,
           65.483,
           75.53699999999998,
           71.421,
           71.688,
           75.563,
           78.74600000000002,
           78.098,
           71.752,
           73.422,
           76.442,
           72.476,
           46.242,
           72.777,
           58.556000000000004,
           63.062,
           79.972,
           42.56800000000001,
           71.878,
           48.159,
           74.002,
           65.528,
           74.663,
           77.926,
           80.884,
           39.613,
           74.143,
           50.651,
           58.42,
           70.616,
           69.819,
           73.923,
           71.777,
           78.4,
           52.516999999999996,
           51.542,
           76.384,
           78.242,
           73.747,
           74.249,
           62.698,
           49.339,
           42.38399999999999,
           43.486999999999995,
           54.56441057558197,
           75.35668222743027,
           69.44386304205017,
           77.89057081069897,
           81.06215400970112,
           68.91909251904043
          ]
         },
         "name": "",
         "parents": [
          "world/Asia",
          "world/Africa",
          "world/Europe",
          "world/Americas",
          "world/Oceania",
          "world/Europe",
          "world/Africa",
          "world/Europe",
          "world/Africa",
          "world/Africa",
          "world/Asia",
          "world/Europe",
          "world/Asia",
          "world/Europe",
          "world/Americas",
          "world/Americas",
          "world/Africa",
          "world/Africa",
          "world/Americas",
          "world/Europe",
          "world/Americas",
          "world/Asia",
          "world/Africa",
          "world/Africa",
          "world/Africa",
          "world/Africa",
          "world/Americas",
          "world/Africa",
          "world/Americas",
          "world/Americas",
          "world/Europe",
          "world/Europe",
          "world/Africa",
          "world/Europe",
          "world/Americas",
          "world/Africa",
          "world/Americas",
          "world/Africa",
          "world/Africa",
          "world/Europe",
          "world/Africa",
          "world/Europe",
          "world/Europe",
          "world/Africa",
          "world/Europe",
          "world/Africa",
          "world/Africa",
          "world/Africa",
          "world/Africa",
          "world/Africa",
          "world/Europe",
          "world/Americas",
          "world/Asia",
          "world/Americas",
          "world/Europe",
          "world/Americas",
          "world/Europe",
          "world/Asia",
          "world/Asia",
          "world/Europe",
          "world/Asia",
          "world/Asia",
          "world/Europe",
          "world/Asia",
          "world/Europe",
          "world/Americas",
          "world/Asia",
          "world/Asia",
          "world/Africa",
          "world/Asia",
          "world/Asia",
          "world/Asia",
          "world/Asia",
          "world/Africa",
          "world/Africa",
          "world/Asia",
          "world/Africa",
          "world/Africa",
          "world/Africa",
          "world/Americas",
          "world/Africa",
          "world/Asia",
          "world/Europe",
          "world/Asia",
          "world/Africa",
          "world/Africa",
          "world/Africa",
          "world/Africa",
          "world/Asia",
          "world/Africa",
          "world/Africa",
          "world/Africa",
          "world/Americas",
          "world/Europe",
          "world/Europe",
          "world/Asia",
          "world/Oceania",
          "world/Asia",
          "world/Asia",
          "world/Americas",
          "world/Americas",
          "world/Asia",
          "world/Europe",
          "world/Americas",
          "world/Europe",
          "world/Americas",
          "world/Asia",
          "world/Africa",
          "world/Europe",
          "world/Africa",
          "world/Asia",
          "world/Africa",
          "world/Africa",
          "world/Asia",
          "world/Africa",
          "world/Americas",
          "world/Africa",
          "world/Europe",
          "world/Africa",
          "world/Europe",
          "world/Europe",
          "world/Europe",
          "world/Africa",
          "world/Asia",
          "world/Africa",
          "world/Africa",
          "world/Asia",
          "world/Americas",
          "world/Africa",
          "world/Europe",
          "world/Asia",
          "world/Africa",
          "world/Africa",
          "world/Americas",
          "world/Americas",
          "world/Americas",
          "world/Asia",
          "world/Asia",
          "world/Africa",
          "world/Africa",
          "world/Africa",
          "world",
          "world",
          "world",
          "world",
          "world",
          ""
         ],
         "type": "treemap",
         "values": [
          31889923,
          12420476,
          3600523,
          40301927,
          20434176,
          8199783,
          8390505,
          10392226,
          8078314,
          14326203,
          150448339,
          7322858,
          708573,
          4552198,
          9119152,
          190010647,
          1639131,
          4369038,
          33390141,
          7554661,
          16284741,
          1318683096,
          18013409,
          17696293,
          64606759,
          3800610,
          44227550,
          710960,
          4133884,
          11416987,
          10228744,
          82400996,
          496374,
          5468120,
          9319622,
          33333216,
          13755680,
          80264543,
          4906585,
          40448191,
          76511887,
          5238460,
          61083916,
          1454867,
          60776238,
          22873338,
          9947814,
          1688359,
          1472041,
          551201,
          10706290,
          12572928,
          6980412,
          7483763,
          4493312,
          8502814,
          9956108,
          223547000,
          1110396331,
          4109086,
          69453570,
          27499638,
          301931,
          6426679,
          58147733,
          2780132,
          6053193,
          127467972,
          35610177,
          14131858,
          72346515,
          2505559,
          3921278,
          3193942,
          6036914,
          20378239,
          2012649,
          33757175,
          19167654,
          108700891,
          12031795,
          47761980,
          684736,
          2874127,
          19951656,
          3270065,
          1250882,
          13327079,
          24821286,
          2055080,
          12894865,
          135031164,
          5675356,
          16570613,
          4627926,
          28901790,
          4115771,
          3204897,
          169270617,
          3242173,
          28674757,
          91077287,
          38518241,
          3942491,
          10642836,
          6667147,
          4018332,
          798094,
          22276056,
          8860588,
          27601038,
          42292929,
          12267493,
          4553009,
          6144562,
          6939688,
          9118773,
          10150265,
          199579,
          5447502,
          2009245,
          9031088,
          1133066,
          19314747,
          10238807,
          5701579,
          65068149,
          1056608,
          10276158,
          71158647,
          23174294,
          38139640,
          29170398,
          3447496,
          301139947,
          26084662,
          85262356,
          22211743,
          43997828,
          11746035,
          12311143,
          929539692,
          898871184,
          3811953827,
          586098529,
          24549947,
          6251013179
         ]
        }
       ],
       "layout": {
        "coloraxis": {
         "cmid": 68.91909251904043,
         "colorbar": {
          "title": {
           "text": "lifeExp"
          }
         },
         "colorscale": [
          [
           0,
           "rgb(103,0,31)"
          ],
          [
           0.1,
           "rgb(178,24,43)"
          ],
          [
           0.2,
           "rgb(214,96,77)"
          ],
          [
           0.3,
           "rgb(244,165,130)"
          ],
          [
           0.4,
           "rgb(253,219,199)"
          ],
          [
           0.5,
           "rgb(247,247,247)"
          ],
          [
           0.6,
           "rgb(209,229,240)"
          ],
          [
           0.7,
           "rgb(146,197,222)"
          ],
          [
           0.8,
           "rgb(67,147,195)"
          ],
          [
           0.9,
           "rgb(33,102,172)"
          ],
          [
           1,
           "rgb(5,48,97)"
          ]
         ]
        },
        "legend": {
         "tracegroupgap": 0
        },
        "margin": {
         "b": 25,
         "l": 25,
         "r": 25,
         "t": 50
        },
        "template": {
         "data": {
          "bar": [
           {
            "error_x": {
             "color": "#2a3f5f"
            },
            "error_y": {
             "color": "#2a3f5f"
            },
            "marker": {
             "line": {
              "color": "#E5ECF6",
              "width": 0.5
             },
             "pattern": {
              "fillmode": "overlay",
              "size": 10,
              "solidity": 0.2
             }
            },
            "type": "bar"
           }
          ],
          "barpolar": [
           {
            "marker": {
             "line": {
              "color": "#E5ECF6",
              "width": 0.5
             },
             "pattern": {
              "fillmode": "overlay",
              "size": 10,
              "solidity": 0.2
             }
            },
            "type": "barpolar"
           }
          ],
          "carpet": [
           {
            "aaxis": {
             "endlinecolor": "#2a3f5f",
             "gridcolor": "white",
             "linecolor": "white",
             "minorgridcolor": "white",
             "startlinecolor": "#2a3f5f"
            },
            "baxis": {
             "endlinecolor": "#2a3f5f",
             "gridcolor": "white",
             "linecolor": "white",
             "minorgridcolor": "white",
             "startlinecolor": "#2a3f5f"
            },
            "type": "carpet"
           }
          ],
          "choropleth": [
           {
            "colorbar": {
             "outlinewidth": 0,
             "ticks": ""
            },
            "type": "choropleth"
           }
          ],
          "contour": [
           {
            "colorbar": {
             "outlinewidth": 0,
             "ticks": ""
            },
            "colorscale": [
             [
              0,
              "#0d0887"
             ],
             [
              0.1111111111111111,
              "#46039f"
             ],
             [
              0.2222222222222222,
              "#7201a8"
             ],
             [
              0.3333333333333333,
              "#9c179e"
             ],
             [
              0.4444444444444444,
              "#bd3786"
             ],
             [
              0.5555555555555556,
              "#d8576b"
             ],
             [
              0.6666666666666666,
              "#ed7953"
             ],
             [
              0.7777777777777778,
              "#fb9f3a"
             ],
             [
              0.8888888888888888,
              "#fdca26"
             ],
             [
              1,
              "#f0f921"
             ]
            ],
            "type": "contour"
           }
          ],
          "contourcarpet": [
           {
            "colorbar": {
             "outlinewidth": 0,
             "ticks": ""
            },
            "type": "contourcarpet"
           }
          ],
          "heatmap": [
           {
            "colorbar": {
             "outlinewidth": 0,
             "ticks": ""
            },
            "colorscale": [
             [
              0,
              "#0d0887"
             ],
             [
              0.1111111111111111,
              "#46039f"
             ],
             [
              0.2222222222222222,
              "#7201a8"
             ],
             [
              0.3333333333333333,
              "#9c179e"
             ],
             [
              0.4444444444444444,
              "#bd3786"
             ],
             [
              0.5555555555555556,
              "#d8576b"
             ],
             [
              0.6666666666666666,
              "#ed7953"
             ],
             [
              0.7777777777777778,
              "#fb9f3a"
             ],
             [
              0.8888888888888888,
              "#fdca26"
             ],
             [
              1,
              "#f0f921"
             ]
            ],
            "type": "heatmap"
           }
          ],
          "heatmapgl": [
           {
            "colorbar": {
             "outlinewidth": 0,
             "ticks": ""
            },
            "colorscale": [
             [
              0,
              "#0d0887"
             ],
             [
              0.1111111111111111,
              "#46039f"
             ],
             [
              0.2222222222222222,
              "#7201a8"
             ],
             [
              0.3333333333333333,
              "#9c179e"
             ],
             [
              0.4444444444444444,
              "#bd3786"
             ],
             [
              0.5555555555555556,
              "#d8576b"
             ],
             [
              0.6666666666666666,
              "#ed7953"
             ],
             [
              0.7777777777777778,
              "#fb9f3a"
             ],
             [
              0.8888888888888888,
              "#fdca26"
             ],
             [
              1,
              "#f0f921"
             ]
            ],
            "type": "heatmapgl"
           }
          ],
          "histogram": [
           {
            "marker": {
             "pattern": {
              "fillmode": "overlay",
              "size": 10,
              "solidity": 0.2
             }
            },
            "type": "histogram"
           }
          ],
          "histogram2d": [
           {
            "colorbar": {
             "outlinewidth": 0,
             "ticks": ""
            },
            "colorscale": [
             [
              0,
              "#0d0887"
             ],
             [
              0.1111111111111111,
              "#46039f"
             ],
             [
              0.2222222222222222,
              "#7201a8"
             ],
             [
              0.3333333333333333,
              "#9c179e"
             ],
             [
              0.4444444444444444,
              "#bd3786"
             ],
             [
              0.5555555555555556,
              "#d8576b"
             ],
             [
              0.6666666666666666,
              "#ed7953"
             ],
             [
              0.7777777777777778,
              "#fb9f3a"
             ],
             [
              0.8888888888888888,
              "#fdca26"
             ],
             [
              1,
              "#f0f921"
             ]
            ],
            "type": "histogram2d"
           }
          ],
          "histogram2dcontour": [
           {
            "colorbar": {
             "outlinewidth": 0,
             "ticks": ""
            },
            "colorscale": [
             [
              0,
              "#0d0887"
             ],
             [
              0.1111111111111111,
              "#46039f"
             ],
             [
              0.2222222222222222,
              "#7201a8"
             ],
             [
              0.3333333333333333,
              "#9c179e"
             ],
             [
              0.4444444444444444,
              "#bd3786"
             ],
             [
              0.5555555555555556,
              "#d8576b"
             ],
             [
              0.6666666666666666,
              "#ed7953"
             ],
             [
              0.7777777777777778,
              "#fb9f3a"
             ],
             [
              0.8888888888888888,
              "#fdca26"
             ],
             [
              1,
              "#f0f921"
             ]
            ],
            "type": "histogram2dcontour"
           }
          ],
          "mesh3d": [
           {
            "colorbar": {
             "outlinewidth": 0,
             "ticks": ""
            },
            "type": "mesh3d"
           }
          ],
          "parcoords": [
           {
            "line": {
             "colorbar": {
              "outlinewidth": 0,
              "ticks": ""
             }
            },
            "type": "parcoords"
           }
          ],
          "pie": [
           {
            "automargin": true,
            "type": "pie"
           }
          ],
          "scatter": [
           {
            "fillpattern": {
             "fillmode": "overlay",
             "size": 10,
             "solidity": 0.2
            },
            "type": "scatter"
           }
          ],
          "scatter3d": [
           {
            "line": {
             "colorbar": {
              "outlinewidth": 0,
              "ticks": ""
             }
            },
            "marker": {
             "colorbar": {
              "outlinewidth": 0,
              "ticks": ""
             }
            },
            "type": "scatter3d"
           }
          ],
          "scattercarpet": [
           {
            "marker": {
             "colorbar": {
              "outlinewidth": 0,
              "ticks": ""
             }
            },
            "type": "scattercarpet"
           }
          ],
          "scattergeo": [
           {
            "marker": {
             "colorbar": {
              "outlinewidth": 0,
              "ticks": ""
             }
            },
            "type": "scattergeo"
           }
          ],
          "scattergl": [
           {
            "marker": {
             "colorbar": {
              "outlinewidth": 0,
              "ticks": ""
             }
            },
            "type": "scattergl"
           }
          ],
          "scattermapbox": [
           {
            "marker": {
             "colorbar": {
              "outlinewidth": 0,
              "ticks": ""
             }
            },
            "type": "scattermapbox"
           }
          ],
          "scatterpolar": [
           {
            "marker": {
             "colorbar": {
              "outlinewidth": 0,
              "ticks": ""
             }
            },
            "type": "scatterpolar"
           }
          ],
          "scatterpolargl": [
           {
            "marker": {
             "colorbar": {
              "outlinewidth": 0,
              "ticks": ""
             }
            },
            "type": "scatterpolargl"
           }
          ],
          "scatterternary": [
           {
            "marker": {
             "colorbar": {
              "outlinewidth": 0,
              "ticks": ""
             }
            },
            "type": "scatterternary"
           }
          ],
          "surface": [
           {
            "colorbar": {
             "outlinewidth": 0,
             "ticks": ""
            },
            "colorscale": [
             [
              0,
              "#0d0887"
             ],
             [
              0.1111111111111111,
              "#46039f"
             ],
             [
              0.2222222222222222,
              "#7201a8"
             ],
             [
              0.3333333333333333,
              "#9c179e"
             ],
             [
              0.4444444444444444,
              "#bd3786"
             ],
             [
              0.5555555555555556,
              "#d8576b"
             ],
             [
              0.6666666666666666,
              "#ed7953"
             ],
             [
              0.7777777777777778,
              "#fb9f3a"
             ],
             [
              0.8888888888888888,
              "#fdca26"
             ],
             [
              1,
              "#f0f921"
             ]
            ],
            "type": "surface"
           }
          ],
          "table": [
           {
            "cells": {
             "fill": {
              "color": "#EBF0F8"
             },
             "line": {
              "color": "white"
             }
            },
            "header": {
             "fill": {
              "color": "#C8D4E3"
             },
             "line": {
              "color": "white"
             }
            },
            "type": "table"
           }
          ]
         },
         "layout": {
          "annotationdefaults": {
           "arrowcolor": "#2a3f5f",
           "arrowhead": 0,
           "arrowwidth": 1
          },
          "autotypenumbers": "strict",
          "coloraxis": {
           "colorbar": {
            "outlinewidth": 0,
            "ticks": ""
           }
          },
          "colorscale": {
           "diverging": [
            [
             0,
             "#8e0152"
            ],
            [
             0.1,
             "#c51b7d"
            ],
            [
             0.2,
             "#de77ae"
            ],
            [
             0.3,
             "#f1b6da"
            ],
            [
             0.4,
             "#fde0ef"
            ],
            [
             0.5,
             "#f7f7f7"
            ],
            [
             0.6,
             "#e6f5d0"
            ],
            [
             0.7,
             "#b8e186"
            ],
            [
             0.8,
             "#7fbc41"
            ],
            [
             0.9,
             "#4d9221"
            ],
            [
             1,
             "#276419"
            ]
           ],
           "sequential": [
            [
             0,
             "#0d0887"
            ],
            [
             0.1111111111111111,
             "#46039f"
            ],
            [
             0.2222222222222222,
             "#7201a8"
            ],
            [
             0.3333333333333333,
             "#9c179e"
            ],
            [
             0.4444444444444444,
             "#bd3786"
            ],
            [
             0.5555555555555556,
             "#d8576b"
            ],
            [
             0.6666666666666666,
             "#ed7953"
            ],
            [
             0.7777777777777778,
             "#fb9f3a"
            ],
            [
             0.8888888888888888,
             "#fdca26"
            ],
            [
             1,
             "#f0f921"
            ]
           ],
           "sequentialminus": [
            [
             0,
             "#0d0887"
            ],
            [
             0.1111111111111111,
             "#46039f"
            ],
            [
             0.2222222222222222,
             "#7201a8"
            ],
            [
             0.3333333333333333,
             "#9c179e"
            ],
            [
             0.4444444444444444,
             "#bd3786"
            ],
            [
             0.5555555555555556,
             "#d8576b"
            ],
            [
             0.6666666666666666,
             "#ed7953"
            ],
            [
             0.7777777777777778,
             "#fb9f3a"
            ],
            [
             0.8888888888888888,
             "#fdca26"
            ],
            [
             1,
             "#f0f921"
            ]
           ]
          },
          "colorway": [
           "#636efa",
           "#EF553B",
           "#00cc96",
           "#ab63fa",
           "#FFA15A",
           "#19d3f3",
           "#FF6692",
           "#B6E880",
           "#FF97FF",
           "#FECB52"
          ],
          "font": {
           "color": "#2a3f5f"
          },
          "geo": {
           "bgcolor": "white",
           "lakecolor": "white",
           "landcolor": "#E5ECF6",
           "showlakes": true,
           "showland": true,
           "subunitcolor": "white"
          },
          "hoverlabel": {
           "align": "left"
          },
          "hovermode": "closest",
          "mapbox": {
           "style": "light"
          },
          "paper_bgcolor": "white",
          "plot_bgcolor": "#E5ECF6",
          "polar": {
           "angularaxis": {
            "gridcolor": "white",
            "linecolor": "white",
            "ticks": ""
           },
           "bgcolor": "#E5ECF6",
           "radialaxis": {
            "gridcolor": "white",
            "linecolor": "white",
            "ticks": ""
           }
          },
          "scene": {
           "xaxis": {
            "backgroundcolor": "#E5ECF6",
            "gridcolor": "white",
            "gridwidth": 2,
            "linecolor": "white",
            "showbackground": true,
            "ticks": "",
            "zerolinecolor": "white"
           },
           "yaxis": {
            "backgroundcolor": "#E5ECF6",
            "gridcolor": "white",
            "gridwidth": 2,
            "linecolor": "white",
            "showbackground": true,
            "ticks": "",
            "zerolinecolor": "white"
           },
           "zaxis": {
            "backgroundcolor": "#E5ECF6",
            "gridcolor": "white",
            "gridwidth": 2,
            "linecolor": "white",
            "showbackground": true,
            "ticks": "",
            "zerolinecolor": "white"
           }
          },
          "shapedefaults": {
           "line": {
            "color": "#2a3f5f"
           }
          },
          "ternary": {
           "aaxis": {
            "gridcolor": "white",
            "linecolor": "white",
            "ticks": ""
           },
           "baxis": {
            "gridcolor": "white",
            "linecolor": "white",
            "ticks": ""
           },
           "bgcolor": "#E5ECF6",
           "caxis": {
            "gridcolor": "white",
            "linecolor": "white",
            "ticks": ""
           }
          },
          "title": {
           "x": 0.05
          },
          "xaxis": {
           "automargin": true,
           "gridcolor": "white",
           "linecolor": "white",
           "ticks": "",
           "title": {
            "standoff": 15
           },
           "zerolinecolor": "white",
           "zerolinewidth": 2
          },
          "yaxis": {
           "automargin": true,
           "gridcolor": "white",
           "linecolor": "white",
           "ticks": "",
           "title": {
            "standoff": 15
           },
           "zerolinecolor": "white",
           "zerolinewidth": 2
          }
         }
        }
       }
      }
     },
     "metadata": {},
     "output_type": "display_data"
    }
   ],
   "source": [
    "import plotly.express as px\n",
    "import numpy as np\n",
    "df = px.data.gapminder().query(\"year == 2007\")\n",
    "fig = px.treemap(df, path=[px.Constant(\"world\"), 'continent', 'iso_alpha'], values='pop',\n",
    "                  color='lifeExp', hover_data=['iso_alpha'],\n",
    "                  color_continuous_scale='RdBu',\n",
    "                  color_continuous_midpoint=np.average(df['lifeExp'], weights=df['pop']))\n",
    "fig.update_layout(margin = dict(t=50, l=25, r=25, b=25))\n",
    "fig.show()"
   ]
  },
  {
   "cell_type": "code",
   "execution_count": 137,
   "metadata": {},
   "outputs": [
    {
     "data": {
      "text/html": [
       "<div>\n",
       "<style scoped>\n",
       "    .dataframe tbody tr th:only-of-type {\n",
       "        vertical-align: middle;\n",
       "    }\n",
       "\n",
       "    .dataframe tbody tr th {\n",
       "        vertical-align: top;\n",
       "    }\n",
       "\n",
       "    .dataframe thead th {\n",
       "        text-align: right;\n",
       "    }\n",
       "</style>\n",
       "<table border=\"1\" class=\"dataframe\">\n",
       "  <thead>\n",
       "    <tr style=\"text-align: right;\">\n",
       "      <th></th>\n",
       "      <th>country</th>\n",
       "      <th>continent</th>\n",
       "      <th>year</th>\n",
       "      <th>lifeExp</th>\n",
       "      <th>pop</th>\n",
       "      <th>gdpPercap</th>\n",
       "      <th>iso_alpha</th>\n",
       "      <th>iso_num</th>\n",
       "    </tr>\n",
       "  </thead>\n",
       "  <tbody>\n",
       "    <tr>\n",
       "      <th>11</th>\n",
       "      <td>Afghanistan</td>\n",
       "      <td>Asia</td>\n",
       "      <td>2007</td>\n",
       "      <td>43.828</td>\n",
       "      <td>31889923</td>\n",
       "      <td>974.580338</td>\n",
       "      <td>AFG</td>\n",
       "      <td>4</td>\n",
       "    </tr>\n",
       "    <tr>\n",
       "      <th>23</th>\n",
       "      <td>Albania</td>\n",
       "      <td>Europe</td>\n",
       "      <td>2007</td>\n",
       "      <td>76.423</td>\n",
       "      <td>3600523</td>\n",
       "      <td>5937.029526</td>\n",
       "      <td>ALB</td>\n",
       "      <td>8</td>\n",
       "    </tr>\n",
       "    <tr>\n",
       "      <th>35</th>\n",
       "      <td>Algeria</td>\n",
       "      <td>Africa</td>\n",
       "      <td>2007</td>\n",
       "      <td>72.301</td>\n",
       "      <td>33333216</td>\n",
       "      <td>6223.367465</td>\n",
       "      <td>DZA</td>\n",
       "      <td>12</td>\n",
       "    </tr>\n",
       "    <tr>\n",
       "      <th>47</th>\n",
       "      <td>Angola</td>\n",
       "      <td>Africa</td>\n",
       "      <td>2007</td>\n",
       "      <td>42.731</td>\n",
       "      <td>12420476</td>\n",
       "      <td>4797.231267</td>\n",
       "      <td>AGO</td>\n",
       "      <td>24</td>\n",
       "    </tr>\n",
       "    <tr>\n",
       "      <th>59</th>\n",
       "      <td>Argentina</td>\n",
       "      <td>Americas</td>\n",
       "      <td>2007</td>\n",
       "      <td>75.320</td>\n",
       "      <td>40301927</td>\n",
       "      <td>12779.379640</td>\n",
       "      <td>ARG</td>\n",
       "      <td>32</td>\n",
       "    </tr>\n",
       "    <tr>\n",
       "      <th>...</th>\n",
       "      <td>...</td>\n",
       "      <td>...</td>\n",
       "      <td>...</td>\n",
       "      <td>...</td>\n",
       "      <td>...</td>\n",
       "      <td>...</td>\n",
       "      <td>...</td>\n",
       "      <td>...</td>\n",
       "    </tr>\n",
       "    <tr>\n",
       "      <th>1655</th>\n",
       "      <td>Vietnam</td>\n",
       "      <td>Asia</td>\n",
       "      <td>2007</td>\n",
       "      <td>74.249</td>\n",
       "      <td>85262356</td>\n",
       "      <td>2441.576404</td>\n",
       "      <td>VNM</td>\n",
       "      <td>704</td>\n",
       "    </tr>\n",
       "    <tr>\n",
       "      <th>1667</th>\n",
       "      <td>West Bank and Gaza</td>\n",
       "      <td>Asia</td>\n",
       "      <td>2007</td>\n",
       "      <td>73.422</td>\n",
       "      <td>4018332</td>\n",
       "      <td>3025.349798</td>\n",
       "      <td>PSE</td>\n",
       "      <td>275</td>\n",
       "    </tr>\n",
       "    <tr>\n",
       "      <th>1679</th>\n",
       "      <td>Yemen, Rep.</td>\n",
       "      <td>Asia</td>\n",
       "      <td>2007</td>\n",
       "      <td>62.698</td>\n",
       "      <td>22211743</td>\n",
       "      <td>2280.769906</td>\n",
       "      <td>YEM</td>\n",
       "      <td>887</td>\n",
       "    </tr>\n",
       "    <tr>\n",
       "      <th>1691</th>\n",
       "      <td>Zambia</td>\n",
       "      <td>Africa</td>\n",
       "      <td>2007</td>\n",
       "      <td>42.384</td>\n",
       "      <td>11746035</td>\n",
       "      <td>1271.211593</td>\n",
       "      <td>ZMB</td>\n",
       "      <td>894</td>\n",
       "    </tr>\n",
       "    <tr>\n",
       "      <th>1703</th>\n",
       "      <td>Zimbabwe</td>\n",
       "      <td>Africa</td>\n",
       "      <td>2007</td>\n",
       "      <td>43.487</td>\n",
       "      <td>12311143</td>\n",
       "      <td>469.709298</td>\n",
       "      <td>ZWE</td>\n",
       "      <td>716</td>\n",
       "    </tr>\n",
       "  </tbody>\n",
       "</table>\n",
       "<p>142 rows × 8 columns</p>\n",
       "</div>"
      ],
      "text/plain": [
       "                 country continent  year  lifeExp       pop     gdpPercap  \\\n",
       "11           Afghanistan      Asia  2007   43.828  31889923    974.580338   \n",
       "23               Albania    Europe  2007   76.423   3600523   5937.029526   \n",
       "35               Algeria    Africa  2007   72.301  33333216   6223.367465   \n",
       "47                Angola    Africa  2007   42.731  12420476   4797.231267   \n",
       "59             Argentina  Americas  2007   75.320  40301927  12779.379640   \n",
       "...                  ...       ...   ...      ...       ...           ...   \n",
       "1655             Vietnam      Asia  2007   74.249  85262356   2441.576404   \n",
       "1667  West Bank and Gaza      Asia  2007   73.422   4018332   3025.349798   \n",
       "1679         Yemen, Rep.      Asia  2007   62.698  22211743   2280.769906   \n",
       "1691              Zambia    Africa  2007   42.384  11746035   1271.211593   \n",
       "1703            Zimbabwe    Africa  2007   43.487  12311143    469.709298   \n",
       "\n",
       "     iso_alpha  iso_num  \n",
       "11         AFG        4  \n",
       "23         ALB        8  \n",
       "35         DZA       12  \n",
       "47         AGO       24  \n",
       "59         ARG       32  \n",
       "...        ...      ...  \n",
       "1655       VNM      704  \n",
       "1667       PSE      275  \n",
       "1679       YEM      887  \n",
       "1691       ZMB      894  \n",
       "1703       ZWE      716  \n",
       "\n",
       "[142 rows x 8 columns]"
      ]
     },
     "execution_count": 137,
     "metadata": {},
     "output_type": "execute_result"
    }
   ],
   "source": [
    "df"
   ]
  },
  {
   "cell_type": "code",
   "execution_count": 6,
   "metadata": {},
   "outputs": [
    {
     "data": {
      "application/vnd.plotly.v1+json": {
       "config": {
        "plotlyServerURL": "https://plot.ly"
       },
       "data": [
        {
         "domain": {
          "x": [
           0,
           1
          ],
          "y": [
           0,
           1
          ]
         },
         "hovertemplate": "label=%{label}<br>parent=%{parent}<extra></extra>",
         "labels": [
          "Eve",
          "Cain",
          "Seth",
          "Enos",
          "Noam",
          "Abel",
          "Awan",
          "Enoch",
          "Azura"
         ],
         "name": "",
         "parents": [
          "",
          "Eve",
          "Eve",
          "Eve",
          "Seth",
          "Eve",
          "Eve",
          "Awan",
          "Eve"
         ],
         "root": {
          "color": "lightgrey"
         },
         "type": "treemap"
        }
       ],
       "layout": {
        "legend": {
         "tracegroupgap": 0
        },
        "margin": {
         "b": 25,
         "l": 25,
         "r": 25,
         "t": 50
        },
        "template": {
         "data": {
          "bar": [
           {
            "error_x": {
             "color": "#2a3f5f"
            },
            "error_y": {
             "color": "#2a3f5f"
            },
            "marker": {
             "line": {
              "color": "#E5ECF6",
              "width": 0.5
             },
             "pattern": {
              "fillmode": "overlay",
              "size": 10,
              "solidity": 0.2
             }
            },
            "type": "bar"
           }
          ],
          "barpolar": [
           {
            "marker": {
             "line": {
              "color": "#E5ECF6",
              "width": 0.5
             },
             "pattern": {
              "fillmode": "overlay",
              "size": 10,
              "solidity": 0.2
             }
            },
            "type": "barpolar"
           }
          ],
          "carpet": [
           {
            "aaxis": {
             "endlinecolor": "#2a3f5f",
             "gridcolor": "white",
             "linecolor": "white",
             "minorgridcolor": "white",
             "startlinecolor": "#2a3f5f"
            },
            "baxis": {
             "endlinecolor": "#2a3f5f",
             "gridcolor": "white",
             "linecolor": "white",
             "minorgridcolor": "white",
             "startlinecolor": "#2a3f5f"
            },
            "type": "carpet"
           }
          ],
          "choropleth": [
           {
            "colorbar": {
             "outlinewidth": 0,
             "ticks": ""
            },
            "type": "choropleth"
           }
          ],
          "contour": [
           {
            "colorbar": {
             "outlinewidth": 0,
             "ticks": ""
            },
            "colorscale": [
             [
              0,
              "#0d0887"
             ],
             [
              0.1111111111111111,
              "#46039f"
             ],
             [
              0.2222222222222222,
              "#7201a8"
             ],
             [
              0.3333333333333333,
              "#9c179e"
             ],
             [
              0.4444444444444444,
              "#bd3786"
             ],
             [
              0.5555555555555556,
              "#d8576b"
             ],
             [
              0.6666666666666666,
              "#ed7953"
             ],
             [
              0.7777777777777778,
              "#fb9f3a"
             ],
             [
              0.8888888888888888,
              "#fdca26"
             ],
             [
              1,
              "#f0f921"
             ]
            ],
            "type": "contour"
           }
          ],
          "contourcarpet": [
           {
            "colorbar": {
             "outlinewidth": 0,
             "ticks": ""
            },
            "type": "contourcarpet"
           }
          ],
          "heatmap": [
           {
            "colorbar": {
             "outlinewidth": 0,
             "ticks": ""
            },
            "colorscale": [
             [
              0,
              "#0d0887"
             ],
             [
              0.1111111111111111,
              "#46039f"
             ],
             [
              0.2222222222222222,
              "#7201a8"
             ],
             [
              0.3333333333333333,
              "#9c179e"
             ],
             [
              0.4444444444444444,
              "#bd3786"
             ],
             [
              0.5555555555555556,
              "#d8576b"
             ],
             [
              0.6666666666666666,
              "#ed7953"
             ],
             [
              0.7777777777777778,
              "#fb9f3a"
             ],
             [
              0.8888888888888888,
              "#fdca26"
             ],
             [
              1,
              "#f0f921"
             ]
            ],
            "type": "heatmap"
           }
          ],
          "heatmapgl": [
           {
            "colorbar": {
             "outlinewidth": 0,
             "ticks": ""
            },
            "colorscale": [
             [
              0,
              "#0d0887"
             ],
             [
              0.1111111111111111,
              "#46039f"
             ],
             [
              0.2222222222222222,
              "#7201a8"
             ],
             [
              0.3333333333333333,
              "#9c179e"
             ],
             [
              0.4444444444444444,
              "#bd3786"
             ],
             [
              0.5555555555555556,
              "#d8576b"
             ],
             [
              0.6666666666666666,
              "#ed7953"
             ],
             [
              0.7777777777777778,
              "#fb9f3a"
             ],
             [
              0.8888888888888888,
              "#fdca26"
             ],
             [
              1,
              "#f0f921"
             ]
            ],
            "type": "heatmapgl"
           }
          ],
          "histogram": [
           {
            "marker": {
             "pattern": {
              "fillmode": "overlay",
              "size": 10,
              "solidity": 0.2
             }
            },
            "type": "histogram"
           }
          ],
          "histogram2d": [
           {
            "colorbar": {
             "outlinewidth": 0,
             "ticks": ""
            },
            "colorscale": [
             [
              0,
              "#0d0887"
             ],
             [
              0.1111111111111111,
              "#46039f"
             ],
             [
              0.2222222222222222,
              "#7201a8"
             ],
             [
              0.3333333333333333,
              "#9c179e"
             ],
             [
              0.4444444444444444,
              "#bd3786"
             ],
             [
              0.5555555555555556,
              "#d8576b"
             ],
             [
              0.6666666666666666,
              "#ed7953"
             ],
             [
              0.7777777777777778,
              "#fb9f3a"
             ],
             [
              0.8888888888888888,
              "#fdca26"
             ],
             [
              1,
              "#f0f921"
             ]
            ],
            "type": "histogram2d"
           }
          ],
          "histogram2dcontour": [
           {
            "colorbar": {
             "outlinewidth": 0,
             "ticks": ""
            },
            "colorscale": [
             [
              0,
              "#0d0887"
             ],
             [
              0.1111111111111111,
              "#46039f"
             ],
             [
              0.2222222222222222,
              "#7201a8"
             ],
             [
              0.3333333333333333,
              "#9c179e"
             ],
             [
              0.4444444444444444,
              "#bd3786"
             ],
             [
              0.5555555555555556,
              "#d8576b"
             ],
             [
              0.6666666666666666,
              "#ed7953"
             ],
             [
              0.7777777777777778,
              "#fb9f3a"
             ],
             [
              0.8888888888888888,
              "#fdca26"
             ],
             [
              1,
              "#f0f921"
             ]
            ],
            "type": "histogram2dcontour"
           }
          ],
          "mesh3d": [
           {
            "colorbar": {
             "outlinewidth": 0,
             "ticks": ""
            },
            "type": "mesh3d"
           }
          ],
          "parcoords": [
           {
            "line": {
             "colorbar": {
              "outlinewidth": 0,
              "ticks": ""
             }
            },
            "type": "parcoords"
           }
          ],
          "pie": [
           {
            "automargin": true,
            "type": "pie"
           }
          ],
          "scatter": [
           {
            "fillpattern": {
             "fillmode": "overlay",
             "size": 10,
             "solidity": 0.2
            },
            "type": "scatter"
           }
          ],
          "scatter3d": [
           {
            "line": {
             "colorbar": {
              "outlinewidth": 0,
              "ticks": ""
             }
            },
            "marker": {
             "colorbar": {
              "outlinewidth": 0,
              "ticks": ""
             }
            },
            "type": "scatter3d"
           }
          ],
          "scattercarpet": [
           {
            "marker": {
             "colorbar": {
              "outlinewidth": 0,
              "ticks": ""
             }
            },
            "type": "scattercarpet"
           }
          ],
          "scattergeo": [
           {
            "marker": {
             "colorbar": {
              "outlinewidth": 0,
              "ticks": ""
             }
            },
            "type": "scattergeo"
           }
          ],
          "scattergl": [
           {
            "marker": {
             "colorbar": {
              "outlinewidth": 0,
              "ticks": ""
             }
            },
            "type": "scattergl"
           }
          ],
          "scattermapbox": [
           {
            "marker": {
             "colorbar": {
              "outlinewidth": 0,
              "ticks": ""
             }
            },
            "type": "scattermapbox"
           }
          ],
          "scatterpolar": [
           {
            "marker": {
             "colorbar": {
              "outlinewidth": 0,
              "ticks": ""
             }
            },
            "type": "scatterpolar"
           }
          ],
          "scatterpolargl": [
           {
            "marker": {
             "colorbar": {
              "outlinewidth": 0,
              "ticks": ""
             }
            },
            "type": "scatterpolargl"
           }
          ],
          "scatterternary": [
           {
            "marker": {
             "colorbar": {
              "outlinewidth": 0,
              "ticks": ""
             }
            },
            "type": "scatterternary"
           }
          ],
          "surface": [
           {
            "colorbar": {
             "outlinewidth": 0,
             "ticks": ""
            },
            "colorscale": [
             [
              0,
              "#0d0887"
             ],
             [
              0.1111111111111111,
              "#46039f"
             ],
             [
              0.2222222222222222,
              "#7201a8"
             ],
             [
              0.3333333333333333,
              "#9c179e"
             ],
             [
              0.4444444444444444,
              "#bd3786"
             ],
             [
              0.5555555555555556,
              "#d8576b"
             ],
             [
              0.6666666666666666,
              "#ed7953"
             ],
             [
              0.7777777777777778,
              "#fb9f3a"
             ],
             [
              0.8888888888888888,
              "#fdca26"
             ],
             [
              1,
              "#f0f921"
             ]
            ],
            "type": "surface"
           }
          ],
          "table": [
           {
            "cells": {
             "fill": {
              "color": "#EBF0F8"
             },
             "line": {
              "color": "white"
             }
            },
            "header": {
             "fill": {
              "color": "#C8D4E3"
             },
             "line": {
              "color": "white"
             }
            },
            "type": "table"
           }
          ]
         },
         "layout": {
          "annotationdefaults": {
           "arrowcolor": "#2a3f5f",
           "arrowhead": 0,
           "arrowwidth": 1
          },
          "autotypenumbers": "strict",
          "coloraxis": {
           "colorbar": {
            "outlinewidth": 0,
            "ticks": ""
           }
          },
          "colorscale": {
           "diverging": [
            [
             0,
             "#8e0152"
            ],
            [
             0.1,
             "#c51b7d"
            ],
            [
             0.2,
             "#de77ae"
            ],
            [
             0.3,
             "#f1b6da"
            ],
            [
             0.4,
             "#fde0ef"
            ],
            [
             0.5,
             "#f7f7f7"
            ],
            [
             0.6,
             "#e6f5d0"
            ],
            [
             0.7,
             "#b8e186"
            ],
            [
             0.8,
             "#7fbc41"
            ],
            [
             0.9,
             "#4d9221"
            ],
            [
             1,
             "#276419"
            ]
           ],
           "sequential": [
            [
             0,
             "#0d0887"
            ],
            [
             0.1111111111111111,
             "#46039f"
            ],
            [
             0.2222222222222222,
             "#7201a8"
            ],
            [
             0.3333333333333333,
             "#9c179e"
            ],
            [
             0.4444444444444444,
             "#bd3786"
            ],
            [
             0.5555555555555556,
             "#d8576b"
            ],
            [
             0.6666666666666666,
             "#ed7953"
            ],
            [
             0.7777777777777778,
             "#fb9f3a"
            ],
            [
             0.8888888888888888,
             "#fdca26"
            ],
            [
             1,
             "#f0f921"
            ]
           ],
           "sequentialminus": [
            [
             0,
             "#0d0887"
            ],
            [
             0.1111111111111111,
             "#46039f"
            ],
            [
             0.2222222222222222,
             "#7201a8"
            ],
            [
             0.3333333333333333,
             "#9c179e"
            ],
            [
             0.4444444444444444,
             "#bd3786"
            ],
            [
             0.5555555555555556,
             "#d8576b"
            ],
            [
             0.6666666666666666,
             "#ed7953"
            ],
            [
             0.7777777777777778,
             "#fb9f3a"
            ],
            [
             0.8888888888888888,
             "#fdca26"
            ],
            [
             1,
             "#f0f921"
            ]
           ]
          },
          "colorway": [
           "#636efa",
           "#EF553B",
           "#00cc96",
           "#ab63fa",
           "#FFA15A",
           "#19d3f3",
           "#FF6692",
           "#B6E880",
           "#FF97FF",
           "#FECB52"
          ],
          "font": {
           "color": "#2a3f5f"
          },
          "geo": {
           "bgcolor": "white",
           "lakecolor": "white",
           "landcolor": "#E5ECF6",
           "showlakes": true,
           "showland": true,
           "subunitcolor": "white"
          },
          "hoverlabel": {
           "align": "left"
          },
          "hovermode": "closest",
          "mapbox": {
           "style": "light"
          },
          "paper_bgcolor": "white",
          "plot_bgcolor": "#E5ECF6",
          "polar": {
           "angularaxis": {
            "gridcolor": "white",
            "linecolor": "white",
            "ticks": ""
           },
           "bgcolor": "#E5ECF6",
           "radialaxis": {
            "gridcolor": "white",
            "linecolor": "white",
            "ticks": ""
           }
          },
          "scene": {
           "xaxis": {
            "backgroundcolor": "#E5ECF6",
            "gridcolor": "white",
            "gridwidth": 2,
            "linecolor": "white",
            "showbackground": true,
            "ticks": "",
            "zerolinecolor": "white"
           },
           "yaxis": {
            "backgroundcolor": "#E5ECF6",
            "gridcolor": "white",
            "gridwidth": 2,
            "linecolor": "white",
            "showbackground": true,
            "ticks": "",
            "zerolinecolor": "white"
           },
           "zaxis": {
            "backgroundcolor": "#E5ECF6",
            "gridcolor": "white",
            "gridwidth": 2,
            "linecolor": "white",
            "showbackground": true,
            "ticks": "",
            "zerolinecolor": "white"
           }
          },
          "shapedefaults": {
           "line": {
            "color": "#2a3f5f"
           }
          },
          "ternary": {
           "aaxis": {
            "gridcolor": "white",
            "linecolor": "white",
            "ticks": ""
           },
           "baxis": {
            "gridcolor": "white",
            "linecolor": "white",
            "ticks": ""
           },
           "bgcolor": "#E5ECF6",
           "caxis": {
            "gridcolor": "white",
            "linecolor": "white",
            "ticks": ""
           }
          },
          "title": {
           "x": 0.05
          },
          "xaxis": {
           "automargin": true,
           "gridcolor": "white",
           "linecolor": "white",
           "ticks": "",
           "title": {
            "standoff": 15
           },
           "zerolinecolor": "white",
           "zerolinewidth": 2
          },
          "yaxis": {
           "automargin": true,
           "gridcolor": "white",
           "linecolor": "white",
           "ticks": "",
           "title": {
            "standoff": 15
           },
           "zerolinecolor": "white",
           "zerolinewidth": 2
          }
         }
        }
       }
      }
     },
     "metadata": {},
     "output_type": "display_data"
    }
   ],
   "source": [
    "import plotly.express as px\n",
    "fig = px.treemap(\n",
    "    names = [\"Eve\",\"Cain\", \"Seth\", \"Enos\", \"Noam\", \"Abel\", \"Awan\", \"Enoch\", \"Azura\"],\n",
    "    parents = [\"\", \"Eve\", \"Eve\", \"Eve\", \"Seth\", \"Eve\", \"Eve\", \"Awan\", \"Eve\"]\n",
    ")\n",
    "fig.update_traces(root_color=\"lightgrey\")\n",
    "fig.update_layout(margin = dict(t=50, l=25, r=25, b=25))\n",
    "fig.show()"
   ]
  },
  {
   "cell_type": "code",
   "execution_count": 112,
   "metadata": {},
   "outputs": [
    {
     "name": "stdout",
     "output_type": "stream",
     "text": [
      "   Unnamed: 0 region   county salesperson  calls  sales\n",
      "0           0  North   Dallam          JE     35     23\n",
      "1           1  North   Dallam          ZQ     49     13\n",
      "2           2  North   Dallam          IJ     20      6\n",
      "3           3  North  Hartley          WE     39     37\n",
      "4           4  North  Hartley          PL     42     37\n"
     ]
    },
    {
     "data": {
      "application/vnd.plotly.v1+json": {
       "config": {
        "plotlyServerURL": "https://plot.ly"
       },
       "data": [
        {
         "branchvalues": "total",
         "domain": {
          "x": [
           0,
           0.45
          ],
          "y": [
           0,
           1
          ]
         },
         "hovertemplate": "<b>%{label} </b> <br> Sales: %{value}<br> Success rate: %{color:.2f}",
         "labels": [
          "AX",
          "BI",
          "BS",
          "DQ",
          "DS",
          "EH",
          "ES",
          "FJ",
          "FL",
          "GT",
          "GW",
          "HW",
          "IJ",
          "IK",
          "IV",
          "JC",
          "JE",
          "JF",
          "KR",
          "LQ",
          "LR",
          "LV",
          "MW",
          "NY",
          "NZ",
          "OH",
          "OT",
          "OY",
          "PL",
          "QJ",
          "QK",
          "QM",
          "RR",
          "SV",
          "TW",
          "TZ",
          "UA",
          "UF",
          "UM",
          "VN",
          "WE",
          "WH",
          "WV",
          "WZ",
          "XH",
          "XY",
          "YA",
          "YJ",
          "YN",
          "ZM",
          "ZQ",
          "Brewster",
          "Dallam",
          "Duval",
          "Floyd",
          "Gray",
          "Hartley",
          "Hidalgo",
          "Houston",
          "Moore",
          "Motley",
          "Pecos",
          "Presidio",
          "Rusk",
          "Shelby",
          "Tyler",
          "Webb",
          "Zavala",
          "East",
          "North",
          "South",
          "West",
          "total"
         ],
         "marker": {
          "cmid": 0.5310344827586206,
          "colors": [
           0.21428571428571427,
           0.3333333333333333,
           0.42424242424242425,
           0.375,
           0.21428571428571427,
           0.7727272727272727,
           0.6326530612244898,
           0.35,
           0.7741935483870968,
           0.13333333333333333,
           0.3,
           0.4,
           0.3,
           0.6060606060606061,
           0.7142857142857143,
           0.8095238095238095,
           0.6571428571428571,
           0.4,
           0.3,
           0.3902439024390244,
           0.1794871794871795,
           0.5238095238095238,
           0.9545454545454546,
           0.42857142857142855,
           0.35555555555555557,
           0.1935483870967742,
           0.2571428571428571,
           0.5,
           0.8809523809523809,
           0.8695652173913043,
           0.36363636363636365,
           0.9375,
           0.5416666666666666,
           0.6666666666666666,
           0.18181818181818182,
           0.6060606060606061,
           0.7727272727272727,
           0.7142857142857143,
           0.3333333333333333,
           0.20689655172413793,
           0.9487179487179487,
           0.8409090909090909,
           0.8333333333333334,
           0.6216216216216216,
           0.1276595744680851,
           0.9032258064516129,
           0.84,
           0.37142857142857144,
           0.6052631578947368,
           0.6190476190476191,
           0.2653061224489796,
           0.4883720930232558,
           0.40384615384615385,
           0.2682926829268293,
           0.6470588235294118,
           0.6260869565217392,
           0.780952380952381,
           0.33663366336633666,
           0.39215686274509803,
           0.4482758620689655,
           0.693069306930693,
           0.808695652173913,
           0.45,
           0.42857142857142855,
           0.23140495867768596,
           0.56,
           0.631578947368421,
           0.7738095238095238,
           0.3931203931203931,
           0.6053882725832013,
           0.5065616797900262,
           0.5887850467289719,
           0.5310344827586206
          ],
          "colorscale": [
           [
            0,
            "rgb(103,0,31)"
           ],
           [
            0.1,
            "rgb(178,24,43)"
           ],
           [
            0.2,
            "rgb(214,96,77)"
           ],
           [
            0.3,
            "rgb(244,165,130)"
           ],
           [
            0.4,
            "rgb(253,219,199)"
           ],
           [
            0.5,
            "rgb(247,247,247)"
           ],
           [
            0.6,
            "rgb(209,229,240)"
           ],
           [
            0.7,
            "rgb(146,197,222)"
           ],
           [
            0.8,
            "rgb(67,147,195)"
           ],
           [
            0.9,
            "rgb(33,102,172)"
           ],
           [
            1,
            "rgb(5,48,97)"
           ]
          ]
         },
         "name": "",
         "parents": [
          "Houston",
          "Hartley",
          "Brewster",
          "Presidio",
          "Duval",
          "Motley",
          "Gray",
          "Duval",
          "Zavala",
          "Tyler",
          "Duval",
          "Rusk",
          "Dallam",
          "Brewster",
          "Zavala",
          "Tyler",
          "Dallam",
          "Brewster",
          "Webb",
          "Hidalgo",
          "Hidalgo",
          "Hidalgo",
          "Motley",
          "Motley",
          "Shelby",
          "Floyd",
          "Presidio",
          "Rusk",
          "Hartley",
          "Webb",
          "Houston",
          "Pecos",
          "Webb",
          "Presidio",
          "Moore",
          "Moore",
          "Floyd",
          "Tyler",
          "Rusk",
          "Shelby",
          "Hartley",
          "Floyd",
          "Pecos",
          "Pecos",
          "Shelby",
          "Gray",
          "Zavala",
          "Gray",
          "Houston",
          "Moore",
          "Dallam",
          "West",
          "North",
          "South",
          "North",
          "North",
          "North",
          "South",
          "East",
          "North",
          "North",
          "West",
          "West",
          "East",
          "East",
          "East",
          "South",
          "South",
          "total",
          "total",
          "total",
          "total",
          ""
         ],
         "type": "treemap",
         "values": [
          42,
          24,
          33,
          40,
          42,
          44,
          49,
          20,
          31,
          30,
          20,
          20,
          20,
          33,
          28,
          21,
          35,
          20,
          20,
          41,
          39,
          21,
          22,
          35,
          45,
          31,
          35,
          40,
          42,
          46,
          22,
          48,
          48,
          45,
          33,
          33,
          44,
          49,
          24,
          29,
          39,
          44,
          30,
          37,
          47,
          31,
          25,
          35,
          38,
          21,
          49,
          86,
          104,
          82,
          119,
          115,
          105,
          101,
          102,
          87,
          101,
          115,
          120,
          84,
          121,
          100,
          114,
          84,
          407,
          631,
          381,
          321,
          1740
         ]
        },
        {
         "branchvalues": "total",
         "domain": {
          "x": [
           0.55,
           1
          ],
          "y": [
           0,
           1
          ]
         },
         "hovertemplate": "<b>%{label} </b> <br> Sales: %{value}<br> Success rate: %{color:.2f}",
         "labels": [
          "AX",
          "BI",
          "BS",
          "DQ",
          "DS",
          "EH",
          "ES",
          "FJ",
          "FL",
          "GT",
          "GW",
          "HW",
          "IJ",
          "IK",
          "IV",
          "JC",
          "JE",
          "JF",
          "KR",
          "LQ",
          "LR",
          "LV",
          "MW",
          "NY",
          "NZ",
          "OH",
          "OT",
          "OY",
          "PL",
          "QJ",
          "QK",
          "QM",
          "RR",
          "SV",
          "TW",
          "TZ",
          "UA",
          "UF",
          "UM",
          "VN",
          "WE",
          "WH",
          "WV",
          "WZ",
          "XH",
          "XY",
          "YA",
          "YJ",
          "YN",
          "ZM",
          "ZQ",
          "Brewster",
          "Dallam",
          "Duval",
          "Floyd",
          "Gray",
          "Hartley",
          "Hidalgo",
          "Houston",
          "Moore",
          "Motley",
          "Pecos",
          "Presidio",
          "Rusk",
          "Shelby",
          "Tyler",
          "Webb",
          "Zavala",
          "East",
          "North",
          "South",
          "West",
          "total"
         ],
         "marker": {
          "cmid": 0.5310344827586206,
          "colors": [
           0.21428571428571427,
           0.3333333333333333,
           0.42424242424242425,
           0.375,
           0.21428571428571427,
           0.7727272727272727,
           0.6326530612244898,
           0.35,
           0.7741935483870968,
           0.13333333333333333,
           0.3,
           0.4,
           0.3,
           0.6060606060606061,
           0.7142857142857143,
           0.8095238095238095,
           0.6571428571428571,
           0.4,
           0.3,
           0.3902439024390244,
           0.1794871794871795,
           0.5238095238095238,
           0.9545454545454546,
           0.42857142857142855,
           0.35555555555555557,
           0.1935483870967742,
           0.2571428571428571,
           0.5,
           0.8809523809523809,
           0.8695652173913043,
           0.36363636363636365,
           0.9375,
           0.5416666666666666,
           0.6666666666666666,
           0.18181818181818182,
           0.6060606060606061,
           0.7727272727272727,
           0.7142857142857143,
           0.3333333333333333,
           0.20689655172413793,
           0.9487179487179487,
           0.8409090909090909,
           0.8333333333333334,
           0.6216216216216216,
           0.1276595744680851,
           0.9032258064516129,
           0.84,
           0.37142857142857144,
           0.6052631578947368,
           0.6190476190476191,
           0.2653061224489796,
           0.4883720930232558,
           0.40384615384615385,
           0.2682926829268293,
           0.6470588235294118,
           0.6260869565217392,
           0.780952380952381,
           0.33663366336633666,
           0.39215686274509803,
           0.4482758620689655,
           0.693069306930693,
           0.808695652173913,
           0.45,
           0.42857142857142855,
           0.23140495867768596,
           0.56,
           0.631578947368421,
           0.7738095238095238,
           0.3931203931203931,
           0.6053882725832013,
           0.5065616797900262,
           0.5887850467289719,
           0.5310344827586206
          ],
          "colorscale": [
           [
            0,
            "rgb(103,0,31)"
           ],
           [
            0.1,
            "rgb(178,24,43)"
           ],
           [
            0.2,
            "rgb(214,96,77)"
           ],
           [
            0.3,
            "rgb(244,165,130)"
           ],
           [
            0.4,
            "rgb(253,219,199)"
           ],
           [
            0.5,
            "rgb(247,247,247)"
           ],
           [
            0.6,
            "rgb(209,229,240)"
           ],
           [
            0.7,
            "rgb(146,197,222)"
           ],
           [
            0.8,
            "rgb(67,147,195)"
           ],
           [
            0.9,
            "rgb(33,102,172)"
           ],
           [
            1,
            "rgb(5,48,97)"
           ]
          ]
         },
         "maxdepth": 2,
         "parents": [
          "Houston",
          "Hartley",
          "Brewster",
          "Presidio",
          "Duval",
          "Motley",
          "Gray",
          "Duval",
          "Zavala",
          "Tyler",
          "Duval",
          "Rusk",
          "Dallam",
          "Brewster",
          "Zavala",
          "Tyler",
          "Dallam",
          "Brewster",
          "Webb",
          "Hidalgo",
          "Hidalgo",
          "Hidalgo",
          "Motley",
          "Motley",
          "Shelby",
          "Floyd",
          "Presidio",
          "Rusk",
          "Hartley",
          "Webb",
          "Houston",
          "Pecos",
          "Webb",
          "Presidio",
          "Moore",
          "Moore",
          "Floyd",
          "Tyler",
          "Rusk",
          "Shelby",
          "Hartley",
          "Floyd",
          "Pecos",
          "Pecos",
          "Shelby",
          "Gray",
          "Zavala",
          "Gray",
          "Houston",
          "Moore",
          "Dallam",
          "West",
          "North",
          "South",
          "North",
          "North",
          "North",
          "South",
          "East",
          "North",
          "North",
          "West",
          "West",
          "East",
          "East",
          "East",
          "South",
          "South",
          "total",
          "total",
          "total",
          "total",
          ""
         ],
         "type": "treemap",
         "values": [
          42,
          24,
          33,
          40,
          42,
          44,
          49,
          20,
          31,
          30,
          20,
          20,
          20,
          33,
          28,
          21,
          35,
          20,
          20,
          41,
          39,
          21,
          22,
          35,
          45,
          31,
          35,
          40,
          42,
          46,
          22,
          48,
          48,
          45,
          33,
          33,
          44,
          49,
          24,
          29,
          39,
          44,
          30,
          37,
          47,
          31,
          25,
          35,
          38,
          21,
          49,
          86,
          104,
          82,
          119,
          115,
          105,
          101,
          102,
          87,
          101,
          115,
          120,
          84,
          121,
          100,
          114,
          84,
          407,
          631,
          381,
          321,
          1740
         ]
        }
       ],
       "layout": {
        "margin": {
         "b": 25,
         "l": 25,
         "r": 25,
         "t": 50
        },
        "template": {
         "data": {
          "bar": [
           {
            "error_x": {
             "color": "#2a3f5f"
            },
            "error_y": {
             "color": "#2a3f5f"
            },
            "marker": {
             "line": {
              "color": "#E5ECF6",
              "width": 0.5
             },
             "pattern": {
              "fillmode": "overlay",
              "size": 10,
              "solidity": 0.2
             }
            },
            "type": "bar"
           }
          ],
          "barpolar": [
           {
            "marker": {
             "line": {
              "color": "#E5ECF6",
              "width": 0.5
             },
             "pattern": {
              "fillmode": "overlay",
              "size": 10,
              "solidity": 0.2
             }
            },
            "type": "barpolar"
           }
          ],
          "carpet": [
           {
            "aaxis": {
             "endlinecolor": "#2a3f5f",
             "gridcolor": "white",
             "linecolor": "white",
             "minorgridcolor": "white",
             "startlinecolor": "#2a3f5f"
            },
            "baxis": {
             "endlinecolor": "#2a3f5f",
             "gridcolor": "white",
             "linecolor": "white",
             "minorgridcolor": "white",
             "startlinecolor": "#2a3f5f"
            },
            "type": "carpet"
           }
          ],
          "choropleth": [
           {
            "colorbar": {
             "outlinewidth": 0,
             "ticks": ""
            },
            "type": "choropleth"
           }
          ],
          "contour": [
           {
            "colorbar": {
             "outlinewidth": 0,
             "ticks": ""
            },
            "colorscale": [
             [
              0,
              "#0d0887"
             ],
             [
              0.1111111111111111,
              "#46039f"
             ],
             [
              0.2222222222222222,
              "#7201a8"
             ],
             [
              0.3333333333333333,
              "#9c179e"
             ],
             [
              0.4444444444444444,
              "#bd3786"
             ],
             [
              0.5555555555555556,
              "#d8576b"
             ],
             [
              0.6666666666666666,
              "#ed7953"
             ],
             [
              0.7777777777777778,
              "#fb9f3a"
             ],
             [
              0.8888888888888888,
              "#fdca26"
             ],
             [
              1,
              "#f0f921"
             ]
            ],
            "type": "contour"
           }
          ],
          "contourcarpet": [
           {
            "colorbar": {
             "outlinewidth": 0,
             "ticks": ""
            },
            "type": "contourcarpet"
           }
          ],
          "heatmap": [
           {
            "colorbar": {
             "outlinewidth": 0,
             "ticks": ""
            },
            "colorscale": [
             [
              0,
              "#0d0887"
             ],
             [
              0.1111111111111111,
              "#46039f"
             ],
             [
              0.2222222222222222,
              "#7201a8"
             ],
             [
              0.3333333333333333,
              "#9c179e"
             ],
             [
              0.4444444444444444,
              "#bd3786"
             ],
             [
              0.5555555555555556,
              "#d8576b"
             ],
             [
              0.6666666666666666,
              "#ed7953"
             ],
             [
              0.7777777777777778,
              "#fb9f3a"
             ],
             [
              0.8888888888888888,
              "#fdca26"
             ],
             [
              1,
              "#f0f921"
             ]
            ],
            "type": "heatmap"
           }
          ],
          "heatmapgl": [
           {
            "colorbar": {
             "outlinewidth": 0,
             "ticks": ""
            },
            "colorscale": [
             [
              0,
              "#0d0887"
             ],
             [
              0.1111111111111111,
              "#46039f"
             ],
             [
              0.2222222222222222,
              "#7201a8"
             ],
             [
              0.3333333333333333,
              "#9c179e"
             ],
             [
              0.4444444444444444,
              "#bd3786"
             ],
             [
              0.5555555555555556,
              "#d8576b"
             ],
             [
              0.6666666666666666,
              "#ed7953"
             ],
             [
              0.7777777777777778,
              "#fb9f3a"
             ],
             [
              0.8888888888888888,
              "#fdca26"
             ],
             [
              1,
              "#f0f921"
             ]
            ],
            "type": "heatmapgl"
           }
          ],
          "histogram": [
           {
            "marker": {
             "pattern": {
              "fillmode": "overlay",
              "size": 10,
              "solidity": 0.2
             }
            },
            "type": "histogram"
           }
          ],
          "histogram2d": [
           {
            "colorbar": {
             "outlinewidth": 0,
             "ticks": ""
            },
            "colorscale": [
             [
              0,
              "#0d0887"
             ],
             [
              0.1111111111111111,
              "#46039f"
             ],
             [
              0.2222222222222222,
              "#7201a8"
             ],
             [
              0.3333333333333333,
              "#9c179e"
             ],
             [
              0.4444444444444444,
              "#bd3786"
             ],
             [
              0.5555555555555556,
              "#d8576b"
             ],
             [
              0.6666666666666666,
              "#ed7953"
             ],
             [
              0.7777777777777778,
              "#fb9f3a"
             ],
             [
              0.8888888888888888,
              "#fdca26"
             ],
             [
              1,
              "#f0f921"
             ]
            ],
            "type": "histogram2d"
           }
          ],
          "histogram2dcontour": [
           {
            "colorbar": {
             "outlinewidth": 0,
             "ticks": ""
            },
            "colorscale": [
             [
              0,
              "#0d0887"
             ],
             [
              0.1111111111111111,
              "#46039f"
             ],
             [
              0.2222222222222222,
              "#7201a8"
             ],
             [
              0.3333333333333333,
              "#9c179e"
             ],
             [
              0.4444444444444444,
              "#bd3786"
             ],
             [
              0.5555555555555556,
              "#d8576b"
             ],
             [
              0.6666666666666666,
              "#ed7953"
             ],
             [
              0.7777777777777778,
              "#fb9f3a"
             ],
             [
              0.8888888888888888,
              "#fdca26"
             ],
             [
              1,
              "#f0f921"
             ]
            ],
            "type": "histogram2dcontour"
           }
          ],
          "mesh3d": [
           {
            "colorbar": {
             "outlinewidth": 0,
             "ticks": ""
            },
            "type": "mesh3d"
           }
          ],
          "parcoords": [
           {
            "line": {
             "colorbar": {
              "outlinewidth": 0,
              "ticks": ""
             }
            },
            "type": "parcoords"
           }
          ],
          "pie": [
           {
            "automargin": true,
            "type": "pie"
           }
          ],
          "scatter": [
           {
            "fillpattern": {
             "fillmode": "overlay",
             "size": 10,
             "solidity": 0.2
            },
            "type": "scatter"
           }
          ],
          "scatter3d": [
           {
            "line": {
             "colorbar": {
              "outlinewidth": 0,
              "ticks": ""
             }
            },
            "marker": {
             "colorbar": {
              "outlinewidth": 0,
              "ticks": ""
             }
            },
            "type": "scatter3d"
           }
          ],
          "scattercarpet": [
           {
            "marker": {
             "colorbar": {
              "outlinewidth": 0,
              "ticks": ""
             }
            },
            "type": "scattercarpet"
           }
          ],
          "scattergeo": [
           {
            "marker": {
             "colorbar": {
              "outlinewidth": 0,
              "ticks": ""
             }
            },
            "type": "scattergeo"
           }
          ],
          "scattergl": [
           {
            "marker": {
             "colorbar": {
              "outlinewidth": 0,
              "ticks": ""
             }
            },
            "type": "scattergl"
           }
          ],
          "scattermapbox": [
           {
            "marker": {
             "colorbar": {
              "outlinewidth": 0,
              "ticks": ""
             }
            },
            "type": "scattermapbox"
           }
          ],
          "scatterpolar": [
           {
            "marker": {
             "colorbar": {
              "outlinewidth": 0,
              "ticks": ""
             }
            },
            "type": "scatterpolar"
           }
          ],
          "scatterpolargl": [
           {
            "marker": {
             "colorbar": {
              "outlinewidth": 0,
              "ticks": ""
             }
            },
            "type": "scatterpolargl"
           }
          ],
          "scatterternary": [
           {
            "marker": {
             "colorbar": {
              "outlinewidth": 0,
              "ticks": ""
             }
            },
            "type": "scatterternary"
           }
          ],
          "surface": [
           {
            "colorbar": {
             "outlinewidth": 0,
             "ticks": ""
            },
            "colorscale": [
             [
              0,
              "#0d0887"
             ],
             [
              0.1111111111111111,
              "#46039f"
             ],
             [
              0.2222222222222222,
              "#7201a8"
             ],
             [
              0.3333333333333333,
              "#9c179e"
             ],
             [
              0.4444444444444444,
              "#bd3786"
             ],
             [
              0.5555555555555556,
              "#d8576b"
             ],
             [
              0.6666666666666666,
              "#ed7953"
             ],
             [
              0.7777777777777778,
              "#fb9f3a"
             ],
             [
              0.8888888888888888,
              "#fdca26"
             ],
             [
              1,
              "#f0f921"
             ]
            ],
            "type": "surface"
           }
          ],
          "table": [
           {
            "cells": {
             "fill": {
              "color": "#EBF0F8"
             },
             "line": {
              "color": "white"
             }
            },
            "header": {
             "fill": {
              "color": "#C8D4E3"
             },
             "line": {
              "color": "white"
             }
            },
            "type": "table"
           }
          ]
         },
         "layout": {
          "annotationdefaults": {
           "arrowcolor": "#2a3f5f",
           "arrowhead": 0,
           "arrowwidth": 1
          },
          "autotypenumbers": "strict",
          "coloraxis": {
           "colorbar": {
            "outlinewidth": 0,
            "ticks": ""
           }
          },
          "colorscale": {
           "diverging": [
            [
             0,
             "#8e0152"
            ],
            [
             0.1,
             "#c51b7d"
            ],
            [
             0.2,
             "#de77ae"
            ],
            [
             0.3,
             "#f1b6da"
            ],
            [
             0.4,
             "#fde0ef"
            ],
            [
             0.5,
             "#f7f7f7"
            ],
            [
             0.6,
             "#e6f5d0"
            ],
            [
             0.7,
             "#b8e186"
            ],
            [
             0.8,
             "#7fbc41"
            ],
            [
             0.9,
             "#4d9221"
            ],
            [
             1,
             "#276419"
            ]
           ],
           "sequential": [
            [
             0,
             "#0d0887"
            ],
            [
             0.1111111111111111,
             "#46039f"
            ],
            [
             0.2222222222222222,
             "#7201a8"
            ],
            [
             0.3333333333333333,
             "#9c179e"
            ],
            [
             0.4444444444444444,
             "#bd3786"
            ],
            [
             0.5555555555555556,
             "#d8576b"
            ],
            [
             0.6666666666666666,
             "#ed7953"
            ],
            [
             0.7777777777777778,
             "#fb9f3a"
            ],
            [
             0.8888888888888888,
             "#fdca26"
            ],
            [
             1,
             "#f0f921"
            ]
           ],
           "sequentialminus": [
            [
             0,
             "#0d0887"
            ],
            [
             0.1111111111111111,
             "#46039f"
            ],
            [
             0.2222222222222222,
             "#7201a8"
            ],
            [
             0.3333333333333333,
             "#9c179e"
            ],
            [
             0.4444444444444444,
             "#bd3786"
            ],
            [
             0.5555555555555556,
             "#d8576b"
            ],
            [
             0.6666666666666666,
             "#ed7953"
            ],
            [
             0.7777777777777778,
             "#fb9f3a"
            ],
            [
             0.8888888888888888,
             "#fdca26"
            ],
            [
             1,
             "#f0f921"
            ]
           ]
          },
          "colorway": [
           "#636efa",
           "#EF553B",
           "#00cc96",
           "#ab63fa",
           "#FFA15A",
           "#19d3f3",
           "#FF6692",
           "#B6E880",
           "#FF97FF",
           "#FECB52"
          ],
          "font": {
           "color": "#2a3f5f"
          },
          "geo": {
           "bgcolor": "white",
           "lakecolor": "white",
           "landcolor": "#E5ECF6",
           "showlakes": true,
           "showland": true,
           "subunitcolor": "white"
          },
          "hoverlabel": {
           "align": "left"
          },
          "hovermode": "closest",
          "mapbox": {
           "style": "light"
          },
          "paper_bgcolor": "white",
          "plot_bgcolor": "#E5ECF6",
          "polar": {
           "angularaxis": {
            "gridcolor": "white",
            "linecolor": "white",
            "ticks": ""
           },
           "bgcolor": "#E5ECF6",
           "radialaxis": {
            "gridcolor": "white",
            "linecolor": "white",
            "ticks": ""
           }
          },
          "scene": {
           "xaxis": {
            "backgroundcolor": "#E5ECF6",
            "gridcolor": "white",
            "gridwidth": 2,
            "linecolor": "white",
            "showbackground": true,
            "ticks": "",
            "zerolinecolor": "white"
           },
           "yaxis": {
            "backgroundcolor": "#E5ECF6",
            "gridcolor": "white",
            "gridwidth": 2,
            "linecolor": "white",
            "showbackground": true,
            "ticks": "",
            "zerolinecolor": "white"
           },
           "zaxis": {
            "backgroundcolor": "#E5ECF6",
            "gridcolor": "white",
            "gridwidth": 2,
            "linecolor": "white",
            "showbackground": true,
            "ticks": "",
            "zerolinecolor": "white"
           }
          },
          "shapedefaults": {
           "line": {
            "color": "#2a3f5f"
           }
          },
          "ternary": {
           "aaxis": {
            "gridcolor": "white",
            "linecolor": "white",
            "ticks": ""
           },
           "baxis": {
            "gridcolor": "white",
            "linecolor": "white",
            "ticks": ""
           },
           "bgcolor": "#E5ECF6",
           "caxis": {
            "gridcolor": "white",
            "linecolor": "white",
            "ticks": ""
           }
          },
          "title": {
           "x": 0.05
          },
          "xaxis": {
           "automargin": true,
           "gridcolor": "white",
           "linecolor": "white",
           "ticks": "",
           "title": {
            "standoff": 15
           },
           "zerolinecolor": "white",
           "zerolinewidth": 2
          },
          "yaxis": {
           "automargin": true,
           "gridcolor": "white",
           "linecolor": "white",
           "ticks": "",
           "title": {
            "standoff": 15
           },
           "zerolinecolor": "white",
           "zerolinewidth": 2
          }
         }
        }
       }
      }
     },
     "metadata": {},
     "output_type": "display_data"
    }
   ],
   "source": [
    "import plotly.graph_objects as go\n",
    "from plotly.subplots import make_subplots\n",
    "import pandas as pd\n",
    "\n",
    "df = pd.read_csv('https://raw.githubusercontent.com/plotly/datasets/master/sales_success.csv')\n",
    "print(df.head())\n",
    "\n",
    "levels = ['salesperson', 'county', 'region'] # levels used for the hierarchical chart\n",
    "color_columns = ['sales', 'calls']\n",
    "value_column = 'calls'\n",
    "\n",
    "def build_hierarchical_dataframe(df, levels, value_column, color_columns=None):\n",
    "    \"\"\"\n",
    "    Build a hierarchy of levels for Sunburst or Treemap charts.\n",
    "\n",
    "    Levels are given starting from the bottom to the top of the hierarchy,\n",
    "    ie the last level corresponds to the root.\n",
    "    \"\"\"\n",
    "    df_all_trees = pd.DataFrame(columns=['id', 'parent', 'value', 'color'])\n",
    "    for i, level in enumerate(levels):\n",
    "        df_tree = pd.DataFrame(columns=['id', 'parent', 'value', 'color'])\n",
    "        dfg = df.groupby(levels[i:]).sum()\n",
    "        dfg = dfg.reset_index()\n",
    "        df_tree['id'] = dfg[level].copy()\n",
    "        if i < len(levels) - 1:\n",
    "            df_tree['parent'] = dfg[levels[i+1]].copy()\n",
    "        else:\n",
    "            df_tree['parent'] = 'total'\n",
    "        df_tree['value'] = dfg[value_column]\n",
    "        df_tree['color'] = dfg[color_columns[0]] / dfg[color_columns[1]]\n",
    "        df_all_trees = df_all_trees.append(df_tree, ignore_index=True)\n",
    "    total = pd.Series(dict(id='total', parent='',\n",
    "                              value=df[value_column].sum(),\n",
    "                              color=df[color_columns[0]].sum() / df[color_columns[1]].sum()))\n",
    "    df_all_trees = df_all_trees.append(total, ignore_index=True)\n",
    "    return df_all_trees\n",
    "\n",
    "\n",
    "df_all_trees = build_hierarchical_dataframe(df, levels, value_column, color_columns)\n",
    "average_score = df['sales'].sum() / df['calls'].sum()\n",
    "\n",
    "fig = make_subplots(1, 2, specs=[[{\"type\": \"domain\"}, {\"type\": \"domain\"}]],)\n",
    "\n",
    "fig.add_trace(go.Treemap(\n",
    "    labels=df_all_trees['id'],\n",
    "    parents=df_all_trees['parent'],\n",
    "    values=df_all_trees['value'],\n",
    "    branchvalues='total',\n",
    "    marker=dict(\n",
    "        colors=df_all_trees['color'],\n",
    "        colorscale='RdBu',\n",
    "        cmid=average_score),\n",
    "    hovertemplate='<b>%{label} </b> <br> Sales: %{value}<br> Success rate: %{color:.2f}',\n",
    "    name=''\n",
    "    ), 1, 1)\n",
    "\n",
    "fig.add_trace(go.Treemap(\n",
    "    labels=df_all_trees['id'],\n",
    "    parents=df_all_trees['parent'],\n",
    "    values=df_all_trees['value'],\n",
    "    branchvalues='total',\n",
    "    marker=dict(\n",
    "        colors=df_all_trees['color'],\n",
    "        colorscale='RdBu',\n",
    "        cmid=average_score),\n",
    "    hovertemplate='<b>%{label} </b> <br> Sales: %{value}<br> Success rate: %{color:.2f}',\n",
    "    maxdepth=2\n",
    "    ), 1, 2)\n",
    "\n",
    "fig.update_layout(margin = dict(t=50, l=25, r=25, b=25))\n",
    "fig.show()"
   ]
  },
  {
   "cell_type": "code",
   "execution_count": 12,
   "metadata": {},
   "outputs": [
    {
     "data": {
      "application/vnd.plotly.v1+json": {
       "config": {
        "plotlyServerURL": "https://plot.ly"
       },
       "data": [
        {
         "ids": [
          "Coffee",
          "Aromas",
          "Tastes",
          "Aromas-Enzymatic",
          "Aromas-Sugar Browning",
          "Aromas-Dry Distillation",
          "Tastes-Bitter",
          "Tastes-Salt",
          "Tastes-Sweet",
          "Tastes-Sour",
          "Enzymatic-Flowery",
          "Enzymatic-Fruity",
          "Enzymatic-Herby",
          "Sugar Browning-Nutty",
          "Sugar Browning-Carmelly",
          "Sugar Browning-Chocolatey",
          "Dry Distillation-Resinous",
          "Dry Distillation-Spicy",
          "Dry Distillation-Carbony",
          "Bitter-Pungent",
          "Bitter-Harsh",
          "Salt-Sharp",
          "Salt-Bland",
          "Sweet-Mellow",
          "Sweet-Acidy",
          "Sour-Winey",
          "Sour-Soury",
          "Flowery-Floral",
          "Flowery-Fragrant",
          "Fruity-Citrus",
          "Fruity-Berry-like",
          "Herby-Alliaceous",
          "Herby-Leguminous",
          "Nutty-Nut-like",
          "Nutty-Malt-like",
          "Carmelly-Candy-like",
          "Carmelly-Syrup-like",
          "Chocolatey-Chocolate-like",
          "Chocolatey-Vanilla-like",
          "Resinous-Turpeny",
          "Resinous-Medicinal",
          "Spicy-Warming",
          "Spicy-Pungent",
          "Carbony-Smokey",
          "Carbony-Ashy",
          "Pungent-Creosol",
          "Pungent-Phenolic",
          "Harsh-Caustic",
          "Harsh-Alkaline",
          "Sharp-Astringent",
          "Sharp-Rough",
          "Bland-Neutral",
          "Bland-Soft",
          "Mellow-Delicate",
          "Mellow-Mild",
          "Acidy-Nippy",
          "Acidy-Piquant",
          "Winey-Tangy",
          "Winey-Tart",
          "Soury-Hard",
          "Soury-Acrid",
          "Floral-Coffee Blossom",
          "Floral-Tea Rose",
          "Fragrant-Cardamon Caraway",
          "Fragrant-Coriander Seeds",
          "Citrus-Lemon",
          "Citrus-Apple",
          "Berry-like-Apricot",
          "Berry-like-Blackberry",
          "Alliaceous-Onion",
          "Alliaceous-Garlic",
          "Leguminous-Cucumber",
          "Leguminous-Garden Peas",
          "Nut-like-Roasted Peanuts",
          "Nut-like-Walnuts",
          "Malt-like-Balsamic Rice",
          "Malt-like-Toast",
          "Candy-like-Roasted Hazelnut",
          "Candy-like-Roasted Almond",
          "Syrup-like-Honey",
          "Syrup-like-Maple Syrup",
          "Chocolate-like-Bakers",
          "Chocolate-like-Dark Chocolate",
          "Vanilla-like-Swiss",
          "Vanilla-like-Butter",
          "Turpeny-Piney",
          "Turpeny-Blackcurrant-like",
          "Medicinal-Camphoric",
          "Medicinal-Cineolic",
          "Warming-Cedar",
          "Warming-Pepper",
          "Pungent-Clove",
          "Pungent-Thyme",
          "Smokey-Tarry",
          "Smokey-Pipe Tobacco",
          "Ashy-Burnt",
          "Ashy-Charred"
         ],
         "labels": [
          "Coffee Flavors",
          "Aromas",
          "Tastes",
          "Enzymatic",
          "Sugar Browning",
          "Dry Distillation",
          "Bitter",
          "Salt",
          "Sweet",
          "Sour",
          "Flowery",
          "Fruity",
          "Herby",
          "Nutty",
          "Carmelly",
          "Chocolatey",
          "Resinous",
          "Spicy",
          "Carbony",
          "Pungent",
          "Harsh",
          "Sharp",
          "Bland",
          "Mellow",
          "Acidy",
          "Winey",
          "Soury",
          "Floral",
          "Fragrant",
          "Citrus",
          "Berry-like",
          "Alliaceous",
          "Leguminous",
          "Nut-like",
          "Malt-like",
          "Candy-like",
          "Syrup-like",
          "Chocolate-like",
          "Vanilla-like",
          "Turpeny",
          "Medicinal",
          "Warming",
          "Pungent",
          "Smokey",
          "Ashy",
          "Creosol",
          "Phenolic",
          "Caustic",
          "Alkaline",
          "Astringent",
          "Rough",
          "Neutral",
          "Soft",
          "Delicate",
          "Mild",
          "Nippy",
          "Piquant",
          "Tangy",
          "Tart",
          "Hard",
          "Acrid",
          "Coffee Blossom",
          "Tea Rose",
          "Cardamon Caraway",
          "Coriander Seeds",
          "Lemon",
          "Apple",
          "Apricot",
          "Blackberry",
          "Onion",
          "Garlic",
          "Cucumber",
          "Garden Peas",
          "Roasted Peanuts",
          "Walnuts",
          "Balsamic Rice",
          "Toast",
          "Roasted Hazelnut",
          "Roasted Almond",
          "Honey",
          "Maple Syrup",
          "Bakers",
          "Dark Chocolate",
          "Swiss",
          "Butter",
          "Piney",
          "Blackcurrant-like",
          "Camphoric",
          "Cineolic",
          "Cedar",
          "Pepper",
          "Clove",
          "Thyme",
          "Tarry",
          "Pipe Tobacco",
          "Burnt",
          "Charred"
         ],
         "maxdepth": 3,
         "parents": [
          null,
          "Coffee",
          "Coffee",
          "Aromas",
          "Aromas",
          "Aromas",
          "Tastes",
          "Tastes",
          "Tastes",
          "Tastes",
          "Aromas-Enzymatic",
          "Aromas-Enzymatic",
          "Aromas-Enzymatic",
          "Aromas-Sugar Browning",
          "Aromas-Sugar Browning",
          "Aromas-Sugar Browning",
          "Aromas-Dry Distillation",
          "Aromas-Dry Distillation",
          "Aromas-Dry Distillation",
          "Tastes-Bitter",
          "Tastes-Bitter",
          "Tastes-Salt",
          "Tastes-Salt",
          "Tastes-Sweet",
          "Tastes-Sweet",
          "Tastes-Sour",
          "Tastes-Sour",
          "Enzymatic-Flowery",
          "Enzymatic-Flowery",
          "Enzymatic-Fruity",
          "Enzymatic-Fruity",
          "Enzymatic-Herby",
          "Enzymatic-Herby",
          "Sugar Browning-Nutty",
          "Sugar Browning-Nutty",
          "Sugar Browning-Carmelly",
          "Sugar Browning-Carmelly",
          "Sugar Browning-Chocolatey",
          "Sugar Browning-Chocolatey",
          "Dry Distillation-Resinous",
          "Dry Distillation-Resinous",
          "Dry Distillation-Spicy",
          "Dry Distillation-Spicy",
          "Dry Distillation-Carbony",
          "Dry Distillation-Carbony",
          "Bitter-Pungent",
          "Bitter-Pungent",
          "Bitter-Harsh",
          "Bitter-Harsh",
          "Salt-Sharp",
          "Salt-Sharp",
          "Salt-Bland",
          "Salt-Bland",
          "Sweet-Mellow",
          "Sweet-Mellow",
          "Sweet-Acidy",
          "Sweet-Acidy",
          "Sour-Winey",
          "Sour-Winey",
          "Sour-Soury",
          "Sour-Soury",
          "Flowery-Floral",
          "Flowery-Floral",
          "Flowery-Fragrant",
          "Flowery-Fragrant",
          "Fruity-Citrus",
          "Fruity-Citrus",
          "Fruity-Berry-like",
          "Fruity-Berry-like",
          "Herby-Alliaceous",
          "Herby-Alliaceous",
          "Herby-Leguminous",
          "Herby-Leguminous",
          "Nutty-Nut-like",
          "Nutty-Nut-like",
          "Nutty-Malt-like",
          "Nutty-Malt-like",
          "Carmelly-Candy-like",
          "Carmelly-Candy-like",
          "Carmelly-Syrup-like",
          "Carmelly-Syrup-like",
          "Chocolatey-Chocolate-like",
          "Chocolatey-Chocolate-like",
          "Chocolatey-Vanilla-like",
          "Chocolatey-Vanilla-like",
          "Resinous-Turpeny",
          "Resinous-Turpeny",
          "Resinous-Medicinal",
          "Resinous-Medicinal",
          "Spicy-Warming",
          "Spicy-Warming",
          "Spicy-Pungent",
          "Spicy-Pungent",
          "Carbony-Smokey",
          "Carbony-Smokey",
          "Carbony-Ashy",
          "Carbony-Ashy"
         ],
         "root": {
          "color": "lightgrey"
         },
         "type": "treemap"
        }
       ],
       "layout": {
        "margin": {
         "b": 25,
         "l": 25,
         "r": 25,
         "t": 50
        },
        "template": {
         "data": {
          "bar": [
           {
            "error_x": {
             "color": "#2a3f5f"
            },
            "error_y": {
             "color": "#2a3f5f"
            },
            "marker": {
             "line": {
              "color": "#E5ECF6",
              "width": 0.5
             },
             "pattern": {
              "fillmode": "overlay",
              "size": 10,
              "solidity": 0.2
             }
            },
            "type": "bar"
           }
          ],
          "barpolar": [
           {
            "marker": {
             "line": {
              "color": "#E5ECF6",
              "width": 0.5
             },
             "pattern": {
              "fillmode": "overlay",
              "size": 10,
              "solidity": 0.2
             }
            },
            "type": "barpolar"
           }
          ],
          "carpet": [
           {
            "aaxis": {
             "endlinecolor": "#2a3f5f",
             "gridcolor": "white",
             "linecolor": "white",
             "minorgridcolor": "white",
             "startlinecolor": "#2a3f5f"
            },
            "baxis": {
             "endlinecolor": "#2a3f5f",
             "gridcolor": "white",
             "linecolor": "white",
             "minorgridcolor": "white",
             "startlinecolor": "#2a3f5f"
            },
            "type": "carpet"
           }
          ],
          "choropleth": [
           {
            "colorbar": {
             "outlinewidth": 0,
             "ticks": ""
            },
            "type": "choropleth"
           }
          ],
          "contour": [
           {
            "colorbar": {
             "outlinewidth": 0,
             "ticks": ""
            },
            "colorscale": [
             [
              0,
              "#0d0887"
             ],
             [
              0.1111111111111111,
              "#46039f"
             ],
             [
              0.2222222222222222,
              "#7201a8"
             ],
             [
              0.3333333333333333,
              "#9c179e"
             ],
             [
              0.4444444444444444,
              "#bd3786"
             ],
             [
              0.5555555555555556,
              "#d8576b"
             ],
             [
              0.6666666666666666,
              "#ed7953"
             ],
             [
              0.7777777777777778,
              "#fb9f3a"
             ],
             [
              0.8888888888888888,
              "#fdca26"
             ],
             [
              1,
              "#f0f921"
             ]
            ],
            "type": "contour"
           }
          ],
          "contourcarpet": [
           {
            "colorbar": {
             "outlinewidth": 0,
             "ticks": ""
            },
            "type": "contourcarpet"
           }
          ],
          "heatmap": [
           {
            "colorbar": {
             "outlinewidth": 0,
             "ticks": ""
            },
            "colorscale": [
             [
              0,
              "#0d0887"
             ],
             [
              0.1111111111111111,
              "#46039f"
             ],
             [
              0.2222222222222222,
              "#7201a8"
             ],
             [
              0.3333333333333333,
              "#9c179e"
             ],
             [
              0.4444444444444444,
              "#bd3786"
             ],
             [
              0.5555555555555556,
              "#d8576b"
             ],
             [
              0.6666666666666666,
              "#ed7953"
             ],
             [
              0.7777777777777778,
              "#fb9f3a"
             ],
             [
              0.8888888888888888,
              "#fdca26"
             ],
             [
              1,
              "#f0f921"
             ]
            ],
            "type": "heatmap"
           }
          ],
          "heatmapgl": [
           {
            "colorbar": {
             "outlinewidth": 0,
             "ticks": ""
            },
            "colorscale": [
             [
              0,
              "#0d0887"
             ],
             [
              0.1111111111111111,
              "#46039f"
             ],
             [
              0.2222222222222222,
              "#7201a8"
             ],
             [
              0.3333333333333333,
              "#9c179e"
             ],
             [
              0.4444444444444444,
              "#bd3786"
             ],
             [
              0.5555555555555556,
              "#d8576b"
             ],
             [
              0.6666666666666666,
              "#ed7953"
             ],
             [
              0.7777777777777778,
              "#fb9f3a"
             ],
             [
              0.8888888888888888,
              "#fdca26"
             ],
             [
              1,
              "#f0f921"
             ]
            ],
            "type": "heatmapgl"
           }
          ],
          "histogram": [
           {
            "marker": {
             "pattern": {
              "fillmode": "overlay",
              "size": 10,
              "solidity": 0.2
             }
            },
            "type": "histogram"
           }
          ],
          "histogram2d": [
           {
            "colorbar": {
             "outlinewidth": 0,
             "ticks": ""
            },
            "colorscale": [
             [
              0,
              "#0d0887"
             ],
             [
              0.1111111111111111,
              "#46039f"
             ],
             [
              0.2222222222222222,
              "#7201a8"
             ],
             [
              0.3333333333333333,
              "#9c179e"
             ],
             [
              0.4444444444444444,
              "#bd3786"
             ],
             [
              0.5555555555555556,
              "#d8576b"
             ],
             [
              0.6666666666666666,
              "#ed7953"
             ],
             [
              0.7777777777777778,
              "#fb9f3a"
             ],
             [
              0.8888888888888888,
              "#fdca26"
             ],
             [
              1,
              "#f0f921"
             ]
            ],
            "type": "histogram2d"
           }
          ],
          "histogram2dcontour": [
           {
            "colorbar": {
             "outlinewidth": 0,
             "ticks": ""
            },
            "colorscale": [
             [
              0,
              "#0d0887"
             ],
             [
              0.1111111111111111,
              "#46039f"
             ],
             [
              0.2222222222222222,
              "#7201a8"
             ],
             [
              0.3333333333333333,
              "#9c179e"
             ],
             [
              0.4444444444444444,
              "#bd3786"
             ],
             [
              0.5555555555555556,
              "#d8576b"
             ],
             [
              0.6666666666666666,
              "#ed7953"
             ],
             [
              0.7777777777777778,
              "#fb9f3a"
             ],
             [
              0.8888888888888888,
              "#fdca26"
             ],
             [
              1,
              "#f0f921"
             ]
            ],
            "type": "histogram2dcontour"
           }
          ],
          "mesh3d": [
           {
            "colorbar": {
             "outlinewidth": 0,
             "ticks": ""
            },
            "type": "mesh3d"
           }
          ],
          "parcoords": [
           {
            "line": {
             "colorbar": {
              "outlinewidth": 0,
              "ticks": ""
             }
            },
            "type": "parcoords"
           }
          ],
          "pie": [
           {
            "automargin": true,
            "type": "pie"
           }
          ],
          "scatter": [
           {
            "fillpattern": {
             "fillmode": "overlay",
             "size": 10,
             "solidity": 0.2
            },
            "type": "scatter"
           }
          ],
          "scatter3d": [
           {
            "line": {
             "colorbar": {
              "outlinewidth": 0,
              "ticks": ""
             }
            },
            "marker": {
             "colorbar": {
              "outlinewidth": 0,
              "ticks": ""
             }
            },
            "type": "scatter3d"
           }
          ],
          "scattercarpet": [
           {
            "marker": {
             "colorbar": {
              "outlinewidth": 0,
              "ticks": ""
             }
            },
            "type": "scattercarpet"
           }
          ],
          "scattergeo": [
           {
            "marker": {
             "colorbar": {
              "outlinewidth": 0,
              "ticks": ""
             }
            },
            "type": "scattergeo"
           }
          ],
          "scattergl": [
           {
            "marker": {
             "colorbar": {
              "outlinewidth": 0,
              "ticks": ""
             }
            },
            "type": "scattergl"
           }
          ],
          "scattermapbox": [
           {
            "marker": {
             "colorbar": {
              "outlinewidth": 0,
              "ticks": ""
             }
            },
            "type": "scattermapbox"
           }
          ],
          "scatterpolar": [
           {
            "marker": {
             "colorbar": {
              "outlinewidth": 0,
              "ticks": ""
             }
            },
            "type": "scatterpolar"
           }
          ],
          "scatterpolargl": [
           {
            "marker": {
             "colorbar": {
              "outlinewidth": 0,
              "ticks": ""
             }
            },
            "type": "scatterpolargl"
           }
          ],
          "scatterternary": [
           {
            "marker": {
             "colorbar": {
              "outlinewidth": 0,
              "ticks": ""
             }
            },
            "type": "scatterternary"
           }
          ],
          "surface": [
           {
            "colorbar": {
             "outlinewidth": 0,
             "ticks": ""
            },
            "colorscale": [
             [
              0,
              "#0d0887"
             ],
             [
              0.1111111111111111,
              "#46039f"
             ],
             [
              0.2222222222222222,
              "#7201a8"
             ],
             [
              0.3333333333333333,
              "#9c179e"
             ],
             [
              0.4444444444444444,
              "#bd3786"
             ],
             [
              0.5555555555555556,
              "#d8576b"
             ],
             [
              0.6666666666666666,
              "#ed7953"
             ],
             [
              0.7777777777777778,
              "#fb9f3a"
             ],
             [
              0.8888888888888888,
              "#fdca26"
             ],
             [
              1,
              "#f0f921"
             ]
            ],
            "type": "surface"
           }
          ],
          "table": [
           {
            "cells": {
             "fill": {
              "color": "#EBF0F8"
             },
             "line": {
              "color": "white"
             }
            },
            "header": {
             "fill": {
              "color": "#C8D4E3"
             },
             "line": {
              "color": "white"
             }
            },
            "type": "table"
           }
          ]
         },
         "layout": {
          "annotationdefaults": {
           "arrowcolor": "#2a3f5f",
           "arrowhead": 0,
           "arrowwidth": 1
          },
          "autotypenumbers": "strict",
          "coloraxis": {
           "colorbar": {
            "outlinewidth": 0,
            "ticks": ""
           }
          },
          "colorscale": {
           "diverging": [
            [
             0,
             "#8e0152"
            ],
            [
             0.1,
             "#c51b7d"
            ],
            [
             0.2,
             "#de77ae"
            ],
            [
             0.3,
             "#f1b6da"
            ],
            [
             0.4,
             "#fde0ef"
            ],
            [
             0.5,
             "#f7f7f7"
            ],
            [
             0.6,
             "#e6f5d0"
            ],
            [
             0.7,
             "#b8e186"
            ],
            [
             0.8,
             "#7fbc41"
            ],
            [
             0.9,
             "#4d9221"
            ],
            [
             1,
             "#276419"
            ]
           ],
           "sequential": [
            [
             0,
             "#0d0887"
            ],
            [
             0.1111111111111111,
             "#46039f"
            ],
            [
             0.2222222222222222,
             "#7201a8"
            ],
            [
             0.3333333333333333,
             "#9c179e"
            ],
            [
             0.4444444444444444,
             "#bd3786"
            ],
            [
             0.5555555555555556,
             "#d8576b"
            ],
            [
             0.6666666666666666,
             "#ed7953"
            ],
            [
             0.7777777777777778,
             "#fb9f3a"
            ],
            [
             0.8888888888888888,
             "#fdca26"
            ],
            [
             1,
             "#f0f921"
            ]
           ],
           "sequentialminus": [
            [
             0,
             "#0d0887"
            ],
            [
             0.1111111111111111,
             "#46039f"
            ],
            [
             0.2222222222222222,
             "#7201a8"
            ],
            [
             0.3333333333333333,
             "#9c179e"
            ],
            [
             0.4444444444444444,
             "#bd3786"
            ],
            [
             0.5555555555555556,
             "#d8576b"
            ],
            [
             0.6666666666666666,
             "#ed7953"
            ],
            [
             0.7777777777777778,
             "#fb9f3a"
            ],
            [
             0.8888888888888888,
             "#fdca26"
            ],
            [
             1,
             "#f0f921"
            ]
           ]
          },
          "colorway": [
           "#636efa",
           "#EF553B",
           "#00cc96",
           "#ab63fa",
           "#FFA15A",
           "#19d3f3",
           "#FF6692",
           "#B6E880",
           "#FF97FF",
           "#FECB52"
          ],
          "font": {
           "color": "#2a3f5f"
          },
          "geo": {
           "bgcolor": "white",
           "lakecolor": "white",
           "landcolor": "#E5ECF6",
           "showlakes": true,
           "showland": true,
           "subunitcolor": "white"
          },
          "hoverlabel": {
           "align": "left"
          },
          "hovermode": "closest",
          "mapbox": {
           "style": "light"
          },
          "paper_bgcolor": "white",
          "plot_bgcolor": "#E5ECF6",
          "polar": {
           "angularaxis": {
            "gridcolor": "white",
            "linecolor": "white",
            "ticks": ""
           },
           "bgcolor": "#E5ECF6",
           "radialaxis": {
            "gridcolor": "white",
            "linecolor": "white",
            "ticks": ""
           }
          },
          "scene": {
           "xaxis": {
            "backgroundcolor": "#E5ECF6",
            "gridcolor": "white",
            "gridwidth": 2,
            "linecolor": "white",
            "showbackground": true,
            "ticks": "",
            "zerolinecolor": "white"
           },
           "yaxis": {
            "backgroundcolor": "#E5ECF6",
            "gridcolor": "white",
            "gridwidth": 2,
            "linecolor": "white",
            "showbackground": true,
            "ticks": "",
            "zerolinecolor": "white"
           },
           "zaxis": {
            "backgroundcolor": "#E5ECF6",
            "gridcolor": "white",
            "gridwidth": 2,
            "linecolor": "white",
            "showbackground": true,
            "ticks": "",
            "zerolinecolor": "white"
           }
          },
          "shapedefaults": {
           "line": {
            "color": "#2a3f5f"
           }
          },
          "ternary": {
           "aaxis": {
            "gridcolor": "white",
            "linecolor": "white",
            "ticks": ""
           },
           "baxis": {
            "gridcolor": "white",
            "linecolor": "white",
            "ticks": ""
           },
           "bgcolor": "#E5ECF6",
           "caxis": {
            "gridcolor": "white",
            "linecolor": "white",
            "ticks": ""
           }
          },
          "title": {
           "x": 0.05
          },
          "xaxis": {
           "automargin": true,
           "gridcolor": "white",
           "linecolor": "white",
           "ticks": "",
           "title": {
            "standoff": 15
           },
           "zerolinecolor": "white",
           "zerolinewidth": 2
          },
          "yaxis": {
           "automargin": true,
           "gridcolor": "white",
           "linecolor": "white",
           "ticks": "",
           "title": {
            "standoff": 15
           },
           "zerolinecolor": "white",
           "zerolinewidth": 2
          }
         }
        }
       }
      }
     },
     "metadata": {},
     "output_type": "display_data"
    }
   ],
   "source": [
    "import plotly.graph_objects as go\n",
    "\n",
    "import pandas as pd\n",
    "\n",
    "df = pd.read_csv('https://raw.githubusercontent.com/plotly/datasets/96c0bd/sunburst-coffee-flavors-complete.csv')\n",
    "\n",
    "fig = go.Figure()\n",
    "\n",
    "fig.add_trace(go.Treemap(\n",
    "    ids = df.ids,\n",
    "    labels = df.labels,\n",
    "    parents = df.parents,\n",
    "    maxdepth=3,\n",
    "    root_color=\"lightgrey\"\n",
    "))\n",
    "\n",
    "fig.update_layout(margin = dict(t=50, l=25, r=25, b=25))\n",
    "\n",
    "fig.show()\n"
   ]
  },
  {
   "cell_type": "code",
   "execution_count": 13,
   "metadata": {},
   "outputs": [
    {
     "data": {
      "text/html": [
       "<div>\n",
       "<style scoped>\n",
       "    .dataframe tbody tr th:only-of-type {\n",
       "        vertical-align: middle;\n",
       "    }\n",
       "\n",
       "    .dataframe tbody tr th {\n",
       "        vertical-align: top;\n",
       "    }\n",
       "\n",
       "    .dataframe thead th {\n",
       "        text-align: right;\n",
       "    }\n",
       "</style>\n",
       "<table border=\"1\" class=\"dataframe\">\n",
       "  <thead>\n",
       "    <tr style=\"text-align: right;\">\n",
       "      <th></th>\n",
       "      <th>ids</th>\n",
       "      <th>labels</th>\n",
       "      <th>parents</th>\n",
       "    </tr>\n",
       "  </thead>\n",
       "  <tbody>\n",
       "    <tr>\n",
       "      <th>0</th>\n",
       "      <td>Coffee</td>\n",
       "      <td>Coffee Flavors</td>\n",
       "      <td>NaN</td>\n",
       "    </tr>\n",
       "    <tr>\n",
       "      <th>1</th>\n",
       "      <td>Aromas</td>\n",
       "      <td>Aromas</td>\n",
       "      <td>Coffee</td>\n",
       "    </tr>\n",
       "    <tr>\n",
       "      <th>2</th>\n",
       "      <td>Tastes</td>\n",
       "      <td>Tastes</td>\n",
       "      <td>Coffee</td>\n",
       "    </tr>\n",
       "    <tr>\n",
       "      <th>3</th>\n",
       "      <td>Aromas-Enzymatic</td>\n",
       "      <td>Enzymatic</td>\n",
       "      <td>Aromas</td>\n",
       "    </tr>\n",
       "    <tr>\n",
       "      <th>4</th>\n",
       "      <td>Aromas-Sugar Browning</td>\n",
       "      <td>Sugar Browning</td>\n",
       "      <td>Aromas</td>\n",
       "    </tr>\n",
       "  </tbody>\n",
       "</table>\n",
       "</div>"
      ],
      "text/plain": [
       "                     ids          labels parents\n",
       "0                 Coffee  Coffee Flavors     NaN\n",
       "1                 Aromas          Aromas  Coffee\n",
       "2                 Tastes          Tastes  Coffee\n",
       "3       Aromas-Enzymatic       Enzymatic  Aromas\n",
       "4  Aromas-Sugar Browning  Sugar Browning  Aromas"
      ]
     },
     "execution_count": 13,
     "metadata": {},
     "output_type": "execute_result"
    }
   ],
   "source": [
    "df.head()"
   ]
  },
  {
   "attachments": {},
   "cell_type": "markdown",
   "metadata": {},
   "source": [
    "### Tree map for real dataset "
   ]
  },
  {
   "cell_type": "code",
   "execution_count": 144,
   "metadata": {},
   "outputs": [],
   "source": [
    "import plotly.graph_objects as go \n",
    "from plotly.subplots import make_subplots \n",
    "import pandas as pd \n",
    "\n",
    "df = pd.read_pickle('explore_dataset/listings.pkl')"
   ]
  },
  {
   "cell_type": "code",
   "execution_count": 148,
   "metadata": {},
   "outputs": [],
   "source": [
    "df.dropna(subset=['room_type','host_is_superhost', 'neighbourhood_group_cleansed'], inplace=True)\n",
    "df = df.reset_index()"
   ]
  },
  {
   "cell_type": "code",
   "execution_count": 152,
   "metadata": {},
   "outputs": [],
   "source": [
    "df['num_count'] = pd.Series(np.repeat(1, len(df)))\n",
    "df.num_count\n",
    "df = df[['room_type','host_is_superhost', 'neighbourhood_group_cleansed', 'num_count']]"
   ]
  },
  {
   "cell_type": "code",
   "execution_count": 158,
   "metadata": {},
   "outputs": [
    {
     "data": {
      "text/html": [
       "<div>\n",
       "<style scoped>\n",
       "    .dataframe tbody tr th:only-of-type {\n",
       "        vertical-align: middle;\n",
       "    }\n",
       "\n",
       "    .dataframe tbody tr th {\n",
       "        vertical-align: top;\n",
       "    }\n",
       "\n",
       "    .dataframe thead th {\n",
       "        text-align: right;\n",
       "    }\n",
       "</style>\n",
       "<table border=\"1\" class=\"dataframe\">\n",
       "  <thead>\n",
       "    <tr style=\"text-align: right;\">\n",
       "      <th></th>\n",
       "      <th>id</th>\n",
       "      <th>parent</th>\n",
       "      <th>value</th>\n",
       "    </tr>\n",
       "  </thead>\n",
       "  <tbody>\n",
       "    <tr>\n",
       "      <th>0</th>\n",
       "      <td>Entire home/apt</td>\n",
       "      <td>f</td>\n",
       "      <td>536</td>\n",
       "    </tr>\n",
       "    <tr>\n",
       "      <th>1</th>\n",
       "      <td>Entire home/apt</td>\n",
       "      <td>f</td>\n",
       "      <td>6145</td>\n",
       "    </tr>\n",
       "    <tr>\n",
       "      <th>2</th>\n",
       "      <td>Entire home/apt</td>\n",
       "      <td>f</td>\n",
       "      <td>9115</td>\n",
       "    </tr>\n",
       "    <tr>\n",
       "      <th>3</th>\n",
       "      <td>Entire home/apt</td>\n",
       "      <td>f</td>\n",
       "      <td>1926</td>\n",
       "    </tr>\n",
       "    <tr>\n",
       "      <th>4</th>\n",
       "      <td>Entire home/apt</td>\n",
       "      <td>f</td>\n",
       "      <td>158</td>\n",
       "    </tr>\n",
       "    <tr>\n",
       "      <th>5</th>\n",
       "      <td>Entire home/apt</td>\n",
       "      <td>t</td>\n",
       "      <td>200</td>\n",
       "    </tr>\n",
       "    <tr>\n",
       "      <th>6</th>\n",
       "      <td>Entire home/apt</td>\n",
       "      <td>t</td>\n",
       "      <td>2009</td>\n",
       "    </tr>\n",
       "    <tr>\n",
       "      <th>7</th>\n",
       "      <td>Entire home/apt</td>\n",
       "      <td>t</td>\n",
       "      <td>1747</td>\n",
       "    </tr>\n",
       "    <tr>\n",
       "      <th>8</th>\n",
       "      <td>Entire home/apt</td>\n",
       "      <td>t</td>\n",
       "      <td>810</td>\n",
       "    </tr>\n",
       "    <tr>\n",
       "      <th>9</th>\n",
       "      <td>Entire home/apt</td>\n",
       "      <td>t</td>\n",
       "      <td>115</td>\n",
       "    </tr>\n",
       "    <tr>\n",
       "      <th>10</th>\n",
       "      <td>Hotel room</td>\n",
       "      <td>f</td>\n",
       "      <td>1</td>\n",
       "    </tr>\n",
       "    <tr>\n",
       "      <th>11</th>\n",
       "      <td>Hotel room</td>\n",
       "      <td>f</td>\n",
       "      <td>133</td>\n",
       "    </tr>\n",
       "    <tr>\n",
       "      <th>12</th>\n",
       "      <td>Hotel room</td>\n",
       "      <td>f</td>\n",
       "      <td>8</td>\n",
       "    </tr>\n",
       "    <tr>\n",
       "      <th>13</th>\n",
       "      <td>Hotel room</td>\n",
       "      <td>t</td>\n",
       "      <td>4</td>\n",
       "    </tr>\n",
       "    <tr>\n",
       "      <th>14</th>\n",
       "      <td>Hotel room</td>\n",
       "      <td>t</td>\n",
       "      <td>27</td>\n",
       "    </tr>\n",
       "    <tr>\n",
       "      <th>15</th>\n",
       "      <td>Private room</td>\n",
       "      <td>f</td>\n",
       "      <td>587</td>\n",
       "    </tr>\n",
       "    <tr>\n",
       "      <th>16</th>\n",
       "      <td>Private room</td>\n",
       "      <td>f</td>\n",
       "      <td>5163</td>\n",
       "    </tr>\n",
       "    <tr>\n",
       "      <th>17</th>\n",
       "      <td>Private room</td>\n",
       "      <td>f</td>\n",
       "      <td>4650</td>\n",
       "    </tr>\n",
       "    <tr>\n",
       "      <th>18</th>\n",
       "      <td>Private room</td>\n",
       "      <td>f</td>\n",
       "      <td>2613</td>\n",
       "    </tr>\n",
       "    <tr>\n",
       "      <th>19</th>\n",
       "      <td>Private room</td>\n",
       "      <td>f</td>\n",
       "      <td>129</td>\n",
       "    </tr>\n",
       "    <tr>\n",
       "      <th>20</th>\n",
       "      <td>Private room</td>\n",
       "      <td>t</td>\n",
       "      <td>206</td>\n",
       "    </tr>\n",
       "    <tr>\n",
       "      <th>21</th>\n",
       "      <td>Private room</td>\n",
       "      <td>t</td>\n",
       "      <td>1347</td>\n",
       "    </tr>\n",
       "    <tr>\n",
       "      <th>22</th>\n",
       "      <td>Private room</td>\n",
       "      <td>t</td>\n",
       "      <td>902</td>\n",
       "    </tr>\n",
       "    <tr>\n",
       "      <th>23</th>\n",
       "      <td>Private room</td>\n",
       "      <td>t</td>\n",
       "      <td>721</td>\n",
       "    </tr>\n",
       "    <tr>\n",
       "      <th>24</th>\n",
       "      <td>Private room</td>\n",
       "      <td>t</td>\n",
       "      <td>43</td>\n",
       "    </tr>\n",
       "    <tr>\n",
       "      <th>25</th>\n",
       "      <td>Shared room</td>\n",
       "      <td>f</td>\n",
       "      <td>38</td>\n",
       "    </tr>\n",
       "    <tr>\n",
       "      <th>26</th>\n",
       "      <td>Shared room</td>\n",
       "      <td>f</td>\n",
       "      <td>156</td>\n",
       "    </tr>\n",
       "    <tr>\n",
       "      <th>27</th>\n",
       "      <td>Shared room</td>\n",
       "      <td>f</td>\n",
       "      <td>231</td>\n",
       "    </tr>\n",
       "    <tr>\n",
       "      <th>28</th>\n",
       "      <td>Shared room</td>\n",
       "      <td>f</td>\n",
       "      <td>91</td>\n",
       "    </tr>\n",
       "    <tr>\n",
       "      <th>29</th>\n",
       "      <td>Shared room</td>\n",
       "      <td>f</td>\n",
       "      <td>1</td>\n",
       "    </tr>\n",
       "    <tr>\n",
       "      <th>30</th>\n",
       "      <td>Shared room</td>\n",
       "      <td>t</td>\n",
       "      <td>16</td>\n",
       "    </tr>\n",
       "    <tr>\n",
       "      <th>31</th>\n",
       "      <td>Shared room</td>\n",
       "      <td>t</td>\n",
       "      <td>19</td>\n",
       "    </tr>\n",
       "    <tr>\n",
       "      <th>32</th>\n",
       "      <td>Shared room</td>\n",
       "      <td>t</td>\n",
       "      <td>5</td>\n",
       "    </tr>\n",
       "    <tr>\n",
       "      <th>33</th>\n",
       "      <td>f</td>\n",
       "      <td>Bronx</td>\n",
       "      <td>1161</td>\n",
       "    </tr>\n",
       "    <tr>\n",
       "      <th>34</th>\n",
       "      <td>f</td>\n",
       "      <td>Brooklyn</td>\n",
       "      <td>11465</td>\n",
       "    </tr>\n",
       "    <tr>\n",
       "      <th>35</th>\n",
       "      <td>f</td>\n",
       "      <td>Manhattan</td>\n",
       "      <td>14129</td>\n",
       "    </tr>\n",
       "    <tr>\n",
       "      <th>36</th>\n",
       "      <td>f</td>\n",
       "      <td>Queens</td>\n",
       "      <td>4638</td>\n",
       "    </tr>\n",
       "    <tr>\n",
       "      <th>37</th>\n",
       "      <td>f</td>\n",
       "      <td>Staten Island</td>\n",
       "      <td>288</td>\n",
       "    </tr>\n",
       "    <tr>\n",
       "      <th>38</th>\n",
       "      <td>t</td>\n",
       "      <td>Bronx</td>\n",
       "      <td>406</td>\n",
       "    </tr>\n",
       "    <tr>\n",
       "      <th>39</th>\n",
       "      <td>t</td>\n",
       "      <td>Brooklyn</td>\n",
       "      <td>3376</td>\n",
       "    </tr>\n",
       "    <tr>\n",
       "      <th>40</th>\n",
       "      <td>t</td>\n",
       "      <td>Manhattan</td>\n",
       "      <td>2695</td>\n",
       "    </tr>\n",
       "    <tr>\n",
       "      <th>41</th>\n",
       "      <td>t</td>\n",
       "      <td>Queens</td>\n",
       "      <td>1536</td>\n",
       "    </tr>\n",
       "    <tr>\n",
       "      <th>42</th>\n",
       "      <td>t</td>\n",
       "      <td>Staten Island</td>\n",
       "      <td>158</td>\n",
       "    </tr>\n",
       "    <tr>\n",
       "      <th>43</th>\n",
       "      <td>Bronx</td>\n",
       "      <td>total</td>\n",
       "      <td>1567</td>\n",
       "    </tr>\n",
       "    <tr>\n",
       "      <th>44</th>\n",
       "      <td>Brooklyn</td>\n",
       "      <td>total</td>\n",
       "      <td>14841</td>\n",
       "    </tr>\n",
       "    <tr>\n",
       "      <th>45</th>\n",
       "      <td>Manhattan</td>\n",
       "      <td>total</td>\n",
       "      <td>16824</td>\n",
       "    </tr>\n",
       "    <tr>\n",
       "      <th>46</th>\n",
       "      <td>Queens</td>\n",
       "      <td>total</td>\n",
       "      <td>6174</td>\n",
       "    </tr>\n",
       "    <tr>\n",
       "      <th>47</th>\n",
       "      <td>Staten Island</td>\n",
       "      <td>total</td>\n",
       "      <td>446</td>\n",
       "    </tr>\n",
       "    <tr>\n",
       "      <th>48</th>\n",
       "      <td>total</td>\n",
       "      <td></td>\n",
       "      <td>39852</td>\n",
       "    </tr>\n",
       "  </tbody>\n",
       "</table>\n",
       "</div>"
      ],
      "text/plain": [
       "                 id         parent  value\n",
       "0   Entire home/apt              f    536\n",
       "1   Entire home/apt              f   6145\n",
       "2   Entire home/apt              f   9115\n",
       "3   Entire home/apt              f   1926\n",
       "4   Entire home/apt              f    158\n",
       "5   Entire home/apt              t    200\n",
       "6   Entire home/apt              t   2009\n",
       "7   Entire home/apt              t   1747\n",
       "8   Entire home/apt              t    810\n",
       "9   Entire home/apt              t    115\n",
       "10       Hotel room              f      1\n",
       "11       Hotel room              f    133\n",
       "12       Hotel room              f      8\n",
       "13       Hotel room              t      4\n",
       "14       Hotel room              t     27\n",
       "15     Private room              f    587\n",
       "16     Private room              f   5163\n",
       "17     Private room              f   4650\n",
       "18     Private room              f   2613\n",
       "19     Private room              f    129\n",
       "20     Private room              t    206\n",
       "21     Private room              t   1347\n",
       "22     Private room              t    902\n",
       "23     Private room              t    721\n",
       "24     Private room              t     43\n",
       "25      Shared room              f     38\n",
       "26      Shared room              f    156\n",
       "27      Shared room              f    231\n",
       "28      Shared room              f     91\n",
       "29      Shared room              f      1\n",
       "30      Shared room              t     16\n",
       "31      Shared room              t     19\n",
       "32      Shared room              t      5\n",
       "33                f          Bronx   1161\n",
       "34                f       Brooklyn  11465\n",
       "35                f      Manhattan  14129\n",
       "36                f         Queens   4638\n",
       "37                f  Staten Island    288\n",
       "38                t          Bronx    406\n",
       "39                t       Brooklyn   3376\n",
       "40                t      Manhattan   2695\n",
       "41                t         Queens   1536\n",
       "42                t  Staten Island    158\n",
       "43            Bronx          total   1567\n",
       "44         Brooklyn          total  14841\n",
       "45        Manhattan          total  16824\n",
       "46           Queens          total   6174\n",
       "47    Staten Island          total    446\n",
       "48            total                 39852"
      ]
     },
     "execution_count": 158,
     "metadata": {},
     "output_type": "execute_result"
    }
   ],
   "source": [
    "levels = ['room_type', 'host_is_superhost', 'neighbourhood_group_cleansed']\n",
    "\n",
    "def build_hierarchical_dataframe_modified(df, levels):\n",
    "    df_all_trees = pd.DataFrame(columns=['id', 'parent', 'value'])\n",
    "    for i, level in enumerate(levels):\n",
    "        df_tree = pd.DataFrame(columns=['id', 'parent', 'value'])\n",
    "        dfg = df.groupby(levels[i:]).sum()\n",
    "        dfg = dfg.reset_index()\n",
    "        df_tree['id'] = dfg[level].copy()\n",
    "        if i < len(levels) - 1:\n",
    "            df_tree['parent'] = dfg[levels[i+1]].copy()\n",
    "        else:\n",
    "            df_tree['parent'] = 'total'\n",
    "        df_tree['value'] = dfg['num_count'] \n",
    "        df_all_trees = df_all_trees.append(df_tree, ignore_index=True)\n",
    "    total = pd.Series(\n",
    "        dict(\n",
    "            id='total', \n",
    "            parent='', \n",
    "            value=len(df),\n",
    "        )\n",
    "    )\n",
    "    df_all_trees = df_all_trees.append(total, ignore_index=True)\n",
    "    return df_all_trees\n",
    "df_all_trees = build_hierarchical_dataframe_modified(df, levels)\n",
    "df_all_trees\n"
   ]
  },
  {
   "cell_type": "code",
   "execution_count": 157,
   "metadata": {},
   "outputs": [
    {
     "data": {
      "application/vnd.plotly.v1+json": {
       "config": {
        "plotlyServerURL": "https://plot.ly"
       },
       "data": [
        {
         "branchvalues": "total",
         "hovertemplate": "<b>%{label} </b> <br> Sales: %{value}<br>",
         "labels": [
          "Hotel room",
          "Hotel room",
          "Hotel room",
          "Hotel room",
          "Hotel room",
          "Private room",
          "Private room",
          "Private room",
          "Private room",
          "Private room",
          "Private room",
          "Private room",
          "Private room",
          "Private room",
          "Private room",
          "Shared room",
          "Shared room",
          "Shared room",
          "Shared room",
          "Shared room",
          "Shared room",
          "Shared room",
          "Shared room",
          "f",
          "f",
          "f",
          "f",
          "f",
          "t",
          "t",
          "t",
          "t",
          "t",
          "Bronx",
          "Brooklyn",
          "Manhattan",
          "Queens",
          "Staten Island",
          "total"
         ],
         "maxdepth": -1,
         "name": "",
         "parents": [
          "f",
          "f",
          "f",
          "t",
          "t",
          "f",
          "f",
          "f",
          "f",
          "f",
          "t",
          "t",
          "t",
          "t",
          "t",
          "f",
          "f",
          "f",
          "f",
          "f",
          "t",
          "t",
          "t",
          "Bronx",
          "Brooklyn",
          "Manhattan",
          "Queens",
          "Staten Island",
          "Bronx",
          "Brooklyn",
          "Manhattan",
          "Queens",
          "Staten Island",
          "total",
          "total",
          "total",
          "total",
          "total",
          ""
         ],
         "type": "treemap",
         "values": [
          1,
          133,
          8,
          4,
          27,
          587,
          5163,
          4650,
          2613,
          129,
          206,
          1347,
          902,
          721,
          43,
          38,
          156,
          231,
          91,
          1,
          16,
          19,
          5,
          1161,
          11465,
          14129,
          4638,
          288,
          406,
          3376,
          2695,
          1536,
          158,
          1567,
          14841,
          16824,
          6174,
          446,
          39852
         ]
        }
       ],
       "layout": {
        "margin": {
         "b": 25,
         "l": 25,
         "r": 25,
         "t": 50
        },
        "template": {
         "data": {
          "bar": [
           {
            "error_x": {
             "color": "#2a3f5f"
            },
            "error_y": {
             "color": "#2a3f5f"
            },
            "marker": {
             "line": {
              "color": "#E5ECF6",
              "width": 0.5
             },
             "pattern": {
              "fillmode": "overlay",
              "size": 10,
              "solidity": 0.2
             }
            },
            "type": "bar"
           }
          ],
          "barpolar": [
           {
            "marker": {
             "line": {
              "color": "#E5ECF6",
              "width": 0.5
             },
             "pattern": {
              "fillmode": "overlay",
              "size": 10,
              "solidity": 0.2
             }
            },
            "type": "barpolar"
           }
          ],
          "carpet": [
           {
            "aaxis": {
             "endlinecolor": "#2a3f5f",
             "gridcolor": "white",
             "linecolor": "white",
             "minorgridcolor": "white",
             "startlinecolor": "#2a3f5f"
            },
            "baxis": {
             "endlinecolor": "#2a3f5f",
             "gridcolor": "white",
             "linecolor": "white",
             "minorgridcolor": "white",
             "startlinecolor": "#2a3f5f"
            },
            "type": "carpet"
           }
          ],
          "choropleth": [
           {
            "colorbar": {
             "outlinewidth": 0,
             "ticks": ""
            },
            "type": "choropleth"
           }
          ],
          "contour": [
           {
            "colorbar": {
             "outlinewidth": 0,
             "ticks": ""
            },
            "colorscale": [
             [
              0,
              "#0d0887"
             ],
             [
              0.1111111111111111,
              "#46039f"
             ],
             [
              0.2222222222222222,
              "#7201a8"
             ],
             [
              0.3333333333333333,
              "#9c179e"
             ],
             [
              0.4444444444444444,
              "#bd3786"
             ],
             [
              0.5555555555555556,
              "#d8576b"
             ],
             [
              0.6666666666666666,
              "#ed7953"
             ],
             [
              0.7777777777777778,
              "#fb9f3a"
             ],
             [
              0.8888888888888888,
              "#fdca26"
             ],
             [
              1,
              "#f0f921"
             ]
            ],
            "type": "contour"
           }
          ],
          "contourcarpet": [
           {
            "colorbar": {
             "outlinewidth": 0,
             "ticks": ""
            },
            "type": "contourcarpet"
           }
          ],
          "heatmap": [
           {
            "colorbar": {
             "outlinewidth": 0,
             "ticks": ""
            },
            "colorscale": [
             [
              0,
              "#0d0887"
             ],
             [
              0.1111111111111111,
              "#46039f"
             ],
             [
              0.2222222222222222,
              "#7201a8"
             ],
             [
              0.3333333333333333,
              "#9c179e"
             ],
             [
              0.4444444444444444,
              "#bd3786"
             ],
             [
              0.5555555555555556,
              "#d8576b"
             ],
             [
              0.6666666666666666,
              "#ed7953"
             ],
             [
              0.7777777777777778,
              "#fb9f3a"
             ],
             [
              0.8888888888888888,
              "#fdca26"
             ],
             [
              1,
              "#f0f921"
             ]
            ],
            "type": "heatmap"
           }
          ],
          "heatmapgl": [
           {
            "colorbar": {
             "outlinewidth": 0,
             "ticks": ""
            },
            "colorscale": [
             [
              0,
              "#0d0887"
             ],
             [
              0.1111111111111111,
              "#46039f"
             ],
             [
              0.2222222222222222,
              "#7201a8"
             ],
             [
              0.3333333333333333,
              "#9c179e"
             ],
             [
              0.4444444444444444,
              "#bd3786"
             ],
             [
              0.5555555555555556,
              "#d8576b"
             ],
             [
              0.6666666666666666,
              "#ed7953"
             ],
             [
              0.7777777777777778,
              "#fb9f3a"
             ],
             [
              0.8888888888888888,
              "#fdca26"
             ],
             [
              1,
              "#f0f921"
             ]
            ],
            "type": "heatmapgl"
           }
          ],
          "histogram": [
           {
            "marker": {
             "pattern": {
              "fillmode": "overlay",
              "size": 10,
              "solidity": 0.2
             }
            },
            "type": "histogram"
           }
          ],
          "histogram2d": [
           {
            "colorbar": {
             "outlinewidth": 0,
             "ticks": ""
            },
            "colorscale": [
             [
              0,
              "#0d0887"
             ],
             [
              0.1111111111111111,
              "#46039f"
             ],
             [
              0.2222222222222222,
              "#7201a8"
             ],
             [
              0.3333333333333333,
              "#9c179e"
             ],
             [
              0.4444444444444444,
              "#bd3786"
             ],
             [
              0.5555555555555556,
              "#d8576b"
             ],
             [
              0.6666666666666666,
              "#ed7953"
             ],
             [
              0.7777777777777778,
              "#fb9f3a"
             ],
             [
              0.8888888888888888,
              "#fdca26"
             ],
             [
              1,
              "#f0f921"
             ]
            ],
            "type": "histogram2d"
           }
          ],
          "histogram2dcontour": [
           {
            "colorbar": {
             "outlinewidth": 0,
             "ticks": ""
            },
            "colorscale": [
             [
              0,
              "#0d0887"
             ],
             [
              0.1111111111111111,
              "#46039f"
             ],
             [
              0.2222222222222222,
              "#7201a8"
             ],
             [
              0.3333333333333333,
              "#9c179e"
             ],
             [
              0.4444444444444444,
              "#bd3786"
             ],
             [
              0.5555555555555556,
              "#d8576b"
             ],
             [
              0.6666666666666666,
              "#ed7953"
             ],
             [
              0.7777777777777778,
              "#fb9f3a"
             ],
             [
              0.8888888888888888,
              "#fdca26"
             ],
             [
              1,
              "#f0f921"
             ]
            ],
            "type": "histogram2dcontour"
           }
          ],
          "mesh3d": [
           {
            "colorbar": {
             "outlinewidth": 0,
             "ticks": ""
            },
            "type": "mesh3d"
           }
          ],
          "parcoords": [
           {
            "line": {
             "colorbar": {
              "outlinewidth": 0,
              "ticks": ""
             }
            },
            "type": "parcoords"
           }
          ],
          "pie": [
           {
            "automargin": true,
            "type": "pie"
           }
          ],
          "scatter": [
           {
            "fillpattern": {
             "fillmode": "overlay",
             "size": 10,
             "solidity": 0.2
            },
            "type": "scatter"
           }
          ],
          "scatter3d": [
           {
            "line": {
             "colorbar": {
              "outlinewidth": 0,
              "ticks": ""
             }
            },
            "marker": {
             "colorbar": {
              "outlinewidth": 0,
              "ticks": ""
             }
            },
            "type": "scatter3d"
           }
          ],
          "scattercarpet": [
           {
            "marker": {
             "colorbar": {
              "outlinewidth": 0,
              "ticks": ""
             }
            },
            "type": "scattercarpet"
           }
          ],
          "scattergeo": [
           {
            "marker": {
             "colorbar": {
              "outlinewidth": 0,
              "ticks": ""
             }
            },
            "type": "scattergeo"
           }
          ],
          "scattergl": [
           {
            "marker": {
             "colorbar": {
              "outlinewidth": 0,
              "ticks": ""
             }
            },
            "type": "scattergl"
           }
          ],
          "scattermapbox": [
           {
            "marker": {
             "colorbar": {
              "outlinewidth": 0,
              "ticks": ""
             }
            },
            "type": "scattermapbox"
           }
          ],
          "scatterpolar": [
           {
            "marker": {
             "colorbar": {
              "outlinewidth": 0,
              "ticks": ""
             }
            },
            "type": "scatterpolar"
           }
          ],
          "scatterpolargl": [
           {
            "marker": {
             "colorbar": {
              "outlinewidth": 0,
              "ticks": ""
             }
            },
            "type": "scatterpolargl"
           }
          ],
          "scatterternary": [
           {
            "marker": {
             "colorbar": {
              "outlinewidth": 0,
              "ticks": ""
             }
            },
            "type": "scatterternary"
           }
          ],
          "surface": [
           {
            "colorbar": {
             "outlinewidth": 0,
             "ticks": ""
            },
            "colorscale": [
             [
              0,
              "#0d0887"
             ],
             [
              0.1111111111111111,
              "#46039f"
             ],
             [
              0.2222222222222222,
              "#7201a8"
             ],
             [
              0.3333333333333333,
              "#9c179e"
             ],
             [
              0.4444444444444444,
              "#bd3786"
             ],
             [
              0.5555555555555556,
              "#d8576b"
             ],
             [
              0.6666666666666666,
              "#ed7953"
             ],
             [
              0.7777777777777778,
              "#fb9f3a"
             ],
             [
              0.8888888888888888,
              "#fdca26"
             ],
             [
              1,
              "#f0f921"
             ]
            ],
            "type": "surface"
           }
          ],
          "table": [
           {
            "cells": {
             "fill": {
              "color": "#EBF0F8"
             },
             "line": {
              "color": "white"
             }
            },
            "header": {
             "fill": {
              "color": "#C8D4E3"
             },
             "line": {
              "color": "white"
             }
            },
            "type": "table"
           }
          ]
         },
         "layout": {
          "annotationdefaults": {
           "arrowcolor": "#2a3f5f",
           "arrowhead": 0,
           "arrowwidth": 1
          },
          "autotypenumbers": "strict",
          "coloraxis": {
           "colorbar": {
            "outlinewidth": 0,
            "ticks": ""
           }
          },
          "colorscale": {
           "diverging": [
            [
             0,
             "#8e0152"
            ],
            [
             0.1,
             "#c51b7d"
            ],
            [
             0.2,
             "#de77ae"
            ],
            [
             0.3,
             "#f1b6da"
            ],
            [
             0.4,
             "#fde0ef"
            ],
            [
             0.5,
             "#f7f7f7"
            ],
            [
             0.6,
             "#e6f5d0"
            ],
            [
             0.7,
             "#b8e186"
            ],
            [
             0.8,
             "#7fbc41"
            ],
            [
             0.9,
             "#4d9221"
            ],
            [
             1,
             "#276419"
            ]
           ],
           "sequential": [
            [
             0,
             "#0d0887"
            ],
            [
             0.1111111111111111,
             "#46039f"
            ],
            [
             0.2222222222222222,
             "#7201a8"
            ],
            [
             0.3333333333333333,
             "#9c179e"
            ],
            [
             0.4444444444444444,
             "#bd3786"
            ],
            [
             0.5555555555555556,
             "#d8576b"
            ],
            [
             0.6666666666666666,
             "#ed7953"
            ],
            [
             0.7777777777777778,
             "#fb9f3a"
            ],
            [
             0.8888888888888888,
             "#fdca26"
            ],
            [
             1,
             "#f0f921"
            ]
           ],
           "sequentialminus": [
            [
             0,
             "#0d0887"
            ],
            [
             0.1111111111111111,
             "#46039f"
            ],
            [
             0.2222222222222222,
             "#7201a8"
            ],
            [
             0.3333333333333333,
             "#9c179e"
            ],
            [
             0.4444444444444444,
             "#bd3786"
            ],
            [
             0.5555555555555556,
             "#d8576b"
            ],
            [
             0.6666666666666666,
             "#ed7953"
            ],
            [
             0.7777777777777778,
             "#fb9f3a"
            ],
            [
             0.8888888888888888,
             "#fdca26"
            ],
            [
             1,
             "#f0f921"
            ]
           ]
          },
          "colorway": [
           "#636efa",
           "#EF553B",
           "#00cc96",
           "#ab63fa",
           "#FFA15A",
           "#19d3f3",
           "#FF6692",
           "#B6E880",
           "#FF97FF",
           "#FECB52"
          ],
          "font": {
           "color": "#2a3f5f"
          },
          "geo": {
           "bgcolor": "white",
           "lakecolor": "white",
           "landcolor": "#E5ECF6",
           "showlakes": true,
           "showland": true,
           "subunitcolor": "white"
          },
          "hoverlabel": {
           "align": "left"
          },
          "hovermode": "closest",
          "mapbox": {
           "style": "light"
          },
          "paper_bgcolor": "white",
          "plot_bgcolor": "#E5ECF6",
          "polar": {
           "angularaxis": {
            "gridcolor": "white",
            "linecolor": "white",
            "ticks": ""
           },
           "bgcolor": "#E5ECF6",
           "radialaxis": {
            "gridcolor": "white",
            "linecolor": "white",
            "ticks": ""
           }
          },
          "scene": {
           "xaxis": {
            "backgroundcolor": "#E5ECF6",
            "gridcolor": "white",
            "gridwidth": 2,
            "linecolor": "white",
            "showbackground": true,
            "ticks": "",
            "zerolinecolor": "white"
           },
           "yaxis": {
            "backgroundcolor": "#E5ECF6",
            "gridcolor": "white",
            "gridwidth": 2,
            "linecolor": "white",
            "showbackground": true,
            "ticks": "",
            "zerolinecolor": "white"
           },
           "zaxis": {
            "backgroundcolor": "#E5ECF6",
            "gridcolor": "white",
            "gridwidth": 2,
            "linecolor": "white",
            "showbackground": true,
            "ticks": "",
            "zerolinecolor": "white"
           }
          },
          "shapedefaults": {
           "line": {
            "color": "#2a3f5f"
           }
          },
          "ternary": {
           "aaxis": {
            "gridcolor": "white",
            "linecolor": "white",
            "ticks": ""
           },
           "baxis": {
            "gridcolor": "white",
            "linecolor": "white",
            "ticks": ""
           },
           "bgcolor": "#E5ECF6",
           "caxis": {
            "gridcolor": "white",
            "linecolor": "white",
            "ticks": ""
           }
          },
          "title": {
           "x": 0.05
          },
          "xaxis": {
           "automargin": true,
           "gridcolor": "white",
           "linecolor": "white",
           "ticks": "",
           "title": {
            "standoff": 15
           },
           "zerolinecolor": "white",
           "zerolinewidth": 2
          },
          "yaxis": {
           "automargin": true,
           "gridcolor": "white",
           "linecolor": "white",
           "ticks": "",
           "title": {
            "standoff": 15
           },
           "zerolinecolor": "white",
           "zerolinewidth": 2
          }
         }
        }
       }
      }
     },
     "metadata": {},
     "output_type": "display_data"
    }
   ],
   "source": [
    "fig = go.Figure()\n",
    "\n",
    "fig.add_trace(\n",
    "    go.Treemap(\n",
    "        labels=df_all_trees['id'],\n",
    "        parents=df_all_trees['parent'],\n",
    "        values=df_all_trees['value'],\n",
    "        branchvalues='total',\n",
    "        hovertemplate='<b>%{label} </b> <br> Sales: %{value}<br>',\n",
    "        maxdepth=-1,\n",
    "        name='',\n",
    "    )\n",
    ")\n",
    "fig.update_layout(margin = dict(t=50, l=25, r=25, b=25))\n",
    "fig.show()"
   ]
  },
  {
   "cell_type": "code",
   "execution_count": 59,
   "metadata": {},
   "outputs": [
    {
     "data": {
      "text/html": [
       "<div>\n",
       "<style scoped>\n",
       "    .dataframe tbody tr th:only-of-type {\n",
       "        vertical-align: middle;\n",
       "    }\n",
       "\n",
       "    .dataframe tbody tr th {\n",
       "        vertical-align: top;\n",
       "    }\n",
       "\n",
       "    .dataframe thead th {\n",
       "        text-align: right;\n",
       "    }\n",
       "</style>\n",
       "<table border=\"1\" class=\"dataframe\">\n",
       "  <thead>\n",
       "    <tr style=\"text-align: right;\">\n",
       "      <th></th>\n",
       "      <th>neighbourhood_group_cleansed</th>\n",
       "      <th>id</th>\n",
       "      <th>listing_url</th>\n",
       "      <th>scrape_id</th>\n",
       "      <th>last_scraped</th>\n",
       "      <th>source</th>\n",
       "      <th>name</th>\n",
       "      <th>description</th>\n",
       "      <th>neighborhood_overview</th>\n",
       "      <th>picture_url</th>\n",
       "      <th>...</th>\n",
       "      <th>review_scores_communication</th>\n",
       "      <th>review_scores_location</th>\n",
       "      <th>review_scores_value</th>\n",
       "      <th>instant_bookable</th>\n",
       "      <th>calculated_host_listings_count</th>\n",
       "      <th>calculated_host_listings_count_entire_homes</th>\n",
       "      <th>calculated_host_listings_count_private_rooms</th>\n",
       "      <th>calculated_host_listings_count_shared_rooms</th>\n",
       "      <th>reviews_per_month</th>\n",
       "      <th>price_cleansed</th>\n",
       "    </tr>\n",
       "  </thead>\n",
       "  <tbody>\n",
       "    <tr>\n",
       "      <th>0</th>\n",
       "      <td>Bronx</td>\n",
       "      <td>1567</td>\n",
       "      <td>1567</td>\n",
       "      <td>1567</td>\n",
       "      <td>1567</td>\n",
       "      <td>1567</td>\n",
       "      <td>1565</td>\n",
       "      <td>1510</td>\n",
       "      <td>915</td>\n",
       "      <td>1567</td>\n",
       "      <td>...</td>\n",
       "      <td>1283</td>\n",
       "      <td>1283</td>\n",
       "      <td>1283</td>\n",
       "      <td>1567</td>\n",
       "      <td>1567</td>\n",
       "      <td>1567</td>\n",
       "      <td>1567</td>\n",
       "      <td>1567</td>\n",
       "      <td>1295</td>\n",
       "      <td>1567</td>\n",
       "    </tr>\n",
       "    <tr>\n",
       "      <th>1</th>\n",
       "      <td>Brooklyn</td>\n",
       "      <td>14841</td>\n",
       "      <td>14841</td>\n",
       "      <td>14841</td>\n",
       "      <td>14841</td>\n",
       "      <td>14841</td>\n",
       "      <td>14838</td>\n",
       "      <td>14567</td>\n",
       "      <td>9031</td>\n",
       "      <td>14841</td>\n",
       "      <td>...</td>\n",
       "      <td>11958</td>\n",
       "      <td>11952</td>\n",
       "      <td>11952</td>\n",
       "      <td>14841</td>\n",
       "      <td>14841</td>\n",
       "      <td>14841</td>\n",
       "      <td>14841</td>\n",
       "      <td>14841</td>\n",
       "      <td>12133</td>\n",
       "      <td>14841</td>\n",
       "    </tr>\n",
       "    <tr>\n",
       "      <th>2</th>\n",
       "      <td>Manhattan</td>\n",
       "      <td>16824</td>\n",
       "      <td>16824</td>\n",
       "      <td>16824</td>\n",
       "      <td>16824</td>\n",
       "      <td>16824</td>\n",
       "      <td>16816</td>\n",
       "      <td>16551</td>\n",
       "      <td>9386</td>\n",
       "      <td>16824</td>\n",
       "      <td>...</td>\n",
       "      <td>12492</td>\n",
       "      <td>12487</td>\n",
       "      <td>12487</td>\n",
       "      <td>16824</td>\n",
       "      <td>16824</td>\n",
       "      <td>16824</td>\n",
       "      <td>16824</td>\n",
       "      <td>16824</td>\n",
       "      <td>12718</td>\n",
       "      <td>16824</td>\n",
       "    </tr>\n",
       "    <tr>\n",
       "      <th>3</th>\n",
       "      <td>Queens</td>\n",
       "      <td>6174</td>\n",
       "      <td>6174</td>\n",
       "      <td>6174</td>\n",
       "      <td>6174</td>\n",
       "      <td>6174</td>\n",
       "      <td>6174</td>\n",
       "      <td>5976</td>\n",
       "      <td>3860</td>\n",
       "      <td>6174</td>\n",
       "      <td>...</td>\n",
       "      <td>4933</td>\n",
       "      <td>4932</td>\n",
       "      <td>4932</td>\n",
       "      <td>6174</td>\n",
       "      <td>6174</td>\n",
       "      <td>6174</td>\n",
       "      <td>6174</td>\n",
       "      <td>6174</td>\n",
       "      <td>4977</td>\n",
       "      <td>6174</td>\n",
       "    </tr>\n",
       "    <tr>\n",
       "      <th>4</th>\n",
       "      <td>Staten Island</td>\n",
       "      <td>446</td>\n",
       "      <td>446</td>\n",
       "      <td>446</td>\n",
       "      <td>446</td>\n",
       "      <td>446</td>\n",
       "      <td>446</td>\n",
       "      <td>432</td>\n",
       "      <td>274</td>\n",
       "      <td>446</td>\n",
       "      <td>...</td>\n",
       "      <td>379</td>\n",
       "      <td>379</td>\n",
       "      <td>379</td>\n",
       "      <td>446</td>\n",
       "      <td>446</td>\n",
       "      <td>446</td>\n",
       "      <td>446</td>\n",
       "      <td>446</td>\n",
       "      <td>380</td>\n",
       "      <td>446</td>\n",
       "    </tr>\n",
       "  </tbody>\n",
       "</table>\n",
       "<p>5 rows × 73 columns</p>\n",
       "</div>"
      ],
      "text/plain": [
       "  neighbourhood_group_cleansed     id  listing_url  scrape_id  last_scraped  \\\n",
       "0                        Bronx   1567         1567       1567          1567   \n",
       "1                     Brooklyn  14841        14841      14841         14841   \n",
       "2                    Manhattan  16824        16824      16824         16824   \n",
       "3                       Queens   6174         6174       6174          6174   \n",
       "4                Staten Island    446          446        446           446   \n",
       "\n",
       "   source   name  description  neighborhood_overview  picture_url  ...  \\\n",
       "0    1567   1565         1510                    915         1567  ...   \n",
       "1   14841  14838        14567                   9031        14841  ...   \n",
       "2   16824  16816        16551                   9386        16824  ...   \n",
       "3    6174   6174         5976                   3860         6174  ...   \n",
       "4     446    446          432                    274          446  ...   \n",
       "\n",
       "   review_scores_communication  review_scores_location  review_scores_value  \\\n",
       "0                         1283                    1283                 1283   \n",
       "1                        11958                   11952                11952   \n",
       "2                        12492                   12487                12487   \n",
       "3                         4933                    4932                 4932   \n",
       "4                          379                     379                  379   \n",
       "\n",
       "   instant_bookable  calculated_host_listings_count  \\\n",
       "0              1567                            1567   \n",
       "1             14841                           14841   \n",
       "2             16824                           16824   \n",
       "3              6174                            6174   \n",
       "4               446                             446   \n",
       "\n",
       "   calculated_host_listings_count_entire_homes  \\\n",
       "0                                         1567   \n",
       "1                                        14841   \n",
       "2                                        16824   \n",
       "3                                         6174   \n",
       "4                                          446   \n",
       "\n",
       "   calculated_host_listings_count_private_rooms  \\\n",
       "0                                          1567   \n",
       "1                                         14841   \n",
       "2                                         16824   \n",
       "3                                          6174   \n",
       "4                                           446   \n",
       "\n",
       "   calculated_host_listings_count_shared_rooms  reviews_per_month  \\\n",
       "0                                         1567               1295   \n",
       "1                                        14841              12133   \n",
       "2                                        16824              12718   \n",
       "3                                         6174               4977   \n",
       "4                                          446                380   \n",
       "\n",
       "   price_cleansed  \n",
       "0            1567  \n",
       "1           14841  \n",
       "2           16824  \n",
       "3            6174  \n",
       "4             446  \n",
       "\n",
       "[5 rows x 73 columns]"
      ]
     },
     "execution_count": 59,
     "metadata": {},
     "output_type": "execute_result"
    }
   ],
   "source": [
    "df.groupby(levels[2:]).count().reset_index()"
   ]
  }
 ],
 "metadata": {
  "kernelspec": {
   "display_name": "Python 3",
   "language": "python",
   "name": "python3"
  },
  "language_info": {
   "codemirror_mode": {
    "name": "ipython",
    "version": 3
   },
   "file_extension": ".py",
   "mimetype": "text/x-python",
   "name": "python",
   "nbconvert_exporter": "python",
   "pygments_lexer": "ipython3",
   "version": "3.9.7"
  },
  "orig_nbformat": 4,
  "vscode": {
   "interpreter": {
    "hash": "f6c8f846148a3e4d140e6ddf63c190cff559dcf260a4a21539f0978f2b58638c"
   }
  }
 },
 "nbformat": 4,
 "nbformat_minor": 2
}
